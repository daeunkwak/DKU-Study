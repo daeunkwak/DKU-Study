{
  "nbformat": 4,
  "nbformat_minor": 0,
  "metadata": {
    "colab": {
      "name": "Item31-40.ipynb",
      "provenance": []
    },
    "kernelspec": {
      "name": "python3",
      "display_name": "Python 3"
    },
    "language_info": {
      "name": "python"
    }
  },
  "cells": [
    {
      "cell_type": "markdown",
      "source": [
        "### 31. 인자에 대해 이터레이션할 때는 방어적이 돼라\n",
        "* 이터레이터가 결과를 단 한번만 만들어내기 때문에 주의해야 한다"
      ],
      "metadata": {
        "id": "WDV7D444E1jX"
      }
    },
    {
      "cell_type": "code",
      "source": [
        "def read_visits(data_path):\n",
        "    with open(data_path) as f:\n",
        "        for line in f:\n",
        "            yield int(line)\n",
        "it = read_visits('my_numbers.txt')\n",
        "print(list(it))\n",
        "print(list(it))   # 이미 모든 원소를 다 소진"
      ],
      "metadata": {
        "id": "52Pc879eF6TC"
      },
      "execution_count": null,
      "outputs": []
    },
    {
      "cell_type": "code",
      "source": [
        "# 이터레이터 프로토콜을 구현한 컨테이너 클래스 사용\n",
        "class ReadVisit:\n",
        "    def __init__(self, data_path):\n",
        "        self.data_path = data_path\n",
        "\n",
        "    def __iter__(self):\n",
        "        with open(self.data_path) as f:\n",
        "            for line in f:\n",
        "                yield int(line)\n",
        "\n",
        "visits = ReadVisits(path)\n",
        "\n",
        "print(list(visits))\n",
        "print(list(visits))"
      ],
      "metadata": {
        "id": "UICVGVcvGVvy"
      },
      "execution_count": null,
      "outputs": []
    },
    {
      "cell_type": "markdown",
      "source": [
        "* 호출할 때마다 새로운 이터레이터를 반환하여 메모리를 줄일 수 있다\n",
        "* __iter __ 메서드를 제너레이터로 정의하면 쉽게 이터레이터 컨테이너 타입을 정의할 수 있다"
      ],
      "metadata": {
        "id": "IjlFKBauGBcE"
      }
    },
    {
      "cell_type": "markdown",
      "source": [
        "### 32. 긴 리스트 컴프리헨션보다는 제너레이터 식을 사용하라\n",
        "* 리스트 컴프리헨션은 메모리를 상당히 많이 사용한다는 단점이 있음 -> 프로그램 중단 가능\n",
        "* 따라서 **입력이 큰 경우에는 제너레이터 식 사용**하기 -> 매우 빠르게 실행, 메모리도 효율적이다\n",
        "\n",
        "제너레이터 식 : 리스트 컴프리헨션과 제너레이터를 일반화한 것"
      ],
      "metadata": {
        "id": "0hZEIPeAGcI2"
      }
    },
    {
      "cell_type": "code",
      "source": [
        "# 이렇게\n",
        "it = (len(x) for x in open('my_file.txt'))"
      ],
      "metadata": {
        "id": "pvWSpYfBG66m"
      },
      "execution_count": null,
      "outputs": []
    },
    {
      "cell_type": "markdown",
      "source": [
        "* 메모리 사용량이 많아질수록 리스트 컴프리헨션은 문제를 일으킬 수 있다\n",
        "* 제너레이터 식은 이터레이터처럼 한 번에 원소 하나씩 출력 -> 메모리 문제를 피할 수 있다\n"
      ],
      "metadata": {
        "id": "hqS75P8EaDIC"
      }
    },
    {
      "cell_type": "markdown",
      "source": [
        "### 33. yield from을 사용해 여러 제너레이터를 합성하라\n",
        "* 반복적 코드 줄이기"
      ],
      "metadata": {
        "id": "tLoTcjiPaTbU"
      }
    },
    {
      "cell_type": "code",
      "source": [
        "def move(period, speed):\n",
        "    for _ in range(period):\n",
        "        yield speed\n",
        "\n",
        "\n",
        "def pause(delay):\n",
        "    for _ in range(delay):\n",
        "        yield 0\n",
        "\n",
        "\n",
        "def animate():\n",
        "    for delta in move(4, 5.0):\n",
        "        yield delta\n",
        "    for delta in pause(3):\n",
        "        yield delta\n",
        "    for delta in move(2, 3.0):\n",
        "        yield delta\n",
        "\n",
        "# yield from 사용\n",
        "def animate():\n",
        "    yield from move(4, 5.0)\n",
        "    yield from pause(3)\n",
        "    yield from move(2, 3.0)\n"
      ],
      "metadata": {
        "id": "4pKu6CNWamAE"
      },
      "execution_count": null,
      "outputs": []
    },
    {
      "cell_type": "markdown",
      "source": [
        "* yield from -> 여러 내장 제너레이터를 모아서 하나로 합성\n",
        "* 각각의 제너레이터를 이터레이션하면서 출력하는 것 보다 성능이 좋다!"
      ],
      "metadata": {
        "id": "_zAavxNMa0sL"
      }
    },
    {
      "cell_type": "markdown",
      "source": [
        "### 34. send로 제너레이터에 데이터를 주입하지 말라\n",
        "* for루프나 next내장 함수로 제너레이터를 이터레이션 하지 않고 send메서드를 호출하면 None값을 뱉는 경우 발생   \n",
        "* ??????????"
      ],
      "metadata": {
        "id": "8ZqHcRhZbAaP"
      }
    },
    {
      "cell_type": "code",
      "source": [
        "it = iter(my_gen())\n",
        "output = it.send(None)\n",
        "print(output)\n",
        "\n",
        "try:\n",
        "    it.send(\"Hi\")\n",
        "except StopIteration:\n",
        "    pass"
      ],
      "metadata": {
        "id": "8zJgGibOdgqb"
      },
      "execution_count": null,
      "outputs": []
    },
    {
      "cell_type": "markdown",
      "source": [
        "### 35. 제너레이터 안에서 throw 상태를 변화시키지 말라\n",
        "* 제너레이터의 고급 기능 yield from과 send 메서드\n",
        "* 이 외에도 제너레이터 안에서 Exception을 다시 던질 수 있는 throw메서드가 있다.\n",
        "\n",
        "**작동 방식**\n",
        "어떤 제너레이터에 대해 throw 호출 -> 이 제너레이터는 값을 내놓은 yield로부터 평소처럼 제너레이터 실행을 계속하는 대신 throw가 제공한 Exception을 다시 던짐\n",
        "* 이 기능은 제너레이터, 제너레이터를 호출하는 쪽 사이 양방향 통신 수단을 제공함\n",
        "* 근데 throw는 되도록 사용하지 말고,, iter메소드를 구현해서 처리하도록 하자"
      ],
      "metadata": {
        "id": "4Lr7XSoRd77T"
      }
    },
    {
      "cell_type": "code",
      "source": [
        "# Reset 예외가 발생할 때마다 period 재설정\n",
        "class Reset(Exception):\n",
        "    pass\n",
        "\n",
        "def timer(period):\n",
        "    current = period\n",
        "    while current:\n",
        "        current -= 1\n",
        "        try:\n",
        "            yield current\n",
        "        except Reset:\n",
        "            current = period\n",
        "\n",
        "# 이터러블 클래스를 사용해서 예외처리하기\n",
        "class Timer:\n",
        "    def __init__(self, period):\n",
        "        self.current = period\n",
        "        self.period = period\n",
        "\n",
        "    def reset(self):\n",
        "        self.current = self.period\n",
        "\n",
        "    def __iter__:\n",
        "        while self.current:\n",
        "            self.current -= 1\n",
        "            yield self.current"
      ],
      "metadata": {
        "id": "GFuaTLkofIbc"
      },
      "execution_count": null,
      "outputs": []
    },
    {
      "cell_type": "markdown",
      "source": [
        "### 36. 이터레이터나 제너레이터를 다룰 때는 itertools를 사용하라\n",
        "* 복잡한 이터레이션 코드를 작성할 때 쓸만한 기능이 많다"
      ],
      "metadata": {
        "id": "R08jAJRmiGsQ"
      }
    },
    {
      "cell_type": "markdown",
      "source": [
        "### 37. 내장 타입을 여러 단계로 내포시키기보다는 클래스를 합성하라\n"
      ],
      "metadata": {
        "id": "th4YkZHii19t"
      }
    },
    {
      "cell_type": "code",
      "source": [
        "class SimpleGradeBook:\n",
        "    def __init__(self):\n",
        "        self._grades = {}\n",
        "\n",
        "    def add_student(self, name):\n",
        "        self._grades[name] = []\n",
        "\n",
        "    def report_grade(self, name, score):\n",
        "        self._grades[name].append(score)\n",
        "\n",
        "    def average_grade(self, name):\n",
        "        grades = self._grades[name]\n",
        "        return sum(grades) / len(grades)\n",
        "\n",
        "# 이런식으로 로직이 추가돼서 너무 복잡해진다면\n",
        "# 더이상 내장 타입을 사용하지 말고 클래스 계층 구조를 사용해야 한다\n",
        "class WeightedGradeBook:\n",
        "    def __init__(self):\n",
        "        self._grades = {}\n",
        "\n",
        "    def add_student(self, name):\n",
        "        self._grades[name] = defaultdict(list)\n",
        "\n",
        "    def report_grade(self, name, subject, score, weight):\n",
        "        by_subject = self._grades[name]\n",
        "        grade_list =  by_subject[subject]\n",
        "        grade_list.append((score, weight))\n",
        "\n",
        "    def average_grade(self, name, subject):\n",
        "        by_subject = self._grades[name]\n",
        "        score_sum = score_count = 0\n",
        "        for subject, score in by_subject.items():\n",
        "            subject_avg = total_weight = 0\n",
        "            for score , weight in subject:\n",
        "                subject_avg += score * weight\n",
        "                total_weight += weight\n",
        "            score_sum += subject_avg / total_weight\n",
        "            score_count += 1\n",
        "        return score_sum / score_count\n",
        "\n",
        "# 클래스를 활용한 리팩토링\n",
        "grades = []\n",
        "grades.append((95. 0.45))\n",
        "grades.append((85. 0.55))\n",
        "total = sum(score * weight for score, weight in grades)\n",
        "total_weight = sum(weight for _, weight in grades)"
      ],
      "metadata": {
        "id": "w8d56O2fi56b"
      },
      "execution_count": null,
      "outputs": []
    },
    {
      "cell_type": "code",
      "source": [
        "# 코드는 길어졌지만 더 읽기 쉽고 확장성이 좋음\n",
        "class Subject:\n",
        "    def __init__(self):\n",
        "        self._grades = []\n",
        "\n",
        "    def report_grade(self, score, weight):\n",
        "        self._grades.append(Grade(score, weight))\n",
        "\n",
        "    def average_grade(self):\n",
        "        total = total_weight = 0\n",
        "        for grade in self._grades: # grade: namedtuple\n",
        "            total += grade.score * grade.weight\n",
        "            total_weight += grade.weight\n",
        "        return total / total_weight\n",
        "\n",
        "class Student:\n",
        "    def __init__(self):\n",
        "        self._subjects = defaultdict(Subject)\n",
        "\n",
        "    def get_subject(self, name):\n",
        "        return self._subjects[name]\n",
        "\n",
        "    def average_grade(self):\n",
        "        total = count = 0\n",
        "        for subject in self._subjects.values():\n",
        "            total += subject.average_grade()\n",
        "            count += 1\n",
        "        return total / count\n",
        "\n",
        "class GradeBook:\n",
        "    def __init__(self):\n",
        "        self._students = defaultdict(Student)\n",
        "\n",
        "    def get_student(self, name):\n",
        "        return self._students[name]"
      ],
      "metadata": {
        "id": "wsLCEb3KksOy"
      },
      "execution_count": null,
      "outputs": []
    },
    {
      "cell_type": "markdown",
      "source": [
        "### 38. 간단한 인터페이스의 경우 클래스 대신 함수를 받아라\n",
        "* \"훅\" : 함수를 전달해서 동작을 원하는 대로 바꿀 수 있게 해주는 내부 API\n"
      ],
      "metadata": {
        "id": "HStUqBBrlOIc"
      }
    },
    {
      "cell_type": "markdown",
      "source": [
        "### 기타 내용들"
      ],
      "metadata": {
        "id": "vUXrf7C3h_jR"
      }
    },
    {
      "cell_type": "code",
      "source": [
        "# sympy 활용하기\n",
        "from sympy import *\n",
        "x = symbols('x')\n",
        "a = Integral(cos(x)*exp(x), x)\n",
        "a\n",
        "Eq(a, a.doit())"
      ],
      "metadata": {
        "colab": {
          "base_uri": "https://localhost:8080/",
          "height": 56
        },
        "id": "sfJWKUEkhwPw",
        "outputId": "5a197805-2784-4d47-8799-6fe4bc5a1dfe"
      },
      "execution_count": null,
      "outputs": [
        {
          "output_type": "execute_result",
          "data": {
            "text/plain": [
              "Eq(Integral(exp(x)*cos(x), x), exp(x)*sin(x)/2 + exp(x)*cos(x)/2)"
            ],
            "text/latex": "$\\displaystyle \\int e^{x} \\cos{\\left(x \\right)}\\, dx = \\frac{e^{x} \\sin{\\left(x \\right)}}{2} + \\frac{e^{x} \\cos{\\left(x \\right)}}{2}$"
          },
          "metadata": {},
          "execution_count": 3
        }
      ]
    }
  ]
}