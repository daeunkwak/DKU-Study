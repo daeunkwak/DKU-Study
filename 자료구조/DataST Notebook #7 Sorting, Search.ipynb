{
  "nbformat": 4,
  "nbformat_minor": 0,
  "metadata": {
    "colab": {
      "name": "DataST Notebook #7 Sorting, Search",
      "provenance": []
    },
    "kernelspec": {
      "name": "python3",
      "display_name": "Python 3"
    },
    "language_info": {
      "name": "python"
    }
  },
  "cells": [
    {
      "cell_type": "markdown",
      "metadata": {
        "id": "zLflqqPiTi9N"
      },
      "source": [
        "### 선택 정렬"
      ]
    },
    {
      "cell_type": "code",
      "metadata": {
        "id": "D0M68ARETkrO"
      },
      "source": [
        "# 올림차수 선택 정렬 알고리즘 -> 최솟값 교환\n",
        "def selection_sort(A) :\n",
        "  n = len(A)\n",
        "  for i in range (n - 1) :\n",
        "    least = i\n",
        "    # 최솟값 갱신\n",
        "    for j in range (i + 1, n) :\n",
        "      if A[j] < A[least] :\n",
        "        least = j\n",
        "    A[j], A[least] = A[least], A[i]"
      ],
      "execution_count": null,
      "outputs": []
    },
    {
      "cell_type": "markdown",
      "metadata": {
        "id": "XE8FWEK2ZMzT"
      },
      "source": [
        "### 삽입 정렬"
      ]
    },
    {
      "cell_type": "code",
      "metadata": {
        "id": "dYoPzsiSZNxJ"
      },
      "source": [
        "def insertion_sort(A) :\n",
        "  n = len(A)\n",
        "  for i in range (1, n) :\n",
        "    key = A[i]\n",
        "    j = i - 1\n",
        "    while j >= 0 and A[j] > key :\n",
        "      A[j + 1] = A[j]\n",
        "      j -= 1\n",
        "    A[j + 1] = key\n",
        "    print(A, i)\n"
      ],
      "execution_count": 2,
      "outputs": []
    },
    {
      "cell_type": "markdown",
      "metadata": {
        "id": "PBP4qgTgcXBi"
      },
      "source": [
        "### 버블 정렬"
      ]
    },
    {
      "cell_type": "code",
      "metadata": {
        "id": "htq7KntxZwaK"
      },
      "source": [
        "def bubble_sort(A) :\n",
        "  n = len(A)\n",
        "  for i in range (n - 1, 0, -1) :\n",
        "    bChanged = False\n",
        "    for j in range (i) :\n",
        "      if (A[j] > A[j + 1]) :\n",
        "        A[j], A[j + 1] = A[j + 1], A[j]\n",
        "        bChanged = True\n",
        "    if not bChanged :\n",
        "      break;"
      ],
      "execution_count": null,
      "outputs": []
    },
    {
      "cell_type": "markdown",
      "metadata": {
        "id": "_AIPZSOIlRbt"
      },
      "source": [
        "### 순차 탐색"
      ]
    },
    {
      "cell_type": "code",
      "metadata": {
        "id": "_fKHq6-nlStS"
      },
      "source": [
        "def sequential_search_for_list(A, key, low, high) :\n",
        "  for i in range (low, high + 1) :\n",
        "    if A[i] == key :\n",
        "      return i\n",
        "  return None\n",
        "\n",
        "import time\n",
        "\n",
        "def binary_search_for_list(A, key, low, high) :\n",
        "  if (low <= high) :\n",
        "    middle = (low, high + 1) // 2\n",
        "    if key == A[middle] :\n",
        "      return middle\n",
        "    elif key < A[middle] :\n",
        "      return binary_search_for_list(A, key, low, middle - 1)\n",
        "    else :\n",
        "      return binary_search_for_list(A, key, middle + 1, high)\n",
        "  return None\n"
      ],
      "execution_count": null,
      "outputs": []
    },
    {
      "cell_type": "markdown",
      "metadata": {
        "id": "oqlrSELF2J1u"
      },
      "source": [
        "### 이진 탐색"
      ]
    },
    {
      "cell_type": "code",
      "metadata": {
        "id": "aI-taCSktY1o"
      },
      "source": [
        "# 7.5\n",
        "class Entry:\n",
        "    def __init__(self, key, value):\n",
        "        self.key = key\n",
        "        self.value = value\n",
        "    def __str__(self):\n",
        "        return str(“%s:%s”%(self.key, self.value))\n",
        "class BinarySearchMap:\n",
        "    def __init__(self):\n",
        "        self.table = [] # Entry 객체를 담는 table이다.\n",
        "    def size(self):\n",
        "        return len(self.table)\n",
        "    def display(self, msg):\n",
        "        print(msg)\n",
        "        for entry in self.table:\n",
        "            print(” “, entry)\n",
        "\n",
        "    def insert(self, key, value):        # 이진 탐색을 위해 삽입 시 정렬을 수행한다.\n",
        "        for idx in range(len(self.table)):\n",
        "            if key < self.table[idx].key: # 삽입하려는 key 값과 해당 idx를 비교한다.\n",
        "                self.table.insert(idx, Entry(key, value))\n",
        "                return\n",
        "        self.table.append(Entry(key, value))\n",
        "\n",
        "    def search(self, key): # binary_search\n",
        "        pos = None\n",
        "        low = 0\n",
        "        high = self.size() - 1\n",
        "\n",
        "        while (low <= high):\n",
        "            middle = low + (high - low) // 2\n",
        "            if key == self.table[middle].key:\n",
        "                pos = middle\n",
        "                break\n",
        "            elif key < self.table[middle].key:\n",
        "                high = middle - 1\n",
        "            elif key > self.table[middle].key:\n",
        "                low = middle + 1\n",
        "        if pos is not None:\n",
        "            return self.table[pos]\n",
        "        else:\n",
        "            return None\n",
        "\n",
        "    def delete(self, key):\n",
        "        for i in range(self.size()):\n",
        "            if self.table[i].key == key:\n",
        "                self.table.pop(i)\n",
        "        return None"
      ],
      "execution_count": null,
      "outputs": []
    },
    {
      "cell_type": "markdown",
      "metadata": {
        "id": "yV_8fTjg2OAB"
      },
      "source": [
        "### 체이닝을 이용한 해시맵 선형조사법"
      ]
    },
    {
      "cell_type": "code",
      "metadata": {
        "id": "CDBdsYD02Q9P"
      },
      "source": [
        "class Entry:\n",
        "    def __init__(self, key, value):\n",
        "        self.key = key\n",
        "        self.value = value\n",
        "    def __str__(self):\n",
        "        return str(“%s:%s”%(self.key, self.value))\n",
        "\n",
        "class LinearProbingHashMap:\n",
        "    def __init__(self, M):\n",
        "        self.table = [None]*M     # M 크기의 Hash Table이다.\n",
        "        self.status = [None]*M    # 상태를 저장하는 status이다. 상태는 None과 use로 나뉜다.\n",
        "        self.M = M\n",
        "\n",
        "    def hashFn(self, key):        # 문자를 아스키 코드값으로 전환한 뒤 더하는 해쉬 함수이다.\n",
        "        sum = 0\n",
        "        for c in key:\n",
        "            sum = sum + ord(c)\n",
        "        return sum % self.M\n",
        "\n",
        "    def insert(self, key, value):\n",
        "        idx = self.hashFn(key)\n",
        "        initial_idx = idx         # 초기 idx 값을 저장한다.\n",
        "        loopcount = 0             # 1회 이상 반복하면 1을 저장한다.\n",
        "\n",
        "        while True:\n",
        "            idx = idx % self.M           # idx가 M보다 같거나 커지면 0으로 돌아온다.\n",
        "            if self.table[idx] is not None:      # Hash Table의 idx 위치에 값이 있다면,\n",
        "                idx = idx + 1                    # 다음 idx를 탐색한다.\n",
        "\n",
        "            else:      # Hash Table의 idx 위치에 값이 없다면,, -> linked list 사용\n",
        "                self.table[idx] = Entry(key, value)      # Entry 클래스를 사용해 삽입한다.\n",
        "                self.status[idx] = “use”               # 한번 삽입하면 사용된 버켓으로 간주한다. use에 대한 delete는 없다.\n",
        "                if loopcount == 0:             # 1회 이상 반복하지 않았다면 초기 위치에 한번에 들어간 것으로 간주한다.\n",
        "                    print(“insert: [%2d]” % initial_idx, self.table[idx])\n",
        "                else:            # 1회 이상 반복했다면 초기 idx에 값이 있어서 다른 idx를 탐색한 것으로 간주한다.\n",
        "                    print(“insert: [%2d] -> [%2d]” % (initial_idx, idx), self.table[idx]) # 원래 해쉬함수를 통해 나온 idx값에서 현재 들어가는 idx값을 표시 해준다.\n",
        "                return\n",
        "            if idx == initial_idx: # 만약 idx가 다시 처음 값으로 돌아온다면 table내에 삽입할 공간이 없는 것으로 간주한다.\n",
        "                print(“Hash Table is Full”)\n",
        "                return\n",
        "            loopcount = 1\n",
        "\n",
        "\n",
        "def search(self, key):\n",
        "        idx = self.hashFn(key)\n",
        "        initial_idx = idx # 초기 idx 값을 저장한다.\n",
        "\n",
        "        while True:\n",
        "            idx = idx % self.M                  # idx가 M보다 같거나 커지면 0으로 돌아온다.\n",
        "            if self.table[idx] is not None:     # Hash Table의 idx 위치에 값이 있다면,\n",
        "                if self.table[idx].key == key:  # idx 위치에 key값과 찾고자 하는 key값이 같다면,\n",
        "                    return self.table[idx]      # Hash Table의 idx를 반환한다.\n",
        "                else:                # Hash Table의 idx 위치에 값이 없다면,\n",
        "                    idx = idx + 1    # 다음 idx를 탐색한다.\n",
        "            else:          # Hash Table의 idx 위치에 값이 없다면,\n",
        "                if self.status[idx] is not None:    # 사용된 bucket인지 status를 통해 확인한다. 사용된 bucket이라면,\n",
        "                    idx = idx + 1     # 다음 idx를 탐색한다.\n",
        "                else:      # 사용된 bucket이 아니라면,\n",
        "                    return None      # None을 반환한다.\n",
        "            if idx == initial_idx:   # 만약 idx가 다시 처음 값으로 돌아온다면 table내에 해당 key가 없는 것으로 간주한다.\n",
        "                return None          # None을 반환한다.\n",
        "\n",
        "def delete(self, key):\n",
        "        if self.search(key) is None:                  # 해당 key값이 있는지 확인한다.\n",
        "            print(“Hash Table has Not Key: “, key)  # 없다면 삭제할 값이 존재하지 않는 것으로 간주한다.\n",
        "            return\n",
        "        idx = self.hashFn(key)\n",
        "        initial_idx = idx             # 초기 idx 값을 저장한다.\n",
        "        while True:\n",
        "            idx = idx % self.M        # idx가 M보다 같거나 커지면 0으로 돌아온다.\n",
        "            if self.table[idx] is not None:      # Hash Table의 idx 위치에 값이 있다면,\n",
        "                if self.table[idx].key == key:   # idx 위치에 key값과 삭제하고자 하는 key값이 같다면,\n",
        "                    self.table[idx] = None       # idx 위치에 None 객체를 넣어준다.\n",
        "                    return\n",
        "                else:                # idx 위치에 key값과 삭제하고자 하는 key값이 같지 않다면,\n",
        "                    idx = idx + 1    # 다음 idx를 탐색한다.\n",
        "            else:               # Hash Table의 idx 위치에 값이 없다면,\n",
        "                idx = idx + 1   # 다음 idx를 탐색한다.\n",
        "                \n",
        "    def display(self, msg):\n",
        "        print(msg)\n",
        "        for idx in range(self.M):\n",
        "            if self.table[idx] is not None:\n",
        "                print(“[%2d]” % idx, self.table[idx])"
      ],
      "execution_count": null,
      "outputs": []
    }
  ]
}