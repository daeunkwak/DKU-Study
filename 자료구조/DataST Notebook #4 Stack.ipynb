{
  "nbformat": 4,
  "nbformat_minor": 0,
  "metadata": {
    "colab": {
      "name": "DataST Notebook  #4 Stack",
      "provenance": [],
      "collapsed_sections": []
    },
    "kernelspec": {
      "name": "python3",
      "display_name": "Python 3"
    },
    "language_info": {
      "name": "python"
    }
  },
  "cells": [
    {
      "cell_type": "markdown",
      "metadata": {
        "id": "JlTyW3IrYWqO"
      },
      "source": [
        "# **04. Stack**\n",
        "**LIFO(Last-In First-Out)**\n",
        "* Stack()\n",
        "* isEmpty()\n",
        "* push()\n",
        "* pop()\n",
        "* peek()\n",
        "* size()\n",
        "* clear()"
      ]
    },
    {
      "cell_type": "markdown",
      "metadata": {
        "id": "gYmd7v3YaF6L"
      },
      "source": [
        "* 스택의 활용 (함수 버전)"
      ]
    },
    {
      "cell_type": "code",
      "metadata": {
        "colab": {
          "base_uri": "https://localhost:8080/"
        },
        "id": "ND6NrUkaZROB",
        "outputId": "1100e492-afc4-457f-dbde-bf21ad277730"
      },
      "source": [
        "top1 = []\n",
        "\n",
        "def isEmpty() :\n",
        "  return len(top1) == 0\n",
        "\n",
        "def size() :\n",
        "  return len(top1)\n",
        "\n",
        "def pop() :\n",
        "  if not isEmpty() :\n",
        "    return top1.pop(-1)\n",
        "\n",
        "def push(item) :\n",
        "  top1.append(item)\n",
        "\n",
        "def clear() :\n",
        "  global top1\n",
        "  top1 = []\n",
        "\n",
        "for i in range (1, 6) :\n",
        "  push(i)\n",
        "\n",
        "print('push 5회 : ', top1)\n",
        "print('pop() --> ', pop())\n",
        "print('pop() --> ', pop())\n",
        "print('pop 2회 : ', top1)\n",
        "\n",
        "push('다은')\n",
        "push('서원')\n",
        "print('push + 2회 : ', top1)\n",
        "print('pop() --> ', pop())\n",
        "print('pop 1회 : ', top1)"
      ],
      "execution_count": 12,
      "outputs": [
        {
          "output_type": "stream",
          "name": "stdout",
          "text": [
            "push 5회 :  [1, 2, 3, 4, 5]\n",
            "pop() -->  5\n",
            "pop() -->  4\n",
            "pop 2회 :  [1, 2, 3]\n",
            "push + 2회 :  [1, 2, 3, '다은', '서원']\n",
            "pop() -->  서원\n",
            "pop 1회 :  [1, 2, 3, '다은']\n"
          ]
        }
      ]
    },
    {
      "cell_type": "markdown",
      "metadata": {
        "id": "tZJTXhqNfdTf"
      },
      "source": [
        "* 스택의 구현 (클래스 버전)"
      ]
    },
    {
      "cell_type": "code",
      "metadata": {
        "id": "5rI8NDmPfdel"
      },
      "source": [
        "class Stack :\n",
        "  def __init__(self) :\n",
        "    self.top = []\n",
        "\n",
        "  def isEmpty(self) :\n",
        "    return len(self.top) == 0\n",
        "\n",
        "  def size(self) :\n",
        "    return len(self.top)\n",
        "\n",
        "  def pop(self) :\n",
        "    if not isEmpty() :\n",
        "      return self.top.pop(-1)\n",
        "\n",
        "  def push(self, item) :\n",
        "    self.top.append(item)\n",
        "\n",
        "  def peek(self) :\n",
        "    if not self.isEmpty() :\n",
        "      return self.top[-1]"
      ],
      "execution_count": 16,
      "outputs": []
    },
    {
      "cell_type": "markdown",
      "metadata": {
        "id": "M6Dsqlb9duGV"
      },
      "source": [
        "* 괄호 검사 알고리즘"
      ]
    },
    {
      "cell_type": "code",
      "metadata": {
        "colab": {
          "base_uri": "https://localhost:8080/"
        },
        "id": "2_ZYfZr_dwV4",
        "outputId": "362c4c51-3a3b-4ff6-d6af-78b8fc0b3284"
      },
      "source": [
        "def checkBrackets(statement) :\n",
        "  stack = Stack()\n",
        "  for ch in statement :\n",
        "    if ch in ('{', '[', '(') :\n",
        "      stack.push(ch)\n",
        "    elif ch in ('}', ']', ')') :\n",
        "      if stack.isEmpty() :\n",
        "        return False\n",
        "      else :\n",
        "        left = stack.pop()\n",
        "        print(stack)\n",
        "        print(left)\n",
        "        if (ch == \"}\" and left != \"{\" or\n",
        "            ch == \"]\" and left != \"]\" or\n",
        "            ch == \")\" and left != \")\") :\n",
        "            return False\n",
        "  return stack.isEmpty()\n",
        "\n",
        "# test\n",
        "str = (\"{A[(i+1)] = 0}\", \"(()){{{}\", \"()()[][]\")\n",
        "for s in str :\n",
        "  m = checkBrackets(s)\n",
        "  print(s, \" --> \", m)"
      ],
      "execution_count": 18,
      "outputs": [
        {
          "output_type": "stream",
          "name": "stdout",
          "text": [
            "<__main__.Stack object at 0x7f943eaa4150>\n",
            "(\n",
            "{A[(i+1)] = 0}  -->  False\n",
            "<__main__.Stack object at 0x7f943eb56910>\n",
            "(\n",
            "(()){{{}  -->  False\n",
            "<__main__.Stack object at 0x7f943eb565d0>\n",
            "(\n",
            "()()[][]  -->  False\n"
          ]
        }
      ]
    },
    {
      "cell_type": "markdown",
      "metadata": {
        "id": "Jda6Y0qlhOjk"
      },
      "source": [
        "* 후위 표기 수식 계산 알고리즘"
      ]
    },
    {
      "cell_type": "code",
      "metadata": {
        "colab": {
          "base_uri": "https://localhost:8080/"
        },
        "id": "VgZ_nspehR9F",
        "outputId": "7067931f-7a4a-46ec-f1ec-e2c43d21ab60"
      },
      "source": [
        "def evalPostfix(expr) :\n",
        "  s = Stack()\n",
        "  for token in expr :\n",
        "    # 항목이 연산자 -> 값 꺼내서 계산\n",
        "    if token in \"+-*/\" :\n",
        "      val2 = s.pop()\n",
        "      val1 = s.pop()\n",
        "      if (token == '+') :\n",
        "        s.push(val1 + val2)\n",
        "      elif (token == '-') :\n",
        "        s.push(val1 - val2)\n",
        "      elif (token == '*') :\n",
        "        s,push(val1 * val2)\n",
        "      elif (token == '/') :\n",
        "        s.push(val1 / val2)\n",
        "    # 항목이 피연산자 -> push\n",
        "    else :\n",
        "      s.push(float(token))\n",
        "    \n",
        "    return s.pop()\n",
        "\n",
        "# test\n",
        "expr = ['1', '2', '/', '4', '*', '1', '4', '/', '*']\n",
        "print(expr, ' --> ', evalPostfix(expr))"
      ],
      "execution_count": 22,
      "outputs": [
        {
          "output_type": "stream",
          "name": "stdout",
          "text": [
            "['1', '2', '/', '4', '*', '1', '4', '/', '*']  -->  1.0\n"
          ]
        }
      ]
    },
    {
      "cell_type": "markdown",
      "metadata": {
        "id": "u8vJJm82k_pL"
      },
      "source": [
        "* 중위 -> 후위 변환 알고리즘"
      ]
    },
    {
      "cell_type": "code",
      "metadata": {
        "colab": {
          "base_uri": "https://localhost:8080/"
        },
        "id": "CIRo5CdClGYC",
        "outputId": "a1ab274b-ccf4-4f84-9bdd-e8bff7e018dc"
      },
      "source": [
        "def precedence (op) :\n",
        "  if op == '(' or op == ')' :\n",
        "    return 0\n",
        "  elif op == '+' or op == '-' :\n",
        "    return 1\n",
        "  elif op == '*' or op == '/' :\n",
        "    return 2\n",
        "  else :\n",
        "    return -1\n",
        "\n",
        "def Infix2Postfix(expr) :\n",
        "  s = Stack()\n",
        "  output = []\n",
        "  for term in expr :\n",
        "    if term in '(' :\n",
        "      s.push('(')\n",
        "    # 오른쪽 괄호 -> 왼쪽 괄호가 나올 때 까지 스택에서 연산자를 꺼내 출력\n",
        "    elif term in ')' :\n",
        "      while not s.isEmpty() :\n",
        "        op = s.pop()\n",
        "        if op == '(' :\n",
        "          break\n",
        "        else :\n",
        "          output.append(op)\n",
        "    # 연산자 -> 우선순위가 높거나 같은 연산자를 스택에서 모두 꺼내 출력\n",
        "    elif term in \"+-*/\" :\n",
        "      while not s.isEmpty() :\n",
        "        op = s.peek()\n",
        "        if (precedence(term) <= precedence(op)) :\n",
        "          output.append(op)\n",
        "          s.pop()\n",
        "        else :\n",
        "          break\n",
        "      s.push(term)\n",
        "    else :\n",
        "      output.append(term)\n",
        "  \n",
        "  # 스택에 남은 항목을 모두 출력\n",
        "  while not s.isEmpty() :\n",
        "    output.append(s.pop())\n",
        "\n",
        "  return output\n",
        "\n",
        "\n",
        "# test\n",
        "infix1 = ['1', '/', '2', '*', '4', '*', '(', '/', '4', ')']\n",
        "postfix1 = Infix2Postfix(infix1)\n",
        "result1 = evalPostfix(postfix1)\n",
        "print('중위표기 : ', infix1)\n",
        "print('후위표기 : ', postfix1)\n",
        "print('계산결과 : ', result1)"
      ],
      "execution_count": 24,
      "outputs": [
        {
          "output_type": "stream",
          "name": "stdout",
          "text": [
            "중위표기 :  ['1', '/', '2', '*', '4', '*', '(', '/', '4', ')']\n",
            "후위표기 :  ['1', '2', '/', '4', '*', '4', '/', '*']\n",
            "계산결과 :  1.0\n"
          ]
        }
      ]
    }
  ]
}