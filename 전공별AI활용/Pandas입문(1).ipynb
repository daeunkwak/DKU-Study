{
  "nbformat": 4,
  "nbformat_minor": 0,
  "metadata": {
    "colab": {
      "name": "곽다은_Part1_1.ipynb",
      "provenance": [],
      "collapsed_sections": []
    },
    "kernelspec": {
      "name": "python3",
      "display_name": "Python 3"
    },
    "language_info": {
      "name": "python"
    }
  },
  "cells": [
    {
      "cell_type": "markdown",
      "metadata": {
        "id": "8-0qf0tbLZxW"
      },
      "source": [
        "### Pandas 입문 (1) \n",
        "\n",
        "32200185 곽다은"
      ]
    },
    {
      "cell_type": "markdown",
      "metadata": {
        "id": "zBWlKiblJZ6u"
      },
      "source": [
        "* 1-1 시리즈 만들기"
      ]
    },
    {
      "cell_type": "code",
      "metadata": {
        "colab": {
          "base_uri": "https://localhost:8080/"
        },
        "id": "-sff5vIxJbtq",
        "outputId": "ed7e0ef0-a465-4461-cbf2-6b68b572b761"
      },
      "source": [
        "import pandas as pd\n",
        "\n",
        "dict_data = {'a' : 1, 'b' : 2, 'c' : 3}\n",
        "\n",
        "sr = pd.Series(dict_data)\n",
        "\n",
        "print(type(sr))\n",
        "print(sr)"
      ],
      "execution_count": 1,
      "outputs": [
        {
          "output_type": "stream",
          "name": "stdout",
          "text": [
            "<class 'pandas.core.series.Series'>\n",
            "a    1\n",
            "b    2\n",
            "c    3\n",
            "dtype: int64\n"
          ]
        }
      ]
    },
    {
      "cell_type": "markdown",
      "metadata": {
        "id": "1Qn3pVLyJuJO"
      },
      "source": [
        "* 1-2"
      ]
    },
    {
      "cell_type": "code",
      "metadata": {
        "colab": {
          "base_uri": "https://localhost:8080/"
        },
        "id": "9-xNj2glJvKS",
        "outputId": "4872ea4a-a020-4356-999d-7ad7454563b2"
      },
      "source": [
        "list_data = ['2019-01-02', 3.14, 'ABC', 100, True]\n",
        "sr = pd.Series(list_data)\n",
        "print(sr)\n",
        "print(\"\")\n",
        "\n",
        "idx = sr.index\n",
        "val = sr.values\n",
        "print(idx)\n",
        "print(val)"
      ],
      "execution_count": 4,
      "outputs": [
        {
          "output_type": "stream",
          "name": "stdout",
          "text": [
            "0    2019-01-02\n",
            "1          3.14\n",
            "2           ABC\n",
            "3           100\n",
            "4          True\n",
            "dtype: object\n",
            "\n",
            "RangeIndex(start=0, stop=5, step=1)\n",
            "['2019-01-02' 3.14 'ABC' 100 True]\n"
          ]
        }
      ]
    },
    {
      "cell_type": "markdown",
      "metadata": {
        "id": "Isq4xAtGKG8l"
      },
      "source": [
        "* 1-3"
      ]
    },
    {
      "cell_type": "code",
      "metadata": {
        "colab": {
          "base_uri": "https://localhost:8080/"
        },
        "id": "BstrBZJ1KH2Q",
        "outputId": "28f51ae8-80a7-4112-a1ef-0f9a4f7a19d3"
      },
      "source": [
        "tup_data = ('다은', '2000-04-26', '여', True)\n",
        "sr = pd.Series(tup_data, index = ['이름', '생년월일', '성별','학생여부'])\n",
        "# 데이터의 개수와 index개수가 일치해야함 (4=4)\n",
        "print(sr)\n",
        "print(\"\")\n",
        "\n",
        "# 원소 1개 선택\n",
        "print(sr[0])\n",
        "print(sr['이름'])\n",
        "print(\"\")\n",
        "\n",
        "# 여러 개의 원소 선택 -> 리스트 형태로 묶어야 함\n",
        "print(sr[[1,2]])\n",
        "print(sr[['생년월일', '성별']])\n",
        "print(\"\")\n",
        "\n",
        "# 슬라이싱으로 인덱스 범위 지정\n",
        "print(sr[1 : 2])\n",
        "print(sr['생년월일' : '성별'])"
      ],
      "execution_count": 12,
      "outputs": [
        {
          "output_type": "stream",
          "name": "stdout",
          "text": [
            "이름              다은\n",
            "생년월일    2000-04-26\n",
            "성별               여\n",
            "학생여부          True\n",
            "dtype: object\n",
            "\n",
            "다은\n",
            "다은\n",
            "\n",
            "생년월일    2000-04-26\n",
            "성별               여\n",
            "dtype: object\n",
            "생년월일    2000-04-26\n",
            "성별               여\n",
            "dtype: object\n",
            "\n",
            "생년월일    2000-04-26\n",
            "dtype: object\n",
            "생년월일    2000-04-26\n",
            "성별               여\n",
            "dtype: object\n"
          ]
        }
      ]
    },
    {
      "cell_type": "markdown",
      "metadata": {
        "id": "qH3kwNBbKsWB"
      },
      "source": [
        "* 1-4 데이터프레임 만들기"
      ]
    },
    {
      "cell_type": "code",
      "metadata": {
        "colab": {
          "base_uri": "https://localhost:8080/"
        },
        "id": "UqXrsvojKx5W",
        "outputId": "53c45213-a960-4178-e2e0-5ae1b7204aaf"
      },
      "source": [
        "dict_data = {'c0' : [1, 2, 3], 'c1' : [4, 5, 6], 'c2' : [7, 8, 9], 'c3' : [10, 11, 12], 'c4' : [13, 14, 15]}\n",
        "\n",
        "df = pd.DataFrame(dict_data)\n",
        "\n",
        "print(type(df))\n",
        "print(df)"
      ],
      "execution_count": 14,
      "outputs": [
        {
          "output_type": "stream",
          "name": "stdout",
          "text": [
            "<class 'pandas.core.frame.DataFrame'>\n",
            "   c0  c1  c2  c3  c4\n",
            "0   1   4   7  10  13\n",
            "1   2   5   8  11  14\n",
            "2   3   6   9  12  15\n"
          ]
        }
      ]
    },
    {
      "cell_type": "markdown",
      "metadata": {
        "id": "pwF372YwMGdg"
      },
      "source": [
        "* 1-5"
      ]
    },
    {
      "cell_type": "code",
      "metadata": {
        "colab": {
          "base_uri": "https://localhost:8080/"
        },
        "id": "N3N74B5NMHfR",
        "outputId": "b39b6d27-9670-4a39-c7af-c91851a3a04d"
      },
      "source": [
        "df = pd.DataFrame([[15, '남','덕양중'], [17, '여', '수리중']],\n",
        "                  index = ['준서', '예은'],\n",
        "                  columns = ['나이', '성별', '학교'])\n",
        "\n",
        "print(df)\n",
        "print(df.index)\n",
        "print(df.columns)\n",
        "print(\"\")\n",
        "\n",
        "# 행 인덱스, 열 이름 변경\n",
        "df.index = ['학생1', '학생2']\n",
        "df.columns = ['연령', '남녀', '소속']\n",
        "\n",
        "print(df)\n",
        "print(df.index)\n",
        "print(df.columns)"
      ],
      "execution_count": 18,
      "outputs": [
        {
          "output_type": "stream",
          "name": "stdout",
          "text": [
            "    나이 성별   학교\n",
            "준서  15  남  덕양중\n",
            "예은  17  여  수리중\n",
            "Index(['준서', '예은'], dtype='object')\n",
            "Index(['나이', '성별', '학교'], dtype='object')\n",
            "\n",
            "     연령 남녀   소속\n",
            "학생1  15  남  덕양중\n",
            "학생2  17  여  수리중\n",
            "Index(['학생1', '학생2'], dtype='object')\n",
            "Index(['연령', '남녀', '소속'], dtype='object')\n"
          ]
        }
      ]
    },
    {
      "cell_type": "markdown",
      "metadata": {
        "id": "gX998tP_M5Vr"
      },
      "source": [
        "* 1-6"
      ]
    },
    {
      "cell_type": "code",
      "metadata": {
        "colab": {
          "base_uri": "https://localhost:8080/"
        },
        "id": "UiMGE-fFM6RX",
        "outputId": "63759ae0-4713-4dd9-d6c1-4f4c4ca42f84"
      },
      "source": [
        "df = pd.DataFrame([[15, '남','덕양중'], [17, '여', '수리중']],\n",
        "                  index = ['준서', '예은'],\n",
        "                  columns = ['나이', '성별', '학교'])\n",
        "\n",
        "print(df)\n",
        "print(\"\")\n",
        "\n",
        "df.rename(columns = {'나이' : '연령', '성별' : '남녀', '학교' : '소속'}, inplace = True)\n",
        "df.rename(index = {'준서' : '학생1', '예은' : '학생2'}, inplace = True)\n",
        "\n",
        "print(df)"
      ],
      "execution_count": 20,
      "outputs": [
        {
          "output_type": "stream",
          "name": "stdout",
          "text": [
            "    나이 성별   학교\n",
            "준서  15  남  덕양중\n",
            "예은  17  여  수리중\n",
            "\n",
            "     연령 남녀   소속\n",
            "학생1  15  남  덕양중\n",
            "학생2  17  여  수리중\n"
          ]
        }
      ]
    },
    {
      "cell_type": "markdown",
      "metadata": {
        "id": "TH_m9TjLNZgY"
      },
      "source": [
        "* 1-7"
      ]
    },
    {
      "cell_type": "code",
      "metadata": {
        "colab": {
          "base_uri": "https://localhost:8080/"
        },
        "id": "Spzt6oCsNaTt",
        "outputId": "1cb9521c-4600-4187-92f2-66e209b8799b"
      },
      "source": [
        "exam_data = {'수학' : [90, 80, 70], '영어' : [98, 89, 95],\n",
        "             '음악' : [85, 95, 100], '체육' : [100, 90, 90]}\n",
        "             \n",
        "df = pd.DataFrame(exam_data, index = ['서준', '우현', '인아'])\n",
        "print(df)\n",
        "print(\"\")\n",
        "\n",
        "# 데이터프레임 복제\n",
        "df2 = df[:]\n",
        "df2.drop('우현', inplace = True)\n",
        "print(df2)\n",
        "print(\"\")\n",
        "\n",
        "df3 = df[:]\n",
        "df3.drop(['우현', '인아'], axis = 0, inplace = True)\n",
        "print(df3)"
      ],
      "execution_count": 24,
      "outputs": [
        {
          "output_type": "stream",
          "name": "stdout",
          "text": [
            "    수학  영어   음악   체육\n",
            "서준  90  98   85  100\n",
            "우현  80  89   95   90\n",
            "인아  70  95  100   90\n",
            "\n",
            "    수학  영어   음악   체육\n",
            "서준  90  98   85  100\n",
            "인아  70  95  100   90\n",
            "\n",
            "    수학  영어  음악   체육\n",
            "서준  90  98  85  100\n"
          ]
        },
        {
          "output_type": "stream",
          "name": "stderr",
          "text": [
            "/usr/local/lib/python3.7/dist-packages/pandas/core/frame.py:4174: SettingWithCopyWarning: \n",
            "A value is trying to be set on a copy of a slice from a DataFrame\n",
            "\n",
            "See the caveats in the documentation: https://pandas.pydata.org/pandas-docs/stable/user_guide/indexing.html#returning-a-view-versus-a-copy\n",
            "  errors=errors,\n",
            "/usr/local/lib/python3.7/dist-packages/pandas/core/frame.py:4174: SettingWithCopyWarning: \n",
            "A value is trying to be set on a copy of a slice from a DataFrame\n",
            "\n",
            "See the caveats in the documentation: https://pandas.pydata.org/pandas-docs/stable/user_guide/indexing.html#returning-a-view-versus-a-copy\n",
            "  errors=errors,\n"
          ]
        }
      ]
    },
    {
      "cell_type": "markdown",
      "metadata": {
        "id": "gn20dCSfOVQ7"
      },
      "source": [
        "* 1-8"
      ]
    },
    {
      "cell_type": "code",
      "metadata": {
        "colab": {
          "base_uri": "https://localhost:8080/"
        },
        "id": "ugYIsz0FOWZ5",
        "outputId": "5a2de48e-c980-4ac1-ed10-26cddcbb9b1e"
      },
      "source": [
        "exam_data = {'수학' : [90, 80, 70], '영어' : [98, 89, 95],\n",
        "             '음악' : [85, 95, 100], '체육' : [100, 90, 90]}\n",
        "\n",
        "df = pd.DataFrame(exam_data, index = ['서준', '우현', '인아'])\n",
        "print(df)\n",
        "print(\"\")\n",
        "\n",
        "df4 = df[:]\n",
        "df4.drop('수학', axis = 1, inplace = True)\n",
        "print(df4)\n",
        "print(\"\")\n",
        "\n",
        "df5 = df[:]\n",
        "df5.drop(['영어', '음악'], axis = 1, inplace = True)\n",
        "print(df5)"
      ],
      "execution_count": 25,
      "outputs": [
        {
          "output_type": "stream",
          "name": "stdout",
          "text": [
            "    수학  영어   음악   체육\n",
            "서준  90  98   85  100\n",
            "우현  80  89   95   90\n",
            "인아  70  95  100   90\n",
            "\n",
            "    영어   음악   체육\n",
            "서준  98   85  100\n",
            "우현  89   95   90\n",
            "인아  95  100   90\n",
            "\n",
            "    수학   체육\n",
            "서준  90  100\n",
            "우현  80   90\n",
            "인아  70   90\n"
          ]
        },
        {
          "output_type": "stream",
          "name": "stderr",
          "text": [
            "/usr/local/lib/python3.7/dist-packages/pandas/core/frame.py:4174: SettingWithCopyWarning: \n",
            "A value is trying to be set on a copy of a slice from a DataFrame\n",
            "\n",
            "See the caveats in the documentation: https://pandas.pydata.org/pandas-docs/stable/user_guide/indexing.html#returning-a-view-versus-a-copy\n",
            "  errors=errors,\n",
            "/usr/local/lib/python3.7/dist-packages/pandas/core/frame.py:4174: SettingWithCopyWarning: \n",
            "A value is trying to be set on a copy of a slice from a DataFrame\n",
            "\n",
            "See the caveats in the documentation: https://pandas.pydata.org/pandas-docs/stable/user_guide/indexing.html#returning-a-view-versus-a-copy\n",
            "  errors=errors,\n"
          ]
        }
      ]
    },
    {
      "cell_type": "markdown",
      "metadata": {
        "id": "FxpHpb2ePAIJ"
      },
      "source": [
        "* 1 - 9 loc, iloc 인덱스 사용하기"
      ]
    },
    {
      "cell_type": "code",
      "metadata": {
        "colab": {
          "base_uri": "https://localhost:8080/"
        },
        "id": "v1eEbSknPBiK",
        "outputId": "89c146d1-2c5e-403f-d790-157fc015bd90"
      },
      "source": [
        "exam_data = {'수학' : [90, 80, 70], '영어' : [98, 89, 95],\n",
        "             '음악' : [85, 95, 100], '체육' : [100, 90, 90]}\n",
        "\n",
        "df = pd.DataFrame(exam_data, index = ['서준', '우현', '인아'])\n",
        "print(df)\n",
        "print(\"\")\n",
        "\n",
        "label1 = df.loc['서준']\n",
        "position1 = df.iloc[0]\n",
        "print(label1)\n",
        "print(\"\")\n",
        "print(position1)\n",
        "print(\"\")\n",
        "\n",
        "label2 = df.loc[['서준', '우현']]\n",
        "position2 = df.iloc[[0, 1]]\n",
        "print(label2)\n",
        "print(\"\")\n",
        "print(position2)"
      ],
      "execution_count": 28,
      "outputs": [
        {
          "output_type": "stream",
          "name": "stdout",
          "text": [
            "    수학  영어   음악   체육\n",
            "서준  90  98   85  100\n",
            "우현  80  89   95   90\n",
            "인아  70  95  100   90\n",
            "\n",
            "수학     90\n",
            "영어     98\n",
            "음악     85\n",
            "체육    100\n",
            "Name: 서준, dtype: int64\n",
            "\n",
            "수학     90\n",
            "영어     98\n",
            "음악     85\n",
            "체육    100\n",
            "Name: 서준, dtype: int64\n",
            "\n",
            "    수학  영어  음악   체육\n",
            "서준  90  98  85  100\n",
            "우현  80  89  95   90\n",
            "\n",
            "    수학  영어  음악   체육\n",
            "서준  90  98  85  100\n",
            "우현  80  89  95   90\n"
          ]
        }
      ]
    },
    {
      "cell_type": "markdown",
      "metadata": {
        "id": "1xPhvlJiPpon"
      },
      "source": [
        "* 1 - 10"
      ]
    },
    {
      "cell_type": "code",
      "metadata": {
        "colab": {
          "base_uri": "https://localhost:8080/"
        },
        "id": "LpE-mwtAPqug",
        "outputId": "c3e8f87a-c99f-4ee0-8424-d397a7bc71b9"
      },
      "source": [
        "exam_data = {'이름' : ['서준', '우현', '인아'],\n",
        "             '수학' : [90, 80, 70],\n",
        "             '영어' : [98, 89, 95],\n",
        "             '음악' : [85, 95, 100],\n",
        "             '체육' : [100, 90, 90]}\n",
        "df = pd.DataFrame(exam_data)\n",
        "print(df)\n",
        "print(type(df))\n",
        "print(\"\")\n",
        "\n",
        "# 수학 데이터만 선택 -> math1에 저장\n",
        "math1 = df['수학']\n",
        "print(math1)\n",
        "print(type(math1))\n",
        "print(\"\")\n",
        "\n",
        "english = df.영어\n",
        "print(english)\n",
        "print(type(english))\n",
        "print(\"\")\n",
        "\n",
        "music_gym = df[['음악', '체육']]\n",
        "print(music_gym)\n",
        "print(type(music_gym))\n",
        "print(\"\")\n",
        "\n",
        "math2 = df[['수학']]\n",
        "print(math2)\n",
        "print(type(math2))"
      ],
      "execution_count": 30,
      "outputs": [
        {
          "output_type": "stream",
          "name": "stdout",
          "text": [
            "   이름  수학  영어   음악   체육\n",
            "0  서준  90  98   85  100\n",
            "1  우현  80  89   95   90\n",
            "2  인아  70  95  100   90\n",
            "<class 'pandas.core.frame.DataFrame'>\n",
            "\n",
            "0    90\n",
            "1    80\n",
            "2    70\n",
            "Name: 수학, dtype: int64\n",
            "<class 'pandas.core.series.Series'>\n",
            "\n",
            "0    98\n",
            "1    89\n",
            "2    95\n",
            "Name: 영어, dtype: int64\n",
            "<class 'pandas.core.series.Series'>\n",
            "\n",
            "    음악   체육\n",
            "0   85  100\n",
            "1   95   90\n",
            "2  100   90\n",
            "<class 'pandas.core.frame.DataFrame'>\n",
            "\n",
            "   수학\n",
            "0  90\n",
            "1  80\n",
            "2  70\n",
            "<class 'pandas.core.frame.DataFrame'>\n"
          ]
        }
      ]
    },
    {
      "cell_type": "markdown",
      "metadata": {
        "id": "-nZMYNIAQm9g"
      },
      "source": [
        "* 1 - 11"
      ]
    },
    {
      "cell_type": "code",
      "metadata": {
        "colab": {
          "base_uri": "https://localhost:8080/"
        },
        "id": "LO94T7SNQoet",
        "outputId": "35c0aca7-1bcc-46d9-92a3-e892fd0b3c57"
      },
      "source": [
        "exam_data = {'이름' : ['서준', '우현', '인아'],\n",
        "             '수학' : [90, 80, 70],\n",
        "             '영어' : [98, 89, 95],\n",
        "             '음악' : [85, 95, 100],\n",
        "             '체육' : [100, 90, 90]}\n",
        "df = pd.DataFrame(exam_data)\n",
        "\n",
        "# 이름을 새로운 인덱스로 지정, df객체에 변경사항 반영\n",
        "df.set_index('이름', inplace = True)\n",
        "print(df)\n",
        "print('')\n",
        "\n",
        "# df의 특정 원소 선택하기\n",
        "a = df.loc['서준', '음악']\n",
        "print(a)\n",
        "b = df.iloc[0, 2]\n",
        "print(b)\n",
        "print(\"\")\n",
        "\n",
        "# 시리즈\n",
        "c = df.loc['서준', ['음악', '체육']]\n",
        "print(c)\n",
        "d = df.iloc[0, [2, 3]]\n",
        "print(d)\n",
        "e = df.loc['서준', '음악' : '체육']\n",
        "print(e)\n",
        "f = df.iloc[0, 2 : ]\n",
        "print(f)\n",
        "print(\"\")\n",
        "\n",
        "# 데이터프레임\n",
        "g = df.loc[['서준', '우현'], ['음악', '체육']]\n",
        "print(g)\n",
        "h = df.iloc[[0, 1], [2, 3]]\n",
        "print(h)\n",
        "i = df.loc['서준' : '우현', '음악' : '체육']\n",
        "print(i)\n",
        "j = df.iloc[0 : 2, 2 : ]\n",
        "print(j)"
      ],
      "execution_count": 33,
      "outputs": [
        {
          "output_type": "stream",
          "name": "stdout",
          "text": [
            "    수학  영어   음악   체육\n",
            "이름                  \n",
            "서준  90  98   85  100\n",
            "우현  80  89   95   90\n",
            "인아  70  95  100   90\n",
            "\n",
            "85\n",
            "85\n",
            "\n",
            "음악     85\n",
            "체육    100\n",
            "Name: 서준, dtype: int64\n",
            "음악     85\n",
            "체육    100\n",
            "Name: 서준, dtype: int64\n",
            "음악     85\n",
            "체육    100\n",
            "Name: 서준, dtype: int64\n",
            "음악     85\n",
            "체육    100\n",
            "Name: 서준, dtype: int64\n",
            "\n",
            "    음악   체육\n",
            "이름         \n",
            "서준  85  100\n",
            "우현  95   90\n",
            "    음악   체육\n",
            "이름         \n",
            "서준  85  100\n",
            "우현  95   90\n",
            "    음악   체육\n",
            "이름         \n",
            "서준  85  100\n",
            "우현  95   90\n",
            "    음악   체육\n",
            "이름         \n",
            "서준  85  100\n",
            "우현  95   90\n"
          ]
        }
      ]
    },
    {
      "cell_type": "markdown",
      "metadata": {
        "id": "fj55bBiORvPx"
      },
      "source": [
        "* 1 - 12"
      ]
    },
    {
      "cell_type": "code",
      "metadata": {
        "colab": {
          "base_uri": "https://localhost:8080/"
        },
        "id": "_c3mhpgLRwYL",
        "outputId": "b6c16181-c3b0-4f2e-e0e7-025f8e66b923"
      },
      "source": [
        "exam_data = {'이름' : ['서준', '우현', '인아'],\n",
        "             '수학' : [90, 80, 70],\n",
        "             '영어' : [98, 89, 95],\n",
        "             '음악' : [85, 95, 100],\n",
        "             '체육' : [100, 90, 90]}\n",
        "df = pd.DataFrame(exam_data)\n",
        "print(df)\n",
        "print(\"\")\n",
        "\n",
        "# 국어 column추가, 값 = 80 지정\n",
        "df['국어'] = 80\n",
        "print(df)"
      ],
      "execution_count": 35,
      "outputs": [
        {
          "output_type": "stream",
          "name": "stdout",
          "text": [
            "   이름  수학  영어   음악   체육\n",
            "0  서준  90  98   85  100\n",
            "1  우현  80  89   95   90\n",
            "2  인아  70  95  100   90\n",
            "\n",
            "   이름  수학  영어   음악   체육  국어\n",
            "0  서준  90  98   85  100  80\n",
            "1  우현  80  89   95   90  80\n",
            "2  인아  70  95  100   90  80\n"
          ]
        }
      ]
    },
    {
      "cell_type": "markdown",
      "metadata": {
        "id": "8itlLCzTSBFT"
      },
      "source": [
        "* 1 - 13"
      ]
    },
    {
      "cell_type": "code",
      "metadata": {
        "colab": {
          "base_uri": "https://localhost:8080/"
        },
        "id": "wEt_oHoUSCDi",
        "outputId": "cfdf870e-518c-4901-a2a1-8ad83b915f72"
      },
      "source": [
        "exam_data = {'이름' : ['서준', '우현', '인아'],\n",
        "             '수학' : [90, 80, 70],\n",
        "             '영어' : [98, 89, 95],\n",
        "             '음악' : [85, 95, 100],\n",
        "             '체육' : [100, 90, 90]}\n",
        "df = pd.DataFrame(exam_data)\n",
        "print(df)\n",
        "print(\"\")\n",
        "\n",
        "# 새로운 행 추가 - 같은 원소 값 입력\n",
        "df.loc[3] = 0\n",
        "print(df)\n",
        "print(\"\")\n",
        "\n",
        "# 새로운 행 추가 - 다른 원소 값 입력\n",
        "df.loc[4] = ['동규', 90, 80, 70, 60]\n",
        "print(df)\n",
        "print(\"\")\n",
        "\n",
        "# 새로운 행 추가 - 기존 행 복사\n",
        "df.loc['행5'] = df.loc[3]\n",
        "print(df)"
      ],
      "execution_count": 36,
      "outputs": [
        {
          "output_type": "stream",
          "name": "stdout",
          "text": [
            "   이름  수학  영어   음악   체육\n",
            "0  서준  90  98   85  100\n",
            "1  우현  80  89   95   90\n",
            "2  인아  70  95  100   90\n",
            "\n",
            "   이름  수학  영어   음악   체육\n",
            "0  서준  90  98   85  100\n",
            "1  우현  80  89   95   90\n",
            "2  인아  70  95  100   90\n",
            "3   0   0   0    0    0\n",
            "\n",
            "   이름  수학  영어   음악   체육\n",
            "0  서준  90  98   85  100\n",
            "1  우현  80  89   95   90\n",
            "2  인아  70  95  100   90\n",
            "3   0   0   0    0    0\n",
            "4  동규  90  80   70   60\n",
            "\n",
            "    이름  수학  영어   음악   체육\n",
            "0   서준  90  98   85  100\n",
            "1   우현  80  89   95   90\n",
            "2   인아  70  95  100   90\n",
            "3    0   0   0    0    0\n",
            "4   동규  90  80   70   60\n",
            "행5   0   0   0    0    0\n"
          ]
        }
      ]
    },
    {
      "cell_type": "markdown",
      "metadata": {
        "id": "N2Gqkt5hSb4e"
      },
      "source": [
        "* 1 - 14"
      ]
    },
    {
      "cell_type": "code",
      "metadata": {
        "colab": {
          "base_uri": "https://localhost:8080/"
        },
        "id": "zKjDNehISc2t",
        "outputId": "468704c2-b08e-4a68-cafd-a6100e12a73b"
      },
      "source": [
        "exam_data = {'이름' : ['서준', '우현', '인아'],\n",
        "             '수학' : [90, 80, 70],\n",
        "             '영어' : [98, 89, 95],\n",
        "             '음악' : [85, 95, 100],\n",
        "             '체육' : [100, 90, 90]}\n",
        "df = pd.DataFrame(exam_data)\n",
        "\n",
        "# '이름' 열을 새로운 인덱스로 지정\n",
        "df.set_index('이름', inplace = True)\n",
        "print(df)\n",
        "print(\"\")\n",
        "\n",
        "# 특정 원소 변경 \n",
        "df.iloc[0][3] = 90\n",
        "print(df)\n",
        "print(\"\")\n",
        "\n",
        "df.loc['서준']['체육'] = 90\n",
        "print(df)\n",
        "print(\"\")\n",
        "\n",
        "df.loc['서준', '체육'] = 100\n",
        "print(df)\n",
        "print(\"\")\n",
        "\n",
        "# 여러개의 원소 변경\n",
        "df.loc['서준', ['음악', '체육']] = 50\n",
        "print(df)\n",
        "print(\"\")\n",
        "\n",
        "df.loc['서준', ['음악', '체육']] = 100, 50\n",
        "print(df)\n",
        "\n"
      ],
      "execution_count": 38,
      "outputs": [
        {
          "output_type": "stream",
          "name": "stdout",
          "text": [
            "    수학  영어   음악   체육\n",
            "이름                  \n",
            "서준  90  98   85  100\n",
            "우현  80  89   95   90\n",
            "인아  70  95  100   90\n",
            "\n",
            "    수학  영어   음악  체육\n",
            "이름                 \n",
            "서준  90  98   85  90\n",
            "우현  80  89   95  90\n",
            "인아  70  95  100  90\n",
            "\n",
            "    수학  영어   음악  체육\n",
            "이름                 \n",
            "서준  90  98   85  90\n",
            "우현  80  89   95  90\n",
            "인아  70  95  100  90\n",
            "\n",
            "    수학  영어   음악   체육\n",
            "이름                  \n",
            "서준  90  98   85  100\n",
            "우현  80  89   95   90\n",
            "인아  70  95  100   90\n",
            "\n",
            "    수학  영어   음악  체육\n",
            "이름                 \n",
            "서준  90  98   50  50\n",
            "우현  80  89   95  90\n",
            "인아  70  95  100  90\n",
            "\n",
            "    수학  영어   음악  체육\n",
            "이름                 \n",
            "서준  90  98  100  50\n",
            "우현  80  89   95  90\n",
            "인아  70  95  100  90\n"
          ]
        }
      ]
    },
    {
      "cell_type": "markdown",
      "metadata": {
        "id": "IrwJnXrDTIJO"
      },
      "source": [
        "* 1 - 15"
      ]
    },
    {
      "cell_type": "code",
      "metadata": {
        "colab": {
          "base_uri": "https://localhost:8080/"
        },
        "id": "vKYA1gnGTJ4x",
        "outputId": "e4408407-6585-453c-dc65-a8432ef06718"
      },
      "source": [
        "exam_data = {'이름' : ['서준', '우현', '인아'],\n",
        "             '수학' : [90, 80, 70],\n",
        "             '영어' : [98, 89, 95],\n",
        "             '음악' : [85, 95, 100],\n",
        "             '체육' : [100, 90, 90]}\n",
        "df = pd.DataFrame(exam_data)\n",
        "print(df)\n",
        "print(\"\")\n",
        "\n",
        "# df 전치하기 (transpose메소드)\n",
        "df = df.transpose()\n",
        "print(df)\n",
        "print(\"\")\n",
        "\n",
        "# df 다시 전치하기 (클래스 속성 활용)\n",
        "df = df.T\n",
        "print(df)"
      ],
      "execution_count": 39,
      "outputs": [
        {
          "output_type": "stream",
          "name": "stdout",
          "text": [
            "   이름  수학  영어   음악   체육\n",
            "0  서준  90  98   85  100\n",
            "1  우현  80  89   95   90\n",
            "2  인아  70  95  100   90\n",
            "\n",
            "      0   1    2\n",
            "이름   서준  우현   인아\n",
            "수학   90  80   70\n",
            "영어   98  89   95\n",
            "음악   85  95  100\n",
            "체육  100  90   90\n",
            "\n",
            "   이름  수학  영어   음악   체육\n",
            "0  서준  90  98   85  100\n",
            "1  우현  80  89   95   90\n",
            "2  인아  70  95  100   90\n"
          ]
        }
      ]
    }
  ]
}