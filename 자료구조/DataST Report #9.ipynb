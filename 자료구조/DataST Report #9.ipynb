{
  "nbformat": 4,
  "nbformat_minor": 0,
  "metadata": {
    "colab": {
      "name": "2021-2-DataST-HW9-곽다은-32200185",
      "provenance": [],
      "collapsed_sections": []
    },
    "kernelspec": {
      "name": "python3",
      "display_name": "Python 3"
    },
    "language_info": {
      "name": "python"
    }
  },
  "cells": [
    {
      "cell_type": "markdown",
      "metadata": {
        "id": "AJ2jp6bcJg2V"
      },
      "source": [
        "＃2021-2 자료구조 9주차 과제 \n",
        "- 마감: 2021.11.1(월요일)\n",
        "- 이름: 곽다은\n",
        "- 학번: 32200185\n",
        "\n",
        "- 과제: 교집합/차집합 구현 각 5점  \n",
        "교재 3장 집합구현(113페이지)을 변형하여 교집합과 차집합 메소드를 정렬된 리스트를 사용하는 방법으로 교체\n",
        "\n",
        "\n",
        "** 풀지 못한 문제 - 만일 과제의 문제를 다 풀지 못한 경우, 여기에 풀지 못한 번호를 적으시오. \n",
        "\n",
        "\n",
        "## <font color='red' > 과제는 문제에 대한 코딩이 완성되고 테스트를 통해 적절성이 검증된 경우만 점수가 부여되며, 이외 사항에 대해서는 0점 처리. 코드에 에러가 있음에도 불구하고,  과제 앞 부분 미완성 부분에 적시하지 않은 경우 전체 과제를 0점 처리합니다.  </font>"
      ]
    },
    {
      "cell_type": "markdown",
      "metadata": {
        "id": "Gag1en13KazR"
      },
      "source": [
        "아래에 코드셀을 만들고, 클래스 OrderedListSet 을 구현하시오"
      ]
    },
    {
      "cell_type": "code",
      "metadata": {
        "id": "gi-_5HDARz_8"
      },
      "source": [
        "class OrderedListSet :\n",
        "  def __init__(self) :\n",
        "    self.items = []\n",
        "    \n",
        "  def size(self) :\n",
        "    return len(self.items)\n",
        "\n",
        "  def contains(self, item) :\n",
        "    return item in self.items\n",
        "\n",
        "  def delete(self, elem) :\n",
        "    if elem in self.items :\n",
        "      self.items.remove(elem)\n",
        "\n",
        "  def insert(self, elem) :\n",
        "    if elem in self.items :\n",
        "      return\n",
        "    for idx in range (len(self.items)) :\n",
        "      if elem < self.items[idx] :\n",
        "        self.items.insert(idx, elem)\n",
        "        return\n",
        "    self.items.append(elem)\n",
        "\n",
        "  # 합집합\n",
        "  def union(self, setB) :\n",
        "    newSet = OrderedListSet()\n",
        "    a = 0\n",
        "    b = 0\n",
        "    while a < len(self.items) and b < len(setB.items) :\n",
        "      valueA = self.items[a]\n",
        "      valueB = setB.items[b]\n",
        "      if valueA < valueB :\n",
        "        newSet.items.append(valueA)\n",
        "        a += 1\n",
        "      elif valueA > valueB :\n",
        "        newSet.items.append(valueB)\n",
        "        b += 1\n",
        "      else :\n",
        "        newSet.items.append(valueA)\n",
        "        a += 1\n",
        "        b += 1\n",
        "    while a < len(self.items) :\n",
        "      newSet.items.append(self.items[a])\n",
        "      a += 1\n",
        "    while b < len(setB.items) :\n",
        "      newSet.items.append(setB.items[b])\n",
        "      b += 1\n",
        "    return newSet\n",
        "\n",
        "\n",
        "  # 교집합\n",
        "  def intersect(self, setB) :\n",
        "    newSet = OrderedListSet()\n",
        "    a = 0\n",
        "    b = 0\n",
        "    while a < len(self.items) and b < len(setB.items) :\n",
        "      valueA = self.items[a]\n",
        "      valueB = setB.items[b]\n",
        "      if valueA < valueB :\n",
        "        a += 1\n",
        "      elif valueA > valueB :\n",
        "        b += 1\n",
        "      else :\n",
        "        newSet.items.append(valueA)\n",
        "        a += 1\n",
        "        b += 1\n",
        "    return newSet\n",
        "\n",
        "\n",
        "  # 차집합\n",
        "  def difference(self, setB) :\n",
        "    newSet = OrderedListSet()\n",
        "    a = 0\n",
        "    b = 0\n",
        "    while a < len(self.items) and b < len(setB.items) :\n",
        "      valueA = self.items[a]\n",
        "      valueB = setB.items[b]\n",
        "      if valueA < valueB :\n",
        "        newSet.items.append(valueA)\n",
        "        a += 1\n",
        "      elif valueA > valueB :\n",
        "        b += 1\n",
        "      else :\n",
        "        a += 1\n",
        "        b += 1\n",
        "    while a < len(self.items) :\n",
        "      newSet.items.append(self.items[a])\n",
        "      a += 1\n",
        "    return newSet\n",
        "\n",
        "\n",
        "  # (4) 차집합을 구하는 different() 메소드를 연산자 중복을 이용해 구현\n",
        "  def __sub__(self, setB) :\n",
        "      setC = Set()\n",
        "      for elem in self.items :\n",
        "          if (setB.contains(elem) == False) :\n",
        "              setC.items.append(elem)\n",
        "      return setC\n",
        "    \n",
        "  def display(self, msg) :\n",
        "    print(msg, self.items)"
      ],
      "execution_count": 19,
      "outputs": []
    },
    {
      "cell_type": "markdown",
      "metadata": {
        "id": "jOYIHQslsd0A"
      },
      "source": [
        "아래의 코드를 이용하여 테스트를 수행하시오. "
      ]
    },
    {
      "cell_type": "code",
      "metadata": {
        "id": "HFyp2IcEsi4c",
        "colab": {
          "base_uri": "https://localhost:8080/",
          "height": 0
        },
        "outputId": "40cc57b5-6682-4c96-a0c5-72c721121c54"
      },
      "source": [
        "setA = OrderedListSet()\n",
        "setA.insert('휴대폰')\n",
        "setA.insert('지갑')\n",
        "setA.insert('손수건')\n",
        "setA.display('Set A:')\n",
        "\n",
        "setB = OrderedListSet()\n",
        "setB.insert('빗')\n",
        "setB.insert('파이썬 자료구조')\n",
        "setB.insert('야구공')\n",
        "setB.insert('지갑')\n",
        "setB.display('Set B:')\n",
        "\n",
        "setB.insert('빗')\n",
        "setA.delete('손수건')\n",
        "setA.delete('발수건')\n",
        "setA.display('Set A:')\n",
        "setB.display('Set B:')\n",
        "\n",
        "setA.union(setB).display('A U B:')\n",
        "setA.intersect(setB).display('A ^ B:')\n",
        "setA.difference(setB).display('A – B:')"
      ],
      "execution_count": 20,
      "outputs": [
        {
          "output_type": "stream",
          "name": "stdout",
          "text": [
            "Set A: ['손수건', '지갑', '휴대폰']\n",
            "Set B: ['빗', '야구공', '지갑', '파이썬 자료구조']\n",
            "Set A: ['지갑', '휴대폰']\n",
            "Set B: ['빗', '야구공', '지갑', '파이썬 자료구조']\n",
            "A U B: ['빗', '야구공', '지갑', '파이썬 자료구조', '휴대폰']\n",
            "A ^ B: ['지갑']\n",
            "A – B: ['휴대폰']\n"
          ]
        }
      ]
    }
  ]
}