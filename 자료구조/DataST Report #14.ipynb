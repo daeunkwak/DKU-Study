{
  "nbformat": 4,
  "nbformat_minor": 0,
  "metadata": {
    "colab": {
      "name": "2021-2-DataST-HW14-곽다은-32200185",
      "provenance": [],
      "collapsed_sections": []
    },
    "kernelspec": {
      "name": "python3",
      "display_name": "Python 3"
    },
    "language_info": {
      "name": "python"
    }
  },
  "cells": [
    {
      "cell_type": "markdown",
      "metadata": {
        "id": "AJ2jp6bcJg2V"
      },
      "source": [
        "＃2021-2 자료구조 14주차 과제 \n",
        "- 마감: 2021.12.6(월요일)\n",
        "- 이름: 곽다은\n",
        "- 학번: 32200185\n",
        "\n",
        "- 과제: 각 5점\n",
        "1. P11.5\n",
        "2. P11.6\n",
        "\n",
        "\n",
        "** 풀지 못한 문제 - 만일 과제의 문제를 다 풀지 못한 경우, 여기에 풀지 못한 번호를 적으시오. \n",
        "\n",
        "\n",
        "## <font color='red' > 과제는 문제에 대한 코딩이 완성되고 테스트를 통해 적절성이 검증된 경우만 점수가 부여되며, 이외 사항에 대해서는 0점 처리. 코드에 에러가 있음에도 불구하고,  과제 앞 부분 미완성 부분에 적시하지 않은 경우 전체 과제를 0점 처리합니다.  </font>"
      ]
    },
    {
      "cell_type": "markdown",
      "metadata": {
        "id": "Gag1en13KazR"
      },
      "source": [
        "# 11.5\n",
        "아래에 코드셀을 만들고, 셀에 인접행렬로 표현된 그래프를 인자로 받아 Maximal Spanning Tree를 구하는 하는 함수 maxSpanningTree(...) 를 정의하시오. 함수는 visit 되는 407 페이지에 있는 그림처럼 추가되는 간선을 (x, y, weight) 형태로 출력할 것. "
      ]
    },
    {
      "cell_type": "code",
      "metadata": {
        "id": "2e4TtdBCbvJS"
      },
      "source": [
        "parent = []\n",
        "set_size = 0\n",
        "\n",
        "# 집합의 초기화 함수\n",
        "def init_set(nSets) :\n",
        "  global set_size, parent\n",
        "  set_size = nSets\n",
        "  for i in range (nSets) :\n",
        "    parent.append(-1)\n",
        "\n",
        "# 정점 id가 속한 집합의 대표번호 탐색\n",
        "def find(id) :\n",
        "  while (parent[id] >= 0) :\n",
        "    id = parent[id]\n",
        "  return id\n",
        "\n",
        "# 두 집합을 병합\n",
        "def union(s1, s2) :\n",
        "  global set_size\n",
        "  parent[s1] = s2\n",
        "  set_size = set_size - 1\n",
        "\n",
        "\n",
        "def maxSpanningTree(graph) :\n",
        "  vsize = len(vertex)\n",
        "  init_set(vsize)\n",
        "  eList = []\n",
        "\n",
        "  # 모든 간선을 리스트에 넣고 튜플로 저장\n",
        "  for i in range (vsize - 1) :\n",
        "    for j in range (i + 1, vsize) :\n",
        "      if graph[1][i][j] != None :\n",
        "        eList.append((i, j, graph[1][i][j]))\n",
        "  \n",
        "  # 간선 리스트를 가중치의 오름차순으로 정렬 : 람다 함수 사용\n",
        "  eList.sort(key = lambda e : e[2])\n",
        "\n",
        "  edgeAccepted = 0\n",
        "  while (edgeAccepted < vsize - 1) :\n",
        "    e = eList.pop(-1)     # 가장 큰 가중치를 가진 간선\n",
        "    uset = find(e[0])     # 두 정점이 속한 집합 번호\n",
        "    vset = find(e[1])  \n",
        "\n",
        "    if uset != vset :     # 두 정점이 다른 집합의 원소이면\n",
        "      print(\"간선 추가 : (%s, %s, %d)\" %\n",
        "            (graph[0][e[0]], graph[0][e[1]], e[2]))    # 간선 추가\n",
        "      union(uset, vset)\n",
        "      edgeAccepted += 1\n",
        "\n"
      ],
      "execution_count": 11,
      "outputs": []
    },
    {
      "cell_type": "markdown",
      "metadata": {
        "id": "MVWKAmz-wecI"
      },
      "source": [
        "아래 코드셀은 11.5 을 테스트 하는 코드이다. 주어진 데이터를 이용하여 테스트를 실행하시오. "
      ]
    },
    {
      "cell_type": "code",
      "metadata": {
        "id": "VMw3QptJo0wo",
        "colab": {
          "base_uri": "https://localhost:8080/",
          "height": 0
        },
        "outputId": "56f3616c-006b-4c6b-ddc4-061f291d5dc6"
      },
      "source": [
        "# 교재 407 페이지 \n",
        "vertex =   ['A',    'B',    'C',    'D',    'E',    'F',    'G' ]\n",
        "weight = [ [None,\t29,\t\tNone,\tNone,\tNone,   10,\t\tNone],\n",
        "           [29,\tNone,\t16,\t\tNone,\tNone,\tNone,\t15  ],\n",
        "           [None,\t16,\t\tNone,\t12,\t\tNone,\tNone,\tNone],\n",
        "           [None,\tNone,   12,\t\tNone,\t22,\t\tNone,\t18  ],\n",
        "           [None,\tNone,\tNone,   22,\t\tNone,\t27,\t\t25  ],\n",
        "           [10,\tNone,\tNone,\tNone,   27,\t\tNone,\tNone],\n",
        "           [None,  15,\t\tNone,   18,\t\t25,\t\tNone,\tNone]]  \n",
        "\n",
        "graph = (vertex, weight)\n",
        "\n",
        "maxSpanningTree(graph)"
      ],
      "execution_count": 12,
      "outputs": [
        {
          "output_type": "stream",
          "name": "stdout",
          "text": [
            "간선 추가 : (A, B, 29)\n",
            "간선 추가 : (E, F, 27)\n",
            "간선 추가 : (E, G, 25)\n",
            "간선 추가 : (D, E, 22)\n",
            "간선 추가 : (B, C, 16)\n",
            "간선 추가 : (B, G, 15)\n"
          ]
        }
      ]
    },
    {
      "cell_type": "markdown",
      "metadata": {
        "id": "Kb9RvSQfrEui"
      },
      "source": [
        "# 11.6\n",
        "아래에 코드셀을 만들고, 문제 11.6 의 솔루션을 제공하는 함수 dijkstra_SP_with_path_print(...)을 작성하시오. 교재 428 문제 11.6에 보이는 바와 같이 출력하도록 작성하시오. "
      ]
    },
    {
      "cell_type": "code",
      "metadata": {
        "id": "ljWmmigyeLB3"
      },
      "source": [
        "INF = 9999\n",
        "def choose_vertex(dist, found) :\n",
        "  min = INF\n",
        "  minpos = -1\n",
        "  for i in range (len(dist)) :\n",
        "    if dist[i] < min and found[i] == False :\n",
        "      min = dist[i]\n",
        "      minpos = i\n",
        "  return minpos\n",
        "\n",
        "def dijkstra_SP_with_path_print(start, graph) :\n",
        "  vsize = len(graph[0])\n",
        "  dist = list(graph[1][start])\n",
        "  path = [start] * vsize\n",
        "  found = [False] * vsize\n",
        "  found[start] = True     # 시작정점 : 이미 찾아짐\n",
        "  dist[start] = 0         # 시작정점의 거리 0\n",
        "  pathh = [[start] for i in range (vsize)]\n",
        "\n",
        "  for i in range (vsize) :\n",
        "    # 최소 dist 정점 u 탐색\n",
        "    u = choose_vertex(dist, found)\n",
        "    found[u] = True       # 찾아진 u..\n",
        "\n",
        "    for w in range (vsize) :  \n",
        "      if not found[w] :                      # 아직 찾아지지 않았으면\n",
        "        if dist[u] + graph[1][u][w] < dist[w] :   # 갱신 조건 검사\n",
        "          dist[w] = dist[u] + graph[1][u][w]      # dist 갱신\n",
        "          path[w] = u                        # 이전 정점 갱신\n",
        "          pathh[w].append(u)\n",
        "  \n",
        "  for i in range (vsize) :\n",
        "    pathh[i].append(i)\n",
        "  \n",
        "  pathhh = [\"\" for i in range (vsize)]\n",
        "  for i in range (len(pathh)) :\n",
        "    strr = \"\"\n",
        "    for j in range (len(pathh[i])) :\n",
        "      strr += \" \" + str(pathh[i][j])\n",
        "    pathhh[i] = strr\n",
        "  \n",
        "  print(\"Src->Dst    Dist    Path\")\n",
        "  for i in range (1, vsize) :\n",
        "    print(\"0 -> %d     %d      \" %(i, dist[i]), pathhh[i])\n"
      ],
      "execution_count": 72,
      "outputs": []
    },
    {
      "cell_type": "markdown",
      "metadata": {
        "id": "xRaT52vSrUT7"
      },
      "source": [
        "아래 코드셀은 11.6 을 테스트 하는 코드이다. 주어진 데이터를 이용하여 테스트를 실행하시오."
      ]
    },
    {
      "cell_type": "code",
      "metadata": {
        "id": "EOLxleLIrZZe",
        "colab": {
          "base_uri": "https://localhost:8080/",
          "height": 0
        },
        "outputId": "14b7d0b3-38ae-4a06-e41a-9fd6213f77dd"
      },
      "source": [
        "vertex =   ['A',    'B',    'C',    'D',    'E',    'F',    'G' \t]\n",
        "weight = [ [0,\t    7,\t\tINF,\t\tINF,\t\t3,      10,\t\tINF\t],\n",
        "           [7,\t\t0,\t    4,\t\t10,\t    2,\t    6,\t    INF\t],\n",
        "           [INF,\t4,\t\t0,\t\t2,\t\tINF,\t\tINF,\t\tINF\t],\n",
        "           [INF,\t10,\t\t2,\t\t0,      11,\t\t9,\t\t4   ],\n",
        "           [3,\t    2,\t    INF,   \t11,\t\t0,      13,\t\t5   ],\n",
        "           [10,\t6,\t    INF,\t\t9,      13,\t\t0,\t\tINF\t],\n",
        "           [INF,   INF,\t\tINF,   \t4,\t\t5,\t\tINF,\t\t0   ] ]   \n",
        "\n",
        "graph = (vertex, weight)\n",
        "start = 0\n",
        "dijkstra_SP_with_path_print(start, graph) # modified 12.06"
      ],
      "execution_count": 73,
      "outputs": [
        {
          "output_type": "stream",
          "name": "stdout",
          "text": [
            "Src->Dst    Dist    Path\n",
            "0 -> 1     5        0 4 1\n",
            "0 -> 2     9        0 1 2\n",
            "0 -> 3     11        0 4 6 2 3\n",
            "0 -> 4     3        0 4\n",
            "0 -> 5     10        0 5\n",
            "0 -> 6     8        0 4 6\n"
          ]
        }
      ]
    }
  ]
}