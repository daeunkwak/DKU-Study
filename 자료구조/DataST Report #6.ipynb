{
  "nbformat": 4,
  "nbformat_minor": 0,
  "metadata": {
    "colab": {
      "name": "2021-2-DataST-HW6-곽다은-32200185",
      "provenance": [],
      "collapsed_sections": []
    },
    "kernelspec": {
      "name": "python3",
      "display_name": "Python 3"
    },
    "language_info": {
      "name": "python"
    }
  },
  "cells": [
    {
      "cell_type": "markdown",
      "metadata": {
        "id": "AJ2jp6bcJg2V"
      },
      "source": [
        "＃2021-2 자료구조 6주차 과제 \n",
        "- 마감: 2021.10.11(월요일)\n",
        "- 이름: 곽다은\n",
        "- 학번: 32200185\n",
        "\n",
        "- 과제: 2문제, 각 문제 당 5점 \n",
        "1. P5.3\n",
        "2. P5.4\n",
        "\n",
        "** 풀지 못한 문제 - 만일 과제의 문제를 다 풀지 못한 경우, 여기에 풀지 못한 번호를 적으시오. \n",
        "\n",
        "\n",
        "## <font color='red' > 과제는 문제에 대한 코딩이 완성되고 테스트를 통해 적절성이 검증된 경우만 점수가 부여되며, 이외 사항에 대해서는 0점 처리 </font>"
      ]
    },
    {
      "cell_type": "markdown",
      "metadata": {
        "id": "Gag1en13KazR"
      },
      "source": [
        "## 5.3 \n",
        "\n",
        "아래에 코드셀을 만들고, 셀에 함수 myFibonacci 을 작성. "
      ]
    },
    {
      "cell_type": "code",
      "metadata": {
        "id": "oROlP7qhJS-u"
      },
      "source": [
        "def myFibonacci(num) :\n",
        "  q = []\n",
        "  q.append(0)\n",
        "  q.append(1)\n",
        "  for i in range (num - 1) :\n",
        "    q.append(q.pop(0) + q[-1])\n",
        "    # print(q)\n",
        "  return q[-1]"
      ],
      "execution_count": null,
      "outputs": []
    },
    {
      "cell_type": "markdown",
      "metadata": {
        "id": "MPF9N1VNKyYb"
      },
      "source": [
        "아래에 코드셀을 만들고, myFibonacci 함수를 호출하여,   myFibonacci(10)의 결과를 출력하시오. "
      ]
    },
    {
      "cell_type": "code",
      "metadata": {
        "colab": {
          "base_uri": "https://localhost:8080/"
        },
        "id": "UDxUyBofw6Jx",
        "outputId": "777c5e3d-14c8-4e26-960f-cac0d7668c13"
      },
      "source": [
        "res = myFibonacci(10)\n",
        "print(res)"
      ],
      "execution_count": null,
      "outputs": [
        {
          "output_type": "stream",
          "name": "stdout",
          "text": [
            "55\n"
          ]
        }
      ]
    },
    {
      "cell_type": "markdown",
      "metadata": {
        "id": "KVDXivqYWgD6"
      },
      "source": [
        "#5.4\n"
      ]
    },
    {
      "cell_type": "markdown",
      "metadata": {
        "id": "l_jlkOyfYCeT"
      },
      "source": [
        "\n",
        "아래에 코드셀을 만들고, 셀에 5.4 에서 요구된 사항을 반영하여 checkPalindromeByDeque 를 구현하시오. \n",
        "\n"
      ]
    },
    {
      "cell_type": "code",
      "metadata": {
        "id": "T3NJ1CP-Z1IO"
      },
      "source": [
        "from collections import deque\n",
        "\n",
        "def checkPalindromeByDeque(input) :\n",
        "  dq = deque()\n",
        "  for ch in input :\n",
        "    if ch.isalpha() :\n",
        "      ch = ch.lower()\n",
        "      dq.append(ch)\n",
        "  # print(type(dq))\n",
        "  front = []\n",
        "  back = []\n",
        "  for i in range (len(dq) // 2) :\n",
        "    front.append(dq.popleft())\n",
        "    back.append(dq.pop())\n",
        "  if front == back :\n",
        "    return \"yes\"\n",
        "  else :\n",
        "    return \"no\"\n"
      ],
      "execution_count": null,
      "outputs": []
    },
    {
      "cell_type": "markdown",
      "metadata": {
        "id": "VZE7QAUdYY2k"
      },
      "source": [
        "테스트: 아래에 코드셀을 만들고, 위에서 작성된 checkPalindromeByDeque 를 **다음** 입력에 대하여 테스트하시오.\n",
        "- \"madam, I'm Adam', 'race car'"
      ]
    },
    {
      "cell_type": "code",
      "metadata": {
        "colab": {
          "base_uri": "https://localhost:8080/"
        },
        "id": "jd8RN7Z-n5X4",
        "outputId": "79df08a3-d528-4e3c-c607-46599bdda9e0"
      },
      "source": [
        "res1 = checkPalindromeByDeque(\"madam, I'm Adam\")\n",
        "res2 = checkPalindromeByDeque(\"race car\")\n",
        "print(res1)\n",
        "print(res2)"
      ],
      "execution_count": null,
      "outputs": [
        {
          "output_type": "stream",
          "name": "stdout",
          "text": [
            "yes\n",
            "yes\n"
          ]
        }
      ]
    }
  ]
}