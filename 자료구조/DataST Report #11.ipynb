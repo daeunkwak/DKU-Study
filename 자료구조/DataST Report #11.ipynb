{
  "nbformat": 4,
  "nbformat_minor": 0,
  "metadata": {
    "colab": {
      "name": "2021-2-DataST-HW11-곽다은-32200185",
      "provenance": [],
      "collapsed_sections": []
    },
    "kernelspec": {
      "name": "python3",
      "display_name": "Python 3"
    },
    "language_info": {
      "name": "python"
    }
  },
  "cells": [
    {
      "cell_type": "markdown",
      "metadata": {
        "id": "AJ2jp6bcJg2V"
      },
      "source": [
        "＃2021-2 자료구조 11주차 과제 \n",
        "- 마감: 2021.11.15(월요일)\n",
        "- 이름: 곽다은\n",
        "- 학번: 32200185\n",
        "\n",
        "- 과제: 각 5점\n",
        "1. P8.5\n",
        "2. P8.6\n",
        "\n",
        "\n",
        "** 풀지 못한 문제 - 만일 과제의 문제를 다 풀지 못한 경우, 여기에 풀지 못한 번호를 적으시오. \n",
        "\n",
        "\n",
        "## <font color='red' > 과제는 문제에 대한 코딩이 완성되고 테스트를 통해 적절성이 검증된 경우만 점수가 부여되며, 이외 사항에 대해서는 0점 처리. 코드에 에러가 있음에도 불구하고,  과제 앞 부분 미완성 부분에 적시하지 않은 경우 전체 과제를 0점 처리합니다.  </font>"
      ]
    },
    {
      "cell_type": "markdown",
      "metadata": {
        "id": "Gag1en13KazR"
      },
      "source": [
        "# 8.5 "
      ]
    },
    {
      "cell_type": "markdown",
      "metadata": {
        "id": "46ED_gOUuIyE"
      },
      "source": [
        "아래에 코드셀을 만들고, 셀에 함수 path_length 구현하라. "
      ]
    },
    {
      "cell_type": "code",
      "metadata": {
        "id": "3128SNKlnTYe"
      },
      "source": [
        "from collections import deque\n",
        "\n",
        "class TNode :\n",
        "  def __init__(self, data, left, right) :\n",
        "      self.data = data\n",
        "      self.left = left\n",
        "      self.right = right\n",
        "\n",
        "  def count_node(n) :\n",
        "    if n is None :\n",
        "      return 0\n",
        "    else :\n",
        "      return 1 + count_node(n.left) + count_node(n.right)\n",
        "\n",
        "# 개선된 스택을 이용한 전위 순회 방법을 활용한 path_length\n",
        "def path_length(root) :\n",
        "  cnt = 0\n",
        "  if root is None :\n",
        "    return cnt\n",
        "  stack = deque()\n",
        "  stack.append(root)\n",
        "\n",
        "  curr = root\n",
        "  while stack :\n",
        "    if curr :\n",
        "      if curr.right :\n",
        "        stack.append(curr.right)\n",
        "        cnt += 1\n",
        "      curr = curr.left\n",
        "      cnt += 1\n",
        "    else :\n",
        "      curr = stack.pop()\n",
        "  return cnt\n",
        "\n",
        "    \n",
        "  \n"
      ],
      "execution_count": null,
      "outputs": []
    },
    {
      "cell_type": "markdown",
      "metadata": {
        "id": "jOYIHQslsd0A"
      },
      "source": [
        "아래의 코드를 이용하여 테스트를 수행하시오. "
      ]
    },
    {
      "cell_type": "code",
      "metadata": {
        "id": "HFyp2IcEsi4c",
        "colab": {
          "base_uri": "https://localhost:8080/"
        },
        "outputId": "36155c91-a189-4820-c92e-e1523da07e87"
      },
      "source": [
        "c = TNode('C', None, None)\n",
        "d = TNode('D', None, None)\n",
        "b = TNode('B', c, d)\n",
        "f = TNode('F', None, None)\n",
        "e = TNode('E', f, None)\n",
        "root = TNode('A', b, e)\n",
        "\n",
        "print(\"path length: \", path_length(root)) # should be 8"
      ],
      "execution_count": null,
      "outputs": [
        {
          "output_type": "stream",
          "name": "stdout",
          "text": [
            "path length:  8\n"
          ]
        }
      ]
    },
    {
      "cell_type": "markdown",
      "metadata": {
        "id": "w9rXA9hpu8KL"
      },
      "source": [
        "##8.6"
      ]
    },
    {
      "cell_type": "markdown",
      "metadata": {
        "id": "c7TV7nI3vG4n"
      },
      "source": [
        "아래에 코드셀을 만들고, 셀에 함수 reverse 를 구현하라. 결과는 inorder traversal 결과이다. 결과 출력에는 교재 283 페이지의 inorder 함수를 이용.  "
      ]
    },
    {
      "cell_type": "code",
      "metadata": {
        "id": "Uy-qjHDKrzhA"
      },
      "source": [
        "def inorder(n) :\n",
        "  if n is not None :\n",
        "    inorder(n.left)\n",
        "    print(n.data, end = ' ')\n",
        "    inorder(n.right)\n",
        "\n",
        "c = TNode('C', None, None)\n",
        "d = TNode('D', None, None)\n",
        "b = TNode('B', c, d)\n",
        "f = TNode('F', None, None)\n",
        "e = TNode('E', f, None)\n",
        "root = TNode('A', b, e)"
      ],
      "execution_count": null,
      "outputs": []
    },
    {
      "cell_type": "markdown",
      "metadata": {
        "id": "_PRMFZEKvdz7"
      },
      "source": [
        "아래의 코드를 이용하여 테스트를 수행하시오."
      ]
    },
    {
      "cell_type": "code",
      "metadata": {
        "id": "znE830aqwHcn",
        "colab": {
          "base_uri": "https://localhost:8080/"
        },
        "outputId": "9a5a6894-fb21-43b5-d3b1-6757d725703b"
      },
      "source": [
        "reversed_tree = reverse(root)\n",
        "inorder(reversed_tree) # E-F-A-D-B-C "
      ],
      "execution_count": null,
      "outputs": [
        {
          "output_type": "stream",
          "name": "stdout",
          "text": [
            "E F A D B C "
          ]
        }
      ]
    }
  ]
}