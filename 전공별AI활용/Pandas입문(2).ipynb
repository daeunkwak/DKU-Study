{
 "cells": [
  {
   "cell_type": "markdown",
   "id": "23580210",
   "metadata": {},
   "source": [
    "## Pandas 입문 (2)\n",
    "#### 32200185 곽다은\n",
    "### 예제 1-16 특정 열을 행 인덱스로 설정"
   ]
  },
  {
   "cell_type": "code",
   "execution_count": 8,
   "id": "420cb132",
   "metadata": {},
   "outputs": [],
   "source": [
    "# set_index() 메소드를 사용하여 행 인덱스를 새로 지정하면 기존 행 인덱스는 삭제됨\n",
    "import pandas as pd\n",
    "\n",
    "exam_data = {'이름' :['다은', '지원', '채영'],\n",
    "            '수학' : [90, 80, 70],\n",
    "            '영어' : [98, 89, 95],\n",
    "            '음악' : [85, 95, 100],\n",
    "            '체육' : [100, 90, 90]}\n",
    "df = pd.DataFrame(exam_data)"
   ]
  },
  {
   "cell_type": "code",
   "execution_count": 4,
   "id": "b17196b9",
   "metadata": {},
   "outputs": [
    {
     "data": {
      "text/html": [
       "<div>\n",
       "<style scoped>\n",
       "    .dataframe tbody tr th:only-of-type {\n",
       "        vertical-align: middle;\n",
       "    }\n",
       "\n",
       "    .dataframe tbody tr th {\n",
       "        vertical-align: top;\n",
       "    }\n",
       "\n",
       "    .dataframe thead th {\n",
       "        text-align: right;\n",
       "    }\n",
       "</style>\n",
       "<table border=\"1\" class=\"dataframe\">\n",
       "  <thead>\n",
       "    <tr style=\"text-align: right;\">\n",
       "      <th></th>\n",
       "      <th>이름</th>\n",
       "      <th>수학</th>\n",
       "      <th>영어</th>\n",
       "      <th>음악</th>\n",
       "      <th>체육</th>\n",
       "    </tr>\n",
       "  </thead>\n",
       "  <tbody>\n",
       "    <tr>\n",
       "      <th>0</th>\n",
       "      <td>다은</td>\n",
       "      <td>90</td>\n",
       "      <td>98</td>\n",
       "      <td>85</td>\n",
       "      <td>100</td>\n",
       "    </tr>\n",
       "    <tr>\n",
       "      <th>1</th>\n",
       "      <td>지원</td>\n",
       "      <td>80</td>\n",
       "      <td>89</td>\n",
       "      <td>95</td>\n",
       "      <td>90</td>\n",
       "    </tr>\n",
       "    <tr>\n",
       "      <th>2</th>\n",
       "      <td>채영</td>\n",
       "      <td>70</td>\n",
       "      <td>95</td>\n",
       "      <td>100</td>\n",
       "      <td>90</td>\n",
       "    </tr>\n",
       "  </tbody>\n",
       "</table>\n",
       "</div>"
      ],
      "text/plain": [
       "   이름  수학  영어   음악   체육\n",
       "0  다은  90  98   85  100\n",
       "1  지원  80  89   95   90\n",
       "2  채영  70  95  100   90"
      ]
     },
     "execution_count": 4,
     "metadata": {},
     "output_type": "execute_result"
    }
   ],
   "source": [
    "df"
   ]
  },
  {
   "cell_type": "code",
   "execution_count": 5,
   "id": "163364cd",
   "metadata": {},
   "outputs": [
    {
     "name": "stdout",
     "output_type": "stream",
     "text": [
      "    수학  영어   음악   체육\n",
      "이름                  \n",
      "다은  90  98   85  100\n",
      "지원  80  89   95   90\n",
      "채영  70  95  100   90\n",
      "\n",
      "     수학  영어   체육\n",
      "음악              \n",
      "85   90  98  100\n",
      "95   80  89   90\n",
      "100  70  95   90\n",
      "\n",
      "        영어   체육\n",
      "수학 음악          \n",
      "90 85   98  100\n",
      "80 95   89   90\n",
      "70 100  95   90\n"
     ]
    }
   ],
   "source": [
    "ndf = df.set_index(['이름'])\n",
    "print(ndf)\n",
    "print(\"\")\n",
    "\n",
    "ndf2 = ndf.set_index(['음악'])\n",
    "print(ndf2)\n",
    "print(\"\")\n",
    "\n",
    "ndf3 = ndf.set_index(['수학', '음악'])\n",
    "print(ndf3)"
   ]
  },
  {
   "cell_type": "markdown",
   "id": "8253c42f",
   "metadata": {},
   "source": [
    "### 예제 1-17 인덱스 재지정, NaN값 처리"
   ]
  },
  {
   "cell_type": "code",
   "execution_count": 7,
   "id": "9651a7cc",
   "metadata": {},
   "outputs": [
    {
     "name": "stdout",
     "output_type": "stream",
     "text": [
      "    c0  c1  c3  c4\n",
      "r0   1   4   6   5\n",
      "r1   2   5   5   7\n",
      "r2   3   6   4   4\n",
      "\n",
      "     c0   c1   c3   c4\n",
      "r0  1.0  4.0  6.0  5.0\n",
      "r1  2.0  5.0  5.0  7.0\n",
      "r2  3.0  6.0  4.0  4.0\n",
      "r3  NaN  NaN  NaN  NaN\n",
      "r4  NaN  NaN  NaN  NaN\n",
      "\n",
      "    c0  c1  c3  c4\n",
      "r0   1   4   6   5\n",
      "r1   2   5   5   7\n",
      "r2   3   6   4   4\n",
      "r3   0   0   0   0\n",
      "r4   0   0   0   0\n"
     ]
    }
   ],
   "source": [
    "# 딕셔너리 정의\n",
    "dict_data = {'c0' : [1, 2, 3], 'c1' : [4, 5, 6], 'c3' : [6, 5, 4], 'c4' : [5, 7, 4]}\n",
    "\n",
    "# 딕셔너리를 데이터프레임으로 변환 -> 인덱스를 [r0, r1, r2]로 지정\n",
    "df = pd.DataFrame(dict_data, index = ['r0', 'r1', 'r2'])\n",
    "print(df)\n",
    "print(\"\")\n",
    "\n",
    "# 인덱스를 [r0, r1, r2, r3, r4]로 재지정\n",
    "new_index = ['r0', 'r1', 'r2', 'r3', 'r4']\n",
    "ndf = df.reindex(new_index)\n",
    "print(ndf)\n",
    "print(\"\")\n",
    "\n",
    "# reindex로 발생한 NaN값을 숫자 0으로 채우기\n",
    "new_index = ['r0', 'r1', 'r2', 'r3', 'r4']\n",
    "ndf2 = df.reindex(new_index, fill_value = 0)\n",
    "print(ndf2)"
   ]
  },
  {
   "cell_type": "markdown",
   "id": "234c27c8",
   "metadata": {},
   "source": [
    "### 예제 1-18 행 인덱스 초기화"
   ]
  },
  {
   "cell_type": "code",
   "execution_count": 9,
   "id": "946688bd",
   "metadata": {},
   "outputs": [
    {
     "name": "stdout",
     "output_type": "stream",
     "text": [
      "    c0  c1  c3  c4\n",
      "r0   1  22   6  55\n",
      "r1   2  33   5  77\n",
      "r2   3  44   4  44\n",
      "\n",
      "  index  c0  c1  c3  c4\n",
      "0    r0   1  22   6  55\n",
      "1    r1   2  33   5  77\n",
      "2    r2   3  44   4  44\n"
     ]
    }
   ],
   "source": [
    "# 딕셔너리 정의\n",
    "dict_data = {'c0' : [1, 2, 3], 'c1' : [22, 33, 44], 'c3' : [6, 5, 4], 'c4' : [55, 77, 44]}\n",
    "\n",
    "# 딕셔너리를 데이터프레임으로 변환 -> 인덱스를 [r0, r1, r2]로 지정\n",
    "df = pd.DataFrame(dict_data, index = ['r0', 'r1', 'r2'])\n",
    "print(df)\n",
    "print(\"\")\n",
    "\n",
    "# 행 인덱스를 정수형으로 초기화\n",
    "ndf = df.reset_index()\n",
    "print(ndf)"
   ]
  },
  {
   "cell_type": "markdown",
   "id": "ded17bb1",
   "metadata": {},
   "source": [
    "### 예제 1-19 행 인덱스를 기준으로 데이터프레임 정렬\n",
    "* sort_values()메소드 활용 -> 새롭게 정렬된 데이터프레임 반환"
   ]
  },
  {
   "cell_type": "code",
   "execution_count": 10,
   "id": "4bd8603b",
   "metadata": {},
   "outputs": [
    {
     "name": "stdout",
     "output_type": "stream",
     "text": [
      "    c0  c1  c3  c4\n",
      "r0   1  22   6  55\n",
      "r1   2  33   5  77\n",
      "r2   3  44   4  44\n",
      "\n",
      "    c0  c1  c3  c4\n",
      "r2   3  44   4  44\n",
      "r1   2  33   5  77\n",
      "r0   1  22   6  55\n"
     ]
    }
   ],
   "source": [
    "# 딕셔너리 정의\n",
    "dict_data = {'c0' : [1, 2, 3], 'c1' : [22, 33, 44], 'c3' : [6, 5, 4], 'c4' : [55, 77, 44]}\n",
    "\n",
    "# 딕셔너리를 데이터프레임으로 변환 -> 인덱스를 [r0, r1, r2]로 지정\n",
    "df = pd.DataFrame(dict_data, index = ['r0', 'r1', 'r2'])\n",
    "print(df)\n",
    "print(\"\")\n",
    "\n",
    "# 내림차순으로 행 인덱스 정렬\n",
    "# sort_values()메소드 활용 -> 새롭게 정렬된 데이터프레임 반환\n",
    "ndf = df.sort_index(ascending = False)\n",
    "print(ndf)"
   ]
  },
  {
   "cell_type": "markdown",
   "id": "7f31eb00",
   "metadata": {},
   "source": [
    "### 산술연산\n",
    "* 판다스 객체의 산술연산은 내부적으로 3단계 프로세스를 거친다.\n",
    "1. 행/열 인덱스를 기준으로 모든 원소를 정렬한다.\n",
    "2. 동일한 위치에 있는 원소끼리 일대일로 대응시킨다.\n",
    "3. 일대일 대응이 되는 원소끼리 연산을 처리한다\n",
    "\n",
    "### 예제 1-21 시리즈 연산\n",
    "* 시리즈 객체에 어떤 숫자를 더하면 시리즈의 개별 원소에 각각 숫자를 더하고 계산한 결과를 시리즈 객체로 반환한다."
   ]
  },
  {
   "cell_type": "code",
   "execution_count": 11,
   "id": "92a11cc2",
   "metadata": {},
   "outputs": [
    {
     "name": "stdout",
     "output_type": "stream",
     "text": [
      "국어    100\n",
      "영어     80\n",
      "수학     90\n",
      "dtype: int64\n",
      "\n",
      "국어    0.50\n",
      "영어    0.40\n",
      "수학    0.45\n",
      "dtype: float64\n",
      "\n",
      "<class 'pandas.core.series.Series'>\n"
     ]
    }
   ],
   "source": [
    "# 딕셔너리 데이터로 판다스 시리즈 만들기\n",
    "student1 = pd.Series({'국어' : 100, '영어' : 80, '수학' : 90})\n",
    "print(student1)\n",
    "print(\"\")\n",
    "\n",
    "# 학생의 과목별 점수를 200으로 나누기\n",
    "percentage = student1 / 200\n",
    "\n",
    "print(percentage)\n",
    "print(\"\")\n",
    "print(type(percentage))"
   ]
  },
  {
   "cell_type": "markdown",
   "id": "e25b4712",
   "metadata": {},
   "source": [
    "### 예제 1-22 시리즈 연산"
   ]
  },
  {
   "cell_type": "code",
   "execution_count": 12,
   "id": "ae313b29",
   "metadata": {},
   "outputs": [
    {
     "name": "stdout",
     "output_type": "stream",
     "text": [
      "국어    100\n",
      "영어     80\n",
      "수학     90\n",
      "dtype: int64\n",
      "\n",
      "국어    90\n",
      "영어    88\n",
      "수학    77\n",
      "dtype: int64\n",
      "\n",
      "<class 'pandas.core.series.Series'>\n",
      "\n",
      "              국어           영어           수학\n",
      "덧셈    190.000000   168.000000   167.000000\n",
      "뺄셈     10.000000    -8.000000    13.000000\n",
      "곱셈   9000.000000  7040.000000  6930.000000\n",
      "나눗셈     1.111111     0.909091     1.168831\n"
     ]
    }
   ],
   "source": [
    "# 딕셔너리 데이터로 판다스 시리즈 만들기\n",
    "student1 = pd.Series({'국어' : 100, '영어' : 80, '수학' : 90})\n",
    "student2 = pd.Series({'국어' : 90, '영어' : 88, '수학' : 77})\n",
    "\n",
    "print(student1)\n",
    "print(\"\")\n",
    "print(student2)\n",
    "print(\"\")\n",
    "\n",
    "# 두 학생의 과목별 점수로 사칙연산 수행\n",
    "add = student1 + student2\n",
    "sub = student1 - student2\n",
    "mul = student1 * student2\n",
    "div = student1 / student2\n",
    "print(type(div))\n",
    "print(\"\")\n",
    "\n",
    "# 사칙연산 결과를 데이터프레임으로 합치기(시리즈 -> 데이터프레임)\n",
    "result = pd.DataFrame([add, sub, mul, div], \n",
    "                      index = ['덧셈', '뺄셈', '곱셈', '나눗셈'])\n",
    "print(result)"
   ]
  },
  {
   "cell_type": "markdown",
   "id": "a03c6147",
   "metadata": {},
   "source": [
    "### 예제 1-23 시리즈 연산"
   ]
  },
  {
   "cell_type": "code",
   "execution_count": 13,
   "id": "9a4c7010",
   "metadata": {},
   "outputs": [
    {
     "name": "stdout",
     "output_type": "stream",
     "text": [
      "국어     NaN\n",
      "영어    80.0\n",
      "수학    90.0\n",
      "dtype: float64\n",
      "\n",
      "수학    80\n",
      "국어    90\n",
      "dtype: int64\n",
      "\n",
      "<class 'pandas.core.series.Series'>\n",
      "\n",
      "     국어        수학  영어\n",
      "덧셈  NaN   170.000 NaN\n",
      "뺄셈  NaN    10.000 NaN\n",
      "곱셈  NaN  7200.000 NaN\n",
      "나눗셈 NaN     1.125 NaN\n"
     ]
    }
   ],
   "source": [
    "import numpy as np\n",
    "\n",
    "student1 = pd.Series({'국어' : np.nan, '영어' : 80, '수학' : 90})\n",
    "student2 = pd.Series({'수학' : 80, '국어' : 90})\n",
    "\n",
    "print(student1)\n",
    "print(\"\")\n",
    "print(student2)\n",
    "print(\"\")\n",
    "\n",
    "# 두 학생의 과목별 점수로 사칙연산 수행 (시리즈 vs 시리즈)\n",
    "add = student1 + student2\n",
    "sub = student1 - student2\n",
    "mul = student1 * student2\n",
    "div = student1 / student2\n",
    "print(type(div))\n",
    "print(\"\")\n",
    "\n",
    "# 사칙연산 결과를 데이터프레임으로 합치기(시리즈 -> 데이터프레임)\n",
    "result = pd.DataFrame([add, sub, mul, div], \n",
    "                      index = ['덧셈', '뺄셈', '곱셈', '나눗셈'])\n",
    "print(result)"
   ]
  },
  {
   "cell_type": "markdown",
   "id": "545b92c5",
   "metadata": {},
   "source": [
    "### 예제 1-24 연산메소드 활용"
   ]
  },
  {
   "cell_type": "code",
   "execution_count": 15,
   "id": "6e9d3bb4",
   "metadata": {},
   "outputs": [
    {
     "name": "stdout",
     "output_type": "stream",
     "text": [
      "국어     NaN\n",
      "영어    80.0\n",
      "수학    90.0\n",
      "dtype: float64\n",
      "\n",
      "수학    80\n",
      "국어    90\n",
      "dtype: int64\n",
      "\n",
      "       국어        수학    영어\n",
      "덧셈   90.0   170.000  80.0\n",
      "뺄셈  -90.0    10.000  80.0\n",
      "곱셈    0.0  7200.000   0.0\n",
      "나눗셈   0.0     1.125   inf\n"
     ]
    }
   ],
   "source": [
    "student1 = pd.Series({'국어' : np.nan, '영어' : 80, '수학' : 90})\n",
    "student2 = pd.Series({'수학' : 80, '국어' : 90})\n",
    "\n",
    "print(student1)\n",
    "print(\"\")\n",
    "print(student2)\n",
    "print(\"\")\n",
    "\n",
    "# 두 학생의 과목별 점수로 사칙연산 수행 (연산 메소드 사용)\n",
    "sr_add = student1.add(student2, fill_value = 0)\n",
    "sr_sub = student1.sub(student2, fill_value = 0)\n",
    "sr_mul = student1.mul(student2, fill_value = 0)\n",
    "sr_div = student1.div(student2, fill_value = 0)\n",
    "\n",
    "# 사칙연산 결과를 데이터프레임으로 합치기(시리즈 -> 데이터프레임)\n",
    "result = pd.DataFrame([sr_add, sr_sub, sr_mul, sr_div],\n",
    "                     index = ['덧셈', '뺄셈', '곱셈', '나눗셈'])\n",
    "print(result)"
   ]
  },
  {
   "cell_type": "markdown",
   "id": "0bbf5328",
   "metadata": {},
   "source": [
    "### 예제 1-25 Seaborn 내장 데이터셋 사용"
   ]
  },
  {
   "cell_type": "code",
   "execution_count": 17,
   "id": "6e3d5d75",
   "metadata": {},
   "outputs": [
    {
     "name": "stdout",
     "output_type": "stream",
     "text": [
      "    age     fare\n",
      "0  22.0   7.2500\n",
      "1  38.0  71.2833\n",
      "2  26.0   7.9250\n",
      "3  35.0  53.1000\n",
      "4  35.0   8.0500\n",
      "\n",
      "<class 'pandas.core.frame.DataFrame'>\n",
      "\n",
      "    age     fare\n",
      "0  32.0  17.2500\n",
      "1  48.0  81.2833\n",
      "2  36.0  17.9250\n",
      "3  45.0  63.1000\n",
      "4  45.0  18.0500\n",
      "\n",
      "<class 'pandas.core.frame.DataFrame'>\n"
     ]
    }
   ],
   "source": [
    "import seaborn as sns\n",
    "\n",
    "# titanic 데이터셋에서 age, fare 2개 열을 선택하여 데이터프레임 만들기\n",
    "titanic = sns.load_dataset('titanic')\n",
    "df = titanic.loc[:, ['age', 'fare']]\n",
    "print(df.head())    # 첫 5행만 표시\n",
    "print(\"\")\n",
    "print(type(df))\n",
    "print(\"\")\n",
    "\n",
    "# 데이터프레임에 숫자 10 더하기\n",
    "addition = df + 10\n",
    "print(addition.head())\n",
    "print(\"\")\n",
    "print(type(addition))"
   ]
  },
  {
   "cell_type": "markdown",
   "id": "ccbc50be",
   "metadata": {},
   "source": [
    "### 예제 1-26 Seaborn 내장 데이터셋 사용"
   ]
  },
  {
   "cell_type": "code",
   "execution_count": 18,
   "id": "87bd61e5",
   "metadata": {},
   "outputs": [
    {
     "name": "stdout",
     "output_type": "stream",
     "text": [
      "      age   fare\n",
      "886  27.0  13.00\n",
      "887  19.0  30.00\n",
      "888   NaN  23.45\n",
      "889  26.0  30.00\n",
      "890  32.0   7.75\n",
      "\n",
      "<class 'pandas.core.frame.DataFrame'>\n",
      "\n",
      "      age   fare\n",
      "886  37.0  23.00\n",
      "887  29.0  40.00\n",
      "888   NaN  33.45\n",
      "889  36.0  40.00\n",
      "890  42.0  17.75\n",
      "\n",
      "<class 'pandas.core.frame.DataFrame'>\n",
      "\n",
      "      age  fare\n",
      "886  10.0  10.0\n",
      "887  10.0  10.0\n",
      "888   NaN  10.0\n",
      "889  10.0  10.0\n",
      "890  10.0  10.0\n",
      "\n",
      "<class 'pandas.core.frame.DataFrame'>\n"
     ]
    }
   ],
   "source": [
    "# titanic 데이터셋에서 age, fare 2개 열을 선택하여 데이터프레임 만들기\n",
    "titanic = sns.load_dataset('titanic')\n",
    "df = titanic.loc[:, ['age', 'fare']]\n",
    "print(df.tail())    # 마지막 5행만 표시\n",
    "print(\"\")\n",
    "print(type(df))\n",
    "print(\"\")\n",
    "\n",
    "# 데이터프레임에 숫자 10 더하기\n",
    "addition = df + 10\n",
    "print(addition.tail())\n",
    "print(\"\")\n",
    "print(type(addition))\n",
    "print(\"\")\n",
    "\n",
    "# 데이터프레임끼리 연산하기\n",
    "subtraction = addition - df\n",
    "print(subtraction.tail())\n",
    "print(\"\")\n",
    "print(type(subtraction))"
   ]
  },
  {
   "cell_type": "code",
   "execution_count": null,
   "id": "31cb039f",
   "metadata": {},
   "outputs": [],
   "source": []
  }
 ],
 "metadata": {
  "kernelspec": {
   "display_name": "Python 3 (ipykernel)",
   "language": "python",
   "name": "python3"
  },
  "language_info": {
   "codemirror_mode": {
    "name": "ipython",
    "version": 3
   },
   "file_extension": ".py",
   "mimetype": "text/x-python",
   "name": "python",
   "nbconvert_exporter": "python",
   "pygments_lexer": "ipython3",
   "version": "3.8.10"
  }
 },
 "nbformat": 4,
 "nbformat_minor": 5
}
