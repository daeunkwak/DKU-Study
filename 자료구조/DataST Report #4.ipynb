{
  "nbformat": 4,
  "nbformat_minor": 0,
  "metadata": {
    "colab": {
      "name": "2021-2-DataST-HW4-곽다은-32200185",
      "provenance": [],
      "collapsed_sections": []
    },
    "kernelspec": {
      "name": "python3",
      "display_name": "Python 3"
    },
    "language_info": {
      "name": "python"
    }
  },
  "cells": [
    {
      "cell_type": "markdown",
      "metadata": {
        "id": "AJ2jp6bcJg2V"
      },
      "source": [
        "＃2021-2 자료구조 4주차 과제 \n",
        "- 마감: 2021.09.27(월요일)\n",
        "- 이름: 곽다은\n",
        "- 학번: 32200185\n",
        "\n",
        "- 과제: 5문제, 각 문제 당 2점 \n",
        "Python FunctionSummarization.pdf 의 21 페이지에 있는 다음의 함수 작성법을 보여줄 수 예제를 만들어 테스트 하시오. \n",
        "1. Positional arguments\n",
        "2. Keyword arguments\n",
        "3. Variable positional arguments\n",
        "4. Variable keyword arguments\n",
        "5. Keyword-only arguments\n",
        "\n",
        "\n",
        "** 풀지 못한 문제 - 만일 과제의 문제를 다 풀지 못한 경우, 여기에 풀지 못한 번호를 적으시오. \n",
        "\n",
        "\n",
        "## <font color='red' > 과제는 문제에 대한 코딩이 완성되고 테스트를 통해 적절성이 검증된 경우만 점수가 부여되며, 이외 사항에 대해서는 0점 처리 </font>"
      ]
    },
    {
      "cell_type": "markdown",
      "metadata": {
        "id": "FZUVHGZBTTLG"
      },
      "source": [
        "1. 다음에 코드 셀을 만들고 Positional arguments 에 대한 예제를 작성하시오. "
      ]
    },
    {
      "cell_type": "markdown",
      "metadata": {
        "id": "YzaVM6DGTclr"
      },
      "source": [
        "다음에 코드 셀을 만들고 Positional arguments 에 대한 테스트를 작성하고 실행하시오. "
      ]
    },
    {
      "cell_type": "code",
      "metadata": {
        "colab": {
          "base_uri": "https://localhost:8080/"
        },
        "id": "Z41j4P_I5MSU",
        "outputId": "827cef2d-7740-445c-da3b-c057df73865a"
      },
      "source": [
        "# Positional arguments -> Arguments reading from left to right\n",
        "def func(a, b, c, d, e, f) :\n",
        "  print(a, \":\", d, \"cm\")\n",
        "  print(b, \":\", e, \"cm\")\n",
        "  print(c, \":\", f, \"cm\")\n",
        "  print(a, \"+\", c, \"=\", d + f, \"cm\")\n",
        "\n",
        "func(\"수경\", \"뽀송\", \"다은\", 158, 163, 80)"
      ],
      "execution_count": null,
      "outputs": [
        {
          "output_type": "stream",
          "name": "stdout",
          "text": [
            "수경 : 158 cm\n",
            "뽀송 : 163 cm\n",
            "다은 : 80 cm\n",
            "수경 + 다은 = 238 cm\n"
          ]
        }
      ]
    },
    {
      "cell_type": "markdown",
      "metadata": {
        "id": "HBMCbHjjTlNd"
      },
      "source": [
        "2. 다음에 코드 셀을 만들고 Keyword arguments 에 대한 예제를 작성하시오."
      ]
    },
    {
      "cell_type": "markdown",
      "metadata": {
        "id": "tHblY7dMTrD4"
      },
      "source": [
        "다음에 코드 셀을 만들고 Keyword arguments 에 대한 테스트를 작성하고 실행하시오."
      ]
    },
    {
      "cell_type": "code",
      "metadata": {
        "colab": {
          "base_uri": "https://localhost:8080/"
        },
        "id": "RVVo-Js-77x8",
        "outputId": "23256cc3-675b-41f2-c16b-1cca2a272c0e"
      },
      "source": [
        "# Keyword arguments\n",
        "def func(a, b, c, d, e, f) :\n",
        "  print(a, \":\", d, \"cm\")\n",
        "  print(b, \":\", e, \"cm\")\n",
        "  print(c, \":\", f, \"cm\")\n",
        "  print(a, \"+\", c, \"=\", d + f, \"cm\")\n",
        "\n",
        "func(b = \"수경\", a = \"뽀송\", c = \"다은\", e = 80, d = 163, f = 158)"
      ],
      "execution_count": 1,
      "outputs": [
        {
          "output_type": "stream",
          "name": "stdout",
          "text": [
            "뽀송 : 163 cm\n",
            "수경 : 80 cm\n",
            "다은 : 158 cm\n",
            "뽀송 + 다은 = 321 cm\n"
          ]
        }
      ]
    },
    {
      "cell_type": "markdown",
      "metadata": {
        "id": "Qvj_lGqyTpCV"
      },
      "source": [
        "3. 다음에 코드 셀을 만들고 Variable positional  arguments 에 대한 예제를 작성하시오."
      ]
    },
    {
      "cell_type": "markdown",
      "metadata": {
        "id": "bS551HFLT0Xo"
      },
      "source": [
        "다음에 코드 셀을 만들고 Variable positional  arguments 에 대한 테스트를 작성하고 실행하시오."
      ]
    },
    {
      "cell_type": "code",
      "metadata": {
        "colab": {
          "base_uri": "https://localhost:8080/"
        },
        "id": "gTboqQf_8pE9",
        "outputId": "803368ee-39e6-400a-a9da-eb7216977e72"
      },
      "source": [
        "# Variable positional arguments -> to pass a variable number of positional arguments to a function \n",
        "#   -> the number of arguments is varying\n",
        "\n",
        "# func(n) -> one list -> one argument\n",
        "print(\"#1\")\n",
        "def func(n) :\n",
        "      print(n[0], \":\", n[3], \"cm\")\n",
        "      print(n[1], \":\", n[4], \"cm\")\n",
        "      print(n[2], \":\", n[5], \"cm\")\n",
        "      print(n[0], \"+\", n[2], \"=\", n[3] + n[5], \"cm\")\n",
        "\n",
        "func([\"수경\", \"뽀송\", \"다은\", 158, 163, 80])\n",
        "\n",
        "print(\"\")\n",
        "\n",
        "# func(*n) -> unpacking -> len(list) arguments\n",
        "print(\"#2\")\n",
        "def func(*n) :\n",
        "      print(n[0], \":\", n[3], \"cm\")\n",
        "      print(n[1], \":\", n[4], \"cm\")\n",
        "      print(n[2], \":\", n[5], \"cm\")\n",
        "      print(n[0], \"+\", n[2], \"=\", n[3] + n[5], \"cm\")\n",
        "\n",
        "func(\"수경\", \"뽀송\", \"다은\", 158, 163, 80)"
      ],
      "execution_count": 2,
      "outputs": [
        {
          "output_type": "stream",
          "name": "stdout",
          "text": [
            "#1\n",
            "수경 : 158 cm\n",
            "뽀송 : 163 cm\n",
            "다은 : 80 cm\n",
            "수경 + 다은 = 238 cm\n",
            "\n",
            "#2\n",
            "수경 : 158 cm\n",
            "뽀송 : 163 cm\n",
            "다은 : 80 cm\n",
            "수경 + 다은 = 238 cm\n"
          ]
        }
      ]
    },
    {
      "cell_type": "markdown",
      "metadata": {
        "id": "cBPmrSW8T4aY"
      },
      "source": [
        "4. 다음에 코드 셀을 만들고 Variable keyword  arguments 에 대한 예제를 작성하시오."
      ]
    },
    {
      "cell_type": "markdown",
      "metadata": {
        "id": "7QkN99s3T_fu"
      },
      "source": [
        "다음에 코드 셀을 만들고 Variable keyword arguments 에 대한 테스트를 작성하고 실행하시오."
      ]
    },
    {
      "cell_type": "code",
      "metadata": {
        "colab": {
          "base_uri": "https://localhost:8080/"
        },
        "id": "jh4n4oYw3XLA",
        "outputId": "d01e4f6a-5093-4997-ad53-724e34d30e9e"
      },
      "source": [
        "# Variable keyword arguments -> very similar to positional arguments\n",
        "# syntax ** instead of *\n",
        "def func(**n) :\n",
        "  for key, value in n.items() :\n",
        "    print(\"{} : {}cm\".format(key, value))\n",
        "  print(\"\")\n",
        "\n",
        "print(\"#1\")\n",
        "func(다은 = 163, 수경 = 158, 뽀송 = 80)\n",
        "\n",
        "print(\"#2\")\n",
        "func(**(dict(다은 = 163, 수경 = 158, 뽀송 = 80)))\n",
        "\n",
        "print(\"#3\")\n",
        "func(**{'다은' : 163, '수경' : 158, '뽀송' : 80})"
      ],
      "execution_count": 3,
      "outputs": [
        {
          "output_type": "stream",
          "name": "stdout",
          "text": [
            "#1\n",
            "다은 : 163cm\n",
            "수경 : 158cm\n",
            "뽀송 : 80cm\n",
            "\n",
            "#2\n",
            "다은 : 163cm\n",
            "수경 : 158cm\n",
            "뽀송 : 80cm\n",
            "\n",
            "#3\n",
            "다은 : 163cm\n",
            "수경 : 158cm\n",
            "뽀송 : 80cm\n",
            "\n"
          ]
        }
      ]
    },
    {
      "cell_type": "markdown",
      "metadata": {
        "id": "CFYaNeaUUCkn"
      },
      "source": [
        "5. 다음에 코드 셀을 만들고 Keyword-only arguments 에 대한 예제를 작성하시오."
      ]
    },
    {
      "cell_type": "markdown",
      "metadata": {
        "id": "YccXSFS1UN7I"
      },
      "source": [
        "다음에 코드 셀을 만들고 keyword-only arguments 에 대한 테스트를 작성하고 실행하시오."
      ]
    },
    {
      "cell_type": "code",
      "metadata": {
        "colab": {
          "base_uri": "https://localhost:8080/"
        },
        "id": "lV0Kf0A03Xpf",
        "outputId": "03ab8d45-0b7e-4870-f7ee-5833287da196"
      },
      "source": [
        "# Keyword-only arguments\n",
        "# -> either after the variable positional arguments, or after a bare *\n",
        "def func(d, e, f, *, a = \"다은\", b = \"수경\", c = \"뽀송\") :\n",
        "  print(a, \":\", d, \"cm\")\n",
        "  print(b, \":\", e, \"cm\")\n",
        "  print(c, \":\", f, \"cm\")\n",
        "  print(a, \"+\", c, \"=\", d + f, \"cm\")\n",
        "\n",
        "func(163, 158, 80)"
      ],
      "execution_count": 4,
      "outputs": [
        {
          "output_type": "stream",
          "name": "stdout",
          "text": [
            "다은 : 163 cm\n",
            "수경 : 158 cm\n",
            "뽀송 : 80 cm\n",
            "다은 + 뽀송 = 243 cm\n"
          ]
        }
      ]
    }
  ]
}