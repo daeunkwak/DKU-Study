{
  "nbformat": 4,
  "nbformat_minor": 0,
  "metadata": {
    "colab": {
      "name": "2021-1-ImgProc-HW4-곽다은-32200185.ipynb",
      "provenance": [],
      "collapsed_sections": []
    },
    "kernelspec": {
      "name": "python3",
      "display_name": "Python 3"
    }
  },
  "cells": [
    {
      "cell_type": "markdown",
      "metadata": {
        "id": "7m6QNVZQQ-lh"
      },
      "source": [
        "## 2021-1 영상정보처리 4주차 과제 템플리트\n",
        "- 점수: 10점 만점\n",
        "- 이미지 경로 잘못 사용한 경우: -3\n",
        "- 문제1: 5점 \n",
        "- 문제2: 5점\n",
        "\n",
        "이름: 곽다은      \n",
        "학번: 32200185\n",
        "\n",
        "\n"
      ]
    },
    {
      "cell_type": "code",
      "metadata": {
        "id": "H6hgwR3QKmB9",
        "outputId": "fff62cf1-4e39-4e8b-b6ee-b79b7e304066",
        "colab": {
          "base_uri": "https://localhost:8080/"
        }
      },
      "source": [
        "from google.colab import drive\n",
        "drive.mount('/content/drive')\n",
        "\n",
        "%cd drive/MyDrive"
      ],
      "execution_count": 1,
      "outputs": [
        {
          "output_type": "stream",
          "name": "stdout",
          "text": [
            "Mounted at /content/drive\n",
            "/content/drive/MyDrive\n"
          ]
        }
      ]
    },
    {
      "cell_type": "code",
      "metadata": {
        "id": "yHqsLcmoYHDa",
        "colab": {
          "base_uri": "https://localhost:8080/"
        },
        "outputId": "20736d56-1ed3-4422-8dd5-7d147fceadbf"
      },
      "source": [
        "%cd Classroom/ImageProcClass/NoteBook-Week4/"
      ],
      "execution_count": 2,
      "outputs": [
        {
          "output_type": "stream",
          "name": "stdout",
          "text": [
            "[Errno 2] No such file or directory: 'Classroom/ImageProcClass/NoteBook-Week4/'\n",
            "/content/drive/MyDrive\n"
          ]
        }
      ]
    },
    {
      "cell_type": "markdown",
      "metadata": {
        "id": "3zS1iBGrH0Rj"
      },
      "source": [
        "Souce image 는 다음의 image_path 를 변경하지 말고 이용할 것. 경로가 다른 경우 감점 -3"
      ]
    },
    {
      "cell_type": "code",
      "metadata": {
        "id": "h-obB5qQHu0G"
      },
      "source": [
        "import matplotlib.pyplot as pyplot\n",
        "import cv2\n",
        "\n",
        "image_path = '../Dongkeun-OpenCV-ImgData/logo.png' \n",
        "image = cv2.imread(image_path)\n",
        "pyplot.show()"
      ],
      "execution_count": 3,
      "outputs": []
    },
    {
      "cell_type": "markdown",
      "metadata": {
        "id": "rCjnSlTRILjW"
      },
      "source": [
        "## 문제 1: 부분 이미지를 이용한 이미지 생성\n",
        "\n",
        "1. 위의 이미지 경로를 이용하여 이미지를 컬러 이미지 org_image 로 읽기\n",
        "2. 읽은 이미지와 동일 크기의 컬러 이미지를 new_image1 로 만들기 \n",
        "3. new_image1 를 x 축 방향으로 4등분하고 왼쪽부터 subimage 1, 2, 3, 4 라고 할때 다음과 같이 new_image1을 구성하기 \n",
        "  - x 축값이 4등분하여 4개의 영역이 동일 크기가 되지 않는 경우, 맨 오른쪽 영역에는 남는 크기 배분\n",
        "  - subimage 1: 동일 영역에 해당하는 org_image 부분 복사하기 \n",
        "  - subimage 2: 동일 영역에 해당하는 org_image 부분에서 Red 성분만 복사하고, green/blue 부분은 0으로 하여 subimage 2에 채워 넣을 것\n",
        "  - subimage 3: 동일 영역에 해당하는 org_image 부분에서 Blue 성분만 복사하고, green/red 부분은 0으로 하여 subimage 3에 채워 넣을 것\n",
        "  - subimage 4: 동일 영역에 해당하는 org_image 부분에서 Green 성분만 복사하고, blue/red 부분은 0으로 하여 subimage 4에 채워 넣을 것\n",
        "\n",
        "4. new_image1 을 디스플레이하기 "
      ]
    },
    {
      "cell_type": "code",
      "metadata": {
        "id": "wP0-d9HwQ2Ns"
      },
      "source": [
        "import cv2\n",
        "import matplotlib.pyplot as plt\n",
        "import numpy as np\n",
        "\n",
        "org_image = cv2.imread(image_path)\n",
        "\n",
        "# org_image BGR -> RGB\n",
        "b, g, r = cv2.split(org_image)\n",
        "org_image = cv2.merge([r, g, b])\n",
        "\n",
        "print('org_image shape :', org_image.shape)\n",
        "h, w, _ = org_image.shape\n",
        "print('width : {} / height : {}'.format(w, h))\n",
        "\n",
        "new_image1 = np.zeros((h, w, 3), np.uint8)\n",
        "\n",
        "base = int(w/4)\n",
        "start, end = 0, base-1\n",
        "seq = []\n",
        "\n",
        "# seq 리스트에 4등분한 영역의 start, end 값 저장\n",
        "for i in range(4):\n",
        "  if i == 3:\n",
        "    end = 487\n",
        "  seq.append((start, end))\n",
        "  start += base\n",
        "  end += base\n",
        "\n",
        "# 복사해야할 채널의 성분 저장\n",
        "# 왼쪽부터 subimage1, subimage2, subimage3, subimage4\n",
        "# subimage1 - 모든 성분 복사\n",
        "# subimage2 - RED만 복사 (0)\n",
        "# subimage3 - BLUE만 복사 (2)\n",
        "# subimage4 - GREEN만 복사 (1)\n",
        "channel = [_, 0, 2, 1]\n",
        "for i in range(4):\n",
        "  # subimage1\n",
        "  if i == 0:\n",
        "    for j in range(3):\n",
        "      new_image1[:, seq[i][0]:seq[i][1], j] = org_image[:, seq[i][0]:seq[i][1], j]\n",
        "    continue\n",
        "    \n",
        "  # subimage2, subimage3, subimage4\n",
        "  for k in range(3):\n",
        "    if k == channel[i]:\n",
        "      new_image1[:, seq[i][0]:seq[i][1], k] = org_image[:, seq[i][0]:seq[i][1], k]\n",
        "    else:\n",
        "      new_image1[:, seq[i][0]:seq[i][1], k] = 0\n",
        "\n",
        "plt.imshow(new_image1)\n",
        "plt.show()\n"
      ],
      "execution_count": null,
      "outputs": []
    },
    {
      "cell_type": "markdown",
      "metadata": {
        "id": "nfj3-xj8KAUc"
      },
      "source": [
        "## 문제 2: 식을 이용한 grayscale 이미지 만들기 \n",
        "\n",
        "1. org_image와 같은 크기의 공백 grayscale 이미지 new_image2 만들기\n",
        "2. org_image 의 각 화소를 접근하여 강의에서 설명한 공식을 사용하여 grayscale 값으로 변환하여 새로운 그레이스케일 이미지 new_image2 에 저장하기\n",
        "2. new_image2 디스플레이하기 \n",
        "\n",
        "[참조] https://stackoverflow.com/questions/17615963/standard-rgb-to-grayscale-conversion\n",
        "\n"
      ]
    },
    {
      "cell_type": "code",
      "metadata": {
        "id": "x_C54G9QKrMQ"
      },
      "source": [
        "\n",
        "import math\n",
        "\n",
        "# org_image와 같은 크기의 공백 이미지(new_image2) 생성\n",
        "new_image2 = np.zeros((h, w), np.uint8)\n",
        "print('new_image2 shape :', new_image2.shape)\n",
        "\n",
        "# 1번 문제에서 org_image 채널 순서를 RGB로 바꿨음\n",
        "for i in range(h):\n",
        "  for j in range(w):\n",
        "    r, g, b = org_image[i, j, 0], org_image[i, j, 1], org_image[i, j, 2]\n",
        "    gray = 0.299*r + 0.587*g + 0.114*b\n",
        "    # 각 화소마다 grayscale 값으로 변환\n",
        "    new_image2[i, j] = gray\n",
        "\n",
        "# cmap=\"gray\" 옵션을 준 경우\n",
        "plt.subplot(121)\n",
        "plt.imshow(new_image2, cmap=\"gray\")\n",
        "plt.subplot(122)\n",
        "\n",
        "# cmap=\"gray\" 옵션을 주지 않은 경우\n",
        "# grayscale 이미지를 제대로 읽지 못함\n",
        "plt.imshow(new_image2)\n",
        "plt.show()"
      ],
      "execution_count": null,
      "outputs": []
    }
  ]
}