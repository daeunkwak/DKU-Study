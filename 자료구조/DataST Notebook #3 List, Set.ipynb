{
  "nbformat": 4,
  "nbformat_minor": 0,
  "metadata": {
    "colab": {
      "name": "DataST Notebook #3 List, Set",
      "provenance": [],
      "collapsed_sections": []
    },
    "kernelspec": {
      "name": "python3",
      "display_name": "Python 3"
    },
    "language_info": {
      "name": "python"
    }
  },
  "cells": [
    {
      "cell_type": "markdown",
      "metadata": {
        "id": "J20Zh-BmHkEL"
      },
      "source": [
        "## Ch3. List, Set\n",
        "\n",
        "* ArrayList \n",
        "리스트의 구현"
      ]
    },
    {
      "cell_type": "code",
      "metadata": {
        "id": "luc-sHyLHpHf"
      },
      "source": [
        "class ArrayList :\n",
        "  def __init__ (self) :\n",
        "    self.tiems = []\n",
        "  def delete(self, pos) :\n",
        "    return self.items.pop(pos)\n",
        "  def isEmpty(self) :\n",
        "    return self.size() == 0\n",
        "  def getEntry(self, pos) :\n",
        "    return self.items[pos]\n",
        "  def size(self) :\n",
        "    return len(self.items)\n",
        "  def clear(self) :\n",
        "    self.items = []\n",
        "  def find(self, item) :\n",
        "    return self.items.index(item)\n",
        "  def replace(self, pos, elem) :\n",
        "    self.items[pos] = elem\n",
        "  def sort(self) :\n",
        "    self.items.sort()\n",
        "  def merge(self, lst) :\n",
        "    self.items.extend(lst)\n",
        "  def display(self, msg = \"ArrayList\") :\n",
        "    print(msg, self.size(), self.items)"
      ],
      "execution_count": 1,
      "outputs": []
    },
    {
      "cell_type": "markdown",
      "metadata": {
        "id": "bHBCVkapI524"
      },
      "source": [
        "* Set\n",
        "집합의 구현"
      ]
    },
    {
      "cell_type": "code",
      "metadata": {
        "id": "JQsz1t5sIvK6"
      },
      "source": [
        "class Set :\n",
        "  def __init__ (self) :\n",
        "    self.items = []\n",
        "  def size(self) :\n",
        "    return len(self.items)\n",
        "  def display(self, msg) :\n",
        "    print(msg, self.items)\n",
        "\n",
        "  def contains(self, item) :  # ver1\n",
        "    return item in self.items\n",
        "  def containss(self, item) : # ver2\n",
        "    for i in range (len(self.items)) :\n",
        "      if self.items[i] == item :\n",
        "        return True\n",
        "    return False\n",
        "\n",
        "  def insert(self, elem) :  # insert ver1\n",
        "    if elem not in self.items :\n",
        "      self.items.append(elem)\n",
        "  def insert(self, item) :  # insert ver2\n",
        "      Flag = True\n",
        "      for i in range (len(self.items)) :\n",
        "          if (self.items[i] == item) :\n",
        "              Flag = False\n",
        "      if (Flag == True) :\n",
        "          self.items.append(item)\n",
        "          return True\n",
        "      return False\n",
        "  def delete(self, elem) :\n",
        "    if elem in self.items :\n",
        "      self.items.remove(elem)\n",
        "\n",
        "  def union(self, setB) :   # 합집합 ver1\n",
        "    setC = set()\n",
        "    setC.items = list(self.items)\n",
        "    for elem in setB.items :\n",
        "      if elem not in self.items :\n",
        "        setC.items.append(elem)\n",
        "    return setC\n",
        "  def union(self, setB) :   # 합집합 ver2\n",
        "      setC = Set()\n",
        "      setC.items = list(self.items)\n",
        "      for elem in setB.items :\n",
        "          if (self.contains(elem) == False) :\n",
        "              setC.items.append(elem)\n",
        "      return setC\n",
        "\n",
        "  def intersect(self, setB) :   # 교집합\n",
        "    setC = set()\n",
        "    for elem in setB.items :\n",
        "      if elem in self.items :\n",
        "        setC.items.append(elem)\n",
        "    return setC\n",
        " def intersect(self, setB) :    # 교집합 ver2\n",
        "      setC = Set()\n",
        "      for elem in setB.items :\n",
        "          if self.contains(elem) :\n",
        "              setC.items.append(elem)\n",
        "      return setC\n",
        "\n",
        "  def difference(self, setB) :  # 차집합 ver1\n",
        "    setC = set()                # C = self - B\n",
        "    for elem in self.items :\n",
        "      if elem not in setB.items :\n",
        "        setC.items.append(elem)\n",
        "    return setC\n",
        "\n",
        "  def difference(self, setB) :   # 차집합 ver2\n",
        "      setC = Set()\n",
        "      for elem in self.items :\n",
        "          if (setB.contains(elem) == False) :\n",
        "              setC.items.append(elem)\n",
        "      return setC"
      ],
      "execution_count": null,
      "outputs": []
    }
  ]
}