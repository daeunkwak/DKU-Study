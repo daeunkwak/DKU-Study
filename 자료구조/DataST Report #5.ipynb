{
  "nbformat": 4,
  "nbformat_minor": 0,
  "metadata": {
    "colab": {
      "name": "2021-2-DataST-HW5-곽다은-32200185",
      "provenance": [],
      "collapsed_sections": []
    },
    "kernelspec": {
      "name": "python3",
      "display_name": "Python 3"
    },
    "language_info": {
      "name": "python"
    }
  },
  "cells": [
    {
      "cell_type": "markdown",
      "metadata": {
        "id": "AJ2jp6bcJg2V"
      },
      "source": [
        "＃2021-2 자료구조 5주차 과제 \n",
        "- 마감: 2021.10.04(월요일)\n",
        "- 이름: 곽다은\n",
        "- 학번: 32200185\n",
        "\n",
        "- 과제: 2문제, 각 문제 당 5점 \n",
        "1. P4.2\n",
        "2. P4.3\n",
        "\n",
        "** 풀지 못한 문제 - 만일 과제의 문제를 다 풀지 못한 경우, 여기에 풀지 못한 번호를 적으시오. \n",
        "\n",
        "\n",
        "## <font color='red' > 과제는 문제에 대한 코딩이 완성되고 테스트를 통해 적절성이 검증된 경우만 점수가 부여되며, 이외 사항에 대해서는 0점 처리 </font>"
      ]
    },
    {
      "cell_type": "markdown",
      "metadata": {
        "id": "Gag1en13KazR"
      },
      "source": [
        "## 4.2 \n",
        "\n",
        "아래에 코드셀을 만들고, 셀에 함수 testPalindrome 을 작성. "
      ]
    },
    {
      "cell_type": "code",
      "metadata": {
        "id": "Z-PCUOGRyC69"
      },
      "source": [
        "def isEmpty() :\n",
        "  return len(top1) == 0\n",
        "\n",
        "def size() :\n",
        "  return len(top1)\n",
        "\n",
        "def pop() :\n",
        "  if not isEmpty() :\n",
        "    return top1.pop(-1)\n",
        "\n",
        "def push(item) :\n",
        "  top1.append(item)\n"
      ],
      "execution_count": null,
      "outputs": []
    },
    {
      "cell_type": "code",
      "metadata": {
        "id": "oROlP7qhJS-u"
      },
      "source": [
        "def testPalindrome(inputt) :\n",
        "  stack = []\n",
        "  for i in range (len(inputt)) :\n",
        "    if inputt[i].isalpha() :\n",
        "      stack.append(inputt[i])\n",
        "\n",
        "  for i in range (len(stack)) :\n",
        "    stack[i] = stack[i].lower()\n",
        "\n",
        "  if stack == stack[::-1] :\n",
        "    return \"yes\"\n",
        "  else :\n",
        "    return \"no\"\n"
      ],
      "execution_count": null,
      "outputs": []
    },
    {
      "cell_type": "markdown",
      "metadata": {
        "id": "MPF9N1VNKyYb"
      },
      "source": [
        "아래에 코드셀을 만들고, testPalindrome 함수를 호출하여, 입력 \"madam, I'm Adam\" 과 'race car'를 데이터로 하여 테스트하시오.  "
      ]
    },
    {
      "cell_type": "code",
      "metadata": {
        "colab": {
          "base_uri": "https://localhost:8080/"
        },
        "id": "eMYQU9dDb66T",
        "outputId": "a9ec58a3-0304-4973-e718-a3b9c211f3f3"
      },
      "source": [
        "res1 = testPalindrome(\"madam, I'm Adam\")\n",
        "print(res1)\n",
        "res2 = testPalindrome(\"race car\")\n",
        "print(res2)"
      ],
      "execution_count": null,
      "outputs": [
        {
          "output_type": "stream",
          "name": "stdout",
          "text": [
            "yes\n",
            "yes\n"
          ]
        }
      ]
    },
    {
      "cell_type": "markdown",
      "metadata": {
        "id": "KVDXivqYWgD6"
      },
      "source": [
        "# 4.3\n"
      ]
    },
    {
      "cell_type": "markdown",
      "metadata": {
        "id": "l_jlkOyfYCeT"
      },
      "source": [
        "\n",
        "아래에 코드셀을 만들고, 셀에 4.3 에서 요구된 사항을 반영하여 checkBracketsUpgrade 를 구현하시오. 단 변경사항은 입력은 파일을 읽어 오는 것이 아니고 프로그램의 줄을 요소로 가지는 리스트로 주도록 변경. \n",
        "\n"
      ]
    },
    {
      "cell_type": "code",
      "metadata": {
        "id": "sFnPUzhHUb9U"
      },
      "source": [
        "# 어떤 조건을 위반했는지 알 수 있도록 checkBrackets 수정\n",
        "def checkBrackets(statement) :\n",
        "  stack = []\n",
        "  cnt = 0\n",
        "  for ch in statement :\n",
        "    # print(stack)\n",
        "    if ch in ('{', '[', '(') :\n",
        "      stack.append(ch)\n",
        "    elif ch in ('}', ']', ')') :\n",
        "      if len(stack) == 0 :\n",
        "        return False, 2, cnt\n",
        "      else :\n",
        "        left = stack[-1]\n",
        "        # print(\"left : \", left)\n",
        "        if (ch == \"}\" and left != \"{\") or (ch == \"]\" and left != \"[\") or (ch == \")\" and left != \"(\") :\n",
        "          return False, 3, cnt\n",
        "        elif (ch == \"}\" and left == \"{\") or (ch == \"]\" and left == \"[\") or (ch == \")\" and left == \"(\") and len(stack) != 0 :\n",
        "          stack.pop(-1)\n",
        "    cnt += 1\n",
        "  if not stack :\n",
        "    return True, 0, None\n",
        "  if stack :\n",
        "    return False, 1, cnt\n",
        "\n",
        "\n",
        "def checkBracketsUpgrade(myLines) :\n",
        "  stack = []\n",
        "  for i in range (len(myLines)) :\n",
        "    m, error, cnt = checkBrackets(myLines[i])\n",
        "    # print(myLines[i])\n",
        "    # print(\"res : \", res)\n",
        "    if error == 0 :\n",
        "      print(myLines[i], \" ---> 위반하지 않음\")\n",
        "    elif error == 1 :\n",
        "      print(myLines[i], \" ---> \", \"에러코드 1, 라인번호 : \",i+1, \n",
        "            \", 에러 문자 위치 : 해당사항 없음\")\n",
        "    elif error == 2 :\n",
        "      print(myLines[i], \" ---> \", \"에러코드 2, 라인번호 : \", i+1, \n",
        "            \", 에러 문자 위치 : \", cnt + 1)\n",
        "    elif error == 3 :\n",
        "      print(myLines[i], \" ---> \", \"에러코드 3, 라인번호 : \", i+1, \", 에러 문자 위치 :\", cnt + 1)\n",
        "\n"
      ],
      "execution_count": null,
      "outputs": []
    },
    {
      "cell_type": "markdown",
      "metadata": {
        "id": "VZE7QAUdYY2k"
      },
      "source": [
        "테스트: 아래에 코드셀을 만들고, 위에서 작성된 checkBracketsUpgrade 를 **다음** 입력에 대하여 테스트하시오. \n",
        "\n",
        "myLines = [\"{A[(i+1)] = 0}\", \"if ( (i==0) and (j==0):\", \"A[(i+1]) =0\"]"
      ]
    },
    {
      "cell_type": "code",
      "metadata": {
        "id": "T3NJ1CP-Z1IO",
        "colab": {
          "base_uri": "https://localhost:8080/"
        },
        "outputId": "4a79495b-8f15-4009-d0f7-cc5d053a4fa1"
      },
      "source": [
        "myLines = [\"{A[(i+1)] = 0}\", \"if ( (i==0) and (j==0):\", \"A[(i+1]) =0\"]\n",
        "checkBracketsUpgrade(myLines)"
      ],
      "execution_count": null,
      "outputs": [
        {
          "output_type": "stream",
          "name": "stdout",
          "text": [
            "{A[(i+1)] = 0}  ---> 위반하지 않음\n",
            "if ( (i==0) and (j==0):  --->  에러코드 1, 라인번호 :  2 , 에러 문자 위치 : 해당사항 없음\n",
            "A[(i+1]) =0  --->  에러코드 3, 라인번호 :  3 , 에러 문자 위치 : 7\n"
          ]
        }
      ]
    }
  ]
}