{
  "nbformat": 4,
  "nbformat_minor": 0,
  "metadata": {
    "colab": {
      "name": "item21-30real.ipynb",
      "provenance": []
    },
    "kernelspec": {
      "name": "python3",
      "display_name": "Python 3"
    },
    "language_info": {
      "name": "python"
    }
  },
  "cells": [
    {
      "cell_type": "code",
      "execution_count": null,
      "metadata": {
        "id": "en-e1e2n4B6P"
      },
      "outputs": [],
      "source": [
        ""
      ]
    },
    {
      "cell_type": "markdown",
      "source": [
        "### 21. 변수 영역과 클로저의 상호 작용 방식을 이해하라."
      ],
      "metadata": {
        "id": "e9vhXWcB4F-C"
      }
    },
    {
      "cell_type": "code",
      "source": [
        "def sort_priority(values, group):\n",
        "    def helper(x):\n",
        "        if x in group:\n",
        "            return (0, x)\n",
        "        else:\n",
        "            return (1, x)\n",
        "    values.sort(key=helper)\n",
        "\n",
        "\n",
        "numbers = [9, 4, 2, 7, 5, 3]\n",
        "group = [3, 7]\n",
        "sort_priority(numbers, group)\n",
        "print(numbers) # [3, 7, 2, 4, 5, 9]"
      ],
      "metadata": {
        "colab": {
          "base_uri": "https://localhost:8080/"
        },
        "id": "hjNmBAf74JGg",
        "outputId": "4361e9ca-e692-4912-a59f-6bbb8ac24f37"
      },
      "execution_count": 1,
      "outputs": [
        {
          "output_type": "stream",
          "name": "stdout",
          "text": [
            "[3, 7, 2, 4, 5, 9]\n"
          ]
        }
      ]
    },
    {
      "cell_type": "markdown",
      "source": [
        "* 파이썬은 closure를 지원 <-> 자신의 영역 밖의 변수를 참조하는 함수\n",
        "* 따라서 closure 내부에 사용된 대입문은 closure를 감싸는 영역에 영향을 끼칠 수 있고, closure가 자신을 감싸는 영역의 변수를 변경할 때는 nonlocal문을 사용한다."
      ],
      "metadata": {
        "id": "N9ZYgyuZ4LDM"
      }
    },
    {
      "cell_type": "markdown",
      "source": [
        "### 22. 변수 위치 인자를 사용해 시각적인 잡음을 줄여라\n",
        "* 튜플로 값이 변환되는 문제점 해결하기\n",
        "* *인자를 사용하면 가변 위치 기반 인자를 받아올 수 있고, 메모리를 절약한다."
      ],
      "metadata": {
        "id": "pql-lh1J5K8i"
      }
    },
    {
      "cell_type": "code",
      "source": [
        "# 값이 튜플로 변환됨\n",
        "def log(message, values):\n",
        "    if not values:\n",
        "        print(message)\n",
        "    else:\n",
        "        values_str = ', '.join(str(x) for x in values)\n",
        "        print(f\"{message}: {values_str}\")\n",
        "\n",
        "log('내 숫자는', [1, 2])\n",
        "log('안녕', [])"
      ],
      "metadata": {
        "colab": {
          "base_uri": "https://localhost:8080/"
        },
        "id": "F9vTcg4h4Kcx",
        "outputId": "71dc189e-c555-4d6e-d6ea-7c3e199a2dd9"
      },
      "execution_count": 2,
      "outputs": [
        {
          "output_type": "stream",
          "name": "stdout",
          "text": [
            "내 숫자는: 1, 2\n",
            "안녕\n"
          ]
        }
      ]
    },
    {
      "cell_type": "code",
      "source": [
        "# *인자를 활용한 가변 위치 기반 인자 받아오기\n",
        "def log(message, *values):\n",
        "    if not values:\n",
        "        print(message)\n",
        "    else:\n",
        "        values_str = ', '.join(str(x) for x in values)\n",
        "        print(f\"{message}: {values_str}\")\n",
        "\n",
        "log('내 숫자는', 1, 2)\n",
        "log('안녕')"
      ],
      "metadata": {
        "colab": {
          "base_uri": "https://localhost:8080/"
        },
        "id": "bOVxcv_L5mhW",
        "outputId": "c0c1a6b1-a8c9-41a8-d297-c8d6aa60738f"
      },
      "execution_count": 3,
      "outputs": [
        {
          "output_type": "stream",
          "name": "stdout",
          "text": [
            "내 숫자는: 1, 2\n",
            "안녕\n"
          ]
        }
      ]
    },
    {
      "cell_type": "markdown",
      "source": [
        "### 23. 키워드 인자로 선택적인 기능을 제공하라.\n",
        "\n",
        "키워드 인자를 사용하면\n",
        "* 함수 호출의 의미가 정확해진다\n",
        "* 함수를 정의할 때 디폴트값 지정 가능\n",
        "* 기존 호출자에게는 하위 호환성을 제공 + 함수 파라미터 확장성 제공"
      ],
      "metadata": {
        "id": "ODIVt5oe5tKP"
      }
    },
    {
      "cell_type": "markdown",
      "source": [
        "### 24. None과 독스트링을 사용해 동적인 디폴트 인자를 지정하라\n",
        "* 디폴트 인자값을 None으로 지정하면 모듈이 로드될 때 원하는 동작을 달성할 수 있다\n",
        "* None을 사용한 모듈화"
      ],
      "metadata": {
        "id": "jfRY8zb06CIs"
      }
    },
    {
      "cell_type": "code",
      "source": [
        "def log(message, when=None) :\n",
        "    \"\"\"메시지와 타임 스탬프를 로그에 남긴다\n",
        "    Args:\n",
        "        message: 출력할 메시지.\n",
        "        when: 메시지가 발생한 시각(datetime)\n",
        "            디폴트 깂은 현재 시간이다.\n",
        "    \"\"\"\n",
        "\n",
        "    if when is None :\n",
        "        whne = datetime.now()\n",
        "    print(f\"{when}: {message}\")"
      ],
      "metadata": {
        "id": "ftGHSAW65nxQ"
      },
      "execution_count": 6,
      "outputs": []
    },
    {
      "cell_type": "code",
      "source": [
        "# 메시지, 타임스탬프를 로그에 남긴다\n",
        "from typing import Optional\n",
        "from datetime import datetime\n",
        "def log_typed(message: str, when: Optional[datetime]=None) -> None:\n",
        "    \"\"\"Log a message with a timestamp.\n",
        "    Args:\n",
        "        message: Message to print.\n",
        "        when: datetime of when the message occurred.\n",
        "            Defaults to the present time.\n",
        "    \"\"\"\n",
        "    if when is None:\n",
        "        when = datetime.now()\n",
        "    print(f'{when}: {message}') \n",
        "log_typed('Good way!')\n",
        "log_typed('Good way!', datetime.now())"
      ],
      "metadata": {
        "colab": {
          "base_uri": "https://localhost:8080/"
        },
        "id": "f_SjfaHc6NQW",
        "outputId": "99c193f0-8c8a-483d-bd93-bb11fd56016c"
      },
      "execution_count": 10,
      "outputs": [
        {
          "output_type": "stream",
          "name": "stdout",
          "text": [
            "2022-06-06 07:28:48.133031: Good way!\n",
            "2022-06-06 07:28:48.136045: Good way!\n"
          ]
        }
      ]
    },
    {
      "cell_type": "markdown",
      "source": [
        "### 25. 위치로만 인자를 지정하게 하거나 키워드로만 인자를 지정하게 해서 함수 호출을 명확하게 만들라.\n",
        "\n",
        "파라미터 /, *을 이용해서\n",
        "* /앞의 인자들 -> 위치로만 지정하는 인자\n",
        "* *뒤의 인자들 -> 키워드로만 지정하는 인자\n"
      ],
      "metadata": {
        "id": "k8QX-vo37GRD"
      }
    },
    {
      "cell_type": "code",
      "source": [
        "def safe_division_e(numerator, denominator,  # '/' 앞쪽 -> 위치 지정 인자\n",
        "                    /,\n",
        "                    ndigits=10,  # /와 * 사이에는 평범한 인자\n",
        "                    *,\n",
        "                    ignore_overflow=False,  # '*' 뒤쪽 -> 키워드 지정 인자\n",
        "                    ignore_zero_division=False):\n",
        "    try:\n",
        "        fraction = numerator / denominator\n",
        "        return round(fraction, ndigits)\n",
        "    except OverflowError:\n",
        "        if ignore_overflow:\n",
        "            return 0\n",
        "        else:\n",
        "            raise\n",
        "    except ZeroDivisionError:\n",
        "        if ignore_zero_division:\n",
        "            return float('inf')\n",
        "        else:\n",
        "            raise\n",
        "\n",
        "result = safe_division_e(22, 7)\n",
        "print(result) \n",
        "\n",
        "result = safe_division_e(22, 7, 5)\n",
        "print(result)\n",
        "\n",
        "result = safe_division_e(22, 7, ndigits=2)\n",
        "print(result)  \n",
        "\n",
        "# 파이참에서 돌리면 값은 잘 나온다\n",
        "# 3.1428571429\n",
        "# 3.14286\n",
        "# 3.14\n"
      ],
      "metadata": {
        "colab": {
          "base_uri": "https://localhost:8080/",
          "height": 136
        },
        "id": "96aOy1XO6Oqv",
        "outputId": "7c5d421a-f48b-4a32-8885-f5d87f2a8c79"
      },
      "execution_count": 12,
      "outputs": [
        {
          "output_type": "error",
          "ename": "SyntaxError",
          "evalue": "ignored",
          "traceback": [
            "\u001b[0;36m  File \u001b[0;32m\"<ipython-input-12-976850573c60>\"\u001b[0;36m, line \u001b[0;32m2\u001b[0m\n\u001b[0;31m    /,\u001b[0m\n\u001b[0m    ^\u001b[0m\n\u001b[0;31mSyntaxError\u001b[0m\u001b[0;31m:\u001b[0m invalid syntax\n"
          ]
        }
      ]
    },
    {
      "cell_type": "markdown",
      "source": [
        "### 26. functools.wrap을 사용해 함수 데코레이터를 정의하라\n",
        "* 데코레이터는 자신이 감싸고 있는 함수가 호출되기 전과 후에 코드를 추가로 실행해준다\n",
        "* 이 기능은 함수의 의미 강화, 디버깅 등에 활용 가능\n",
        "* 이해가 잘 안된다"
      ],
      "metadata": {
        "id": "FpVvjErp9463"
      }
    },
    {
      "cell_type": "markdown",
      "source": [
        "### 27. map과 filter 대신 컴프리헨션을 사용하라\n",
        "\n",
        "list comprehension : 다른 sequence, list에서 새 list를 만들어내는 간결한 구문"
      ],
      "metadata": {
        "id": "NSAgL006Asp0"
      }
    },
    {
      "cell_type": "code",
      "source": [
        "# 이런식으로\n",
        "squares = [x**2 for x in range(1,11)]\n",
        "print(squares)\n",
        "\n",
        "even_squares_dict = {x: x**2 for x in a if x % 2 == 0}\n",
        "threes_cubed_set = {x**3 for x in a if x % 3 == 0}\n",
        "print(even_squares_dict)\n",
        "print(threes_cubed_set)"
      ],
      "metadata": {
        "id": "hVl2HKHk9Vkt"
      },
      "execution_count": null,
      "outputs": []
    },
    {
      "cell_type": "markdown",
      "source": [
        "* 람다식을 사용하지 않음 -> map, filter 내장함수보다 명확함\n",
        "* 쉽게 입력 가능"
      ],
      "metadata": {
        "id": "Jimt4fvnBGJE"
      }
    },
    {
      "cell_type": "markdown",
      "source": [
        "### 28. 컴프리헨션 내부에 제어 하위 식을 세 개 이상 사용하지 말라\n",
        "* 3차원 이상 -> 다중 컴프리헨션이 더 복잡하고 길어진다"
      ],
      "metadata": {
        "id": "xIqdg-8FBQVb"
      }
    },
    {
      "cell_type": "code",
      "source": [
        "matrix = [[[1, 2, 3,], [4, 5, 6], [7, 8, 9]],\n",
        "         [[10, 11, 12,], [13, 14, 15], [16, 17, 18]]]\n",
        "flat = [x for sublist1 in my_lists\n",
        "        for sublist2 in sublist1\n",
        "        for x in sublist2]    # 이것보다\n",
        "\n",
        "flat = []\n",
        "for sublist1 in my_lists:\n",
        "    for sublist2 in sublist1:\n",
        "        flat.extend(sublist2)   # 이게 더 명확해보인다"
      ],
      "metadata": {
        "id": "ysOcR3QqBCrB"
      },
      "execution_count": null,
      "outputs": []
    },
    {
      "cell_type": "markdown",
      "source": [
        "### 29. 대입식을 사용해 컴프리헨션 안에서 반복 작업을 피하라"
      ],
      "metadata": {
        "id": "u8ZNFIsIBiyx"
      }
    },
    {
      "cell_type": "code",
      "source": [
        "stock {\n",
        "    '못': 125,\n",
        "    '나사못': 35,\n",
        "    '나비너트': 8,\n",
        "    '와셔': 24\n",
        "}\n",
        "order = ['나사못', '나비너트' ,'와셔']\n",
        "\n",
        "def get_batches(count, size):\n",
        "    return count // size\n",
        "\n",
        "# 실수할 가능성이 높아지는 반복문\n",
        "found = {name: get_batches(stock.get(name, 0), 8)\n",
        "        for name in order\n",
        "        if get_batches(stock.get(name, 0), 8)}\n",
        "\n",
        "# 왈러스 연산자(대입식)로 대체 가능\n",
        "found = {name: batches for name in order\n",
        "         if (batches := get_batches(stock.get(name, 0), 8))}"
      ],
      "metadata": {
        "id": "P25XtHM4Bhm0"
      },
      "execution_count": null,
      "outputs": []
    },
    {
      "cell_type": "markdown",
      "source": [
        "### 30. 리스트를 반환하기 보다는 제너레이터를 사용하라\n",
        "\n",
        "제너레이터를 사용하면\n",
        "* 결과를 리스트에 합치는 것보다 더 깔끔하게 반환\n",
        "* 작업 메모리에 모든 입출력을 저장할 필요가 없음"
      ],
      "metadata": {
        "id": "F15KPVRACNyd"
      }
    },
    {
      "cell_type": "code",
      "source": [
        "# 리스트로 합쳐서 반환\n",
        "def index_words(text):\n",
        "    result = []\n",
        "    if text:\n",
        "        result.append(0)\n",
        "    for idx, letter in enumerate(text):\n",
        "        if letter == ' ':\n",
        "            result.append(idx + 1)\n",
        "    return result\n",
        "address = '조건이 아닌 부분에도 대입식을 사용할 수 있지만, 사용하지 않는 편이 좋다.'\n",
        "result = index_words(address)\n",
        "print(result) # [0, 4, 7, 12, 17, 21, 23, 28, 33, 36, 39]"
      ],
      "metadata": {
        "colab": {
          "base_uri": "https://localhost:8080/"
        },
        "id": "rEBZpqtrCMkt",
        "outputId": "f2625cc4-d2bb-4c12-f0b1-c3dc1d4461f4"
      },
      "execution_count": 17,
      "outputs": [
        {
          "output_type": "stream",
          "name": "stdout",
          "text": [
            "[0, 4, 7, 12, 17, 21, 23, 28, 33, 36, 39]\n"
          ]
        }
      ]
    },
    {
      "cell_type": "code",
      "source": [
        "# 제너레이터 사용하여 이터레이터로 반환\n",
        "def index_words_iter(text):\n",
        "    result = []\n",
        "    if text:\n",
        "        yield 0\n",
        "    for idx, letter in enumerate(text):\n",
        "        if letter == ' ':\n",
        "            yield idx + 1\n",
        "\n",
        "it = index_words_iter(address)\n",
        "print(next(it))\n",
        "print(next(it))"
      ],
      "metadata": {
        "colab": {
          "base_uri": "https://localhost:8080/"
        },
        "id": "6LNWjAu3DQJR",
        "outputId": "87b20a6a-bf92-45a7-8c34-24d024089cb0"
      },
      "execution_count": 18,
      "outputs": [
        {
          "output_type": "stream",
          "name": "stdout",
          "text": [
            "0\n",
            "4\n"
          ]
        }
      ]
    },
    {
      "cell_type": "code",
      "source": [
        ""
      ],
      "metadata": {
        "id": "eRnq87lCDTPX"
      },
      "execution_count": null,
      "outputs": []
    }
  ]
}