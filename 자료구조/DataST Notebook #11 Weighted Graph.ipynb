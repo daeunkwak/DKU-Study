{
  "nbformat": 4,
  "nbformat_minor": 0,
  "metadata": {
    "colab": {
      "name": "DataST Notebook #11  Weighted Graph",
      "provenance": []
    },
    "kernelspec": {
      "name": "python3",
      "display_name": "Python 3"
    },
    "language_info": {
      "name": "python"
    }
  },
  "cells": [
    {
      "cell_type": "markdown",
      "metadata": {
        "id": "AsaLuQQTq4dg"
      },
      "source": [
        "## 가중치 그래프의 표현\n",
        "* 인접 행렬에서의 가중치의 총합 계산"
      ]
    },
    {
      "cell_type": "code",
      "metadata": {
        "id": "KFSspLsWq-Wi"
      },
      "source": [
        "# upper triangle 가중치의 총합 계산 -> 삼각 영역 활용!\n",
        "def weightSum(vlist, W) :\n",
        "  sum = 0\n",
        "  for i in range(len(vlist)) :\n",
        "    # 하나의 행에 대해 (삼각영역)\n",
        "    for j in range(i + 1, len(vlist)) :   \n",
        "      if W[i][j] != None :\n",
        "        sum += W[i][j]\n",
        "  return sum"
      ],
      "execution_count": null,
      "outputs": []
    },
    {
      "cell_type": "markdown",
      "metadata": {
        "id": "OafSUKOYsMB8"
      },
      "source": [
        "* 인접 행렬에서의 모든 간선 출력"
      ]
    },
    {
      "cell_type": "code",
      "metadata": {
        "id": "iXxXN06ksOf0"
      },
      "source": [
        "# 매개변수 -> 정점 리스트, 인접 행렬\n",
        "def printAllEdges(vlist, W) :\n",
        "  for i in range (len(vlist)) :\n",
        "    # 모든 간선에 대해\n",
        "    for j in range (i + 1, len(W[i])) :\n",
        "      # 간선이 있으면\n",
        "      for W[i][j] != None and W[i][j] != 0 :\n",
        "        print(\"(%s, %s, %d)\" %(vlist[i], vlist[j], W[i][j]), end = ' ')\n",
        "  print()"
      ],
      "execution_count": null,
      "outputs": []
    },
    {
      "cell_type": "markdown",
      "metadata": {
        "id": "UaZCW356szv5"
      },
      "source": [
        "* 인접 리스트에서의 가중치의 합 계산"
      ]
    },
    {
      "cell_type": "code",
      "metadata": {
        "id": "QnHAFQIJs2MZ"
      },
      "source": [
        "def weightSum(graph) :\n",
        "  sum = 0\n",
        "  # iterator 모든 정점 v에 대해\n",
        "  for v in graph :\n",
        "    # 정점 v의 모든 간선 e에 대해\n",
        "    for e in graph[v] :\n",
        "      sum += e[1]\n",
        "  return sum // 2"
      ],
      "execution_count": null,
      "outputs": []
    },
    {
      "cell_type": "markdown",
      "metadata": {
        "id": "ineK7QEJtHUw"
      },
      "source": [
        "## 최소비용 신장트리\n",
        "* 간선들의 가중치 합이 최소인 신장 트리\n",
        "* 사이클이 포함되면 안됨\n",
        "* Kruskal 알고리즘 / Prim 알고리즘"
      ]
    },
    {
      "cell_type": "markdown",
      "metadata": {
        "id": "SgB7mA7X0bgM"
      },
      "source": [
        "\n",
        "#### union-find 알고리즘\n",
        "* 서브트리를 검사하여 노드가 같은 트리에 들어있는지 비교\n",
        "* 해당 트리의 대표값을 비교"
      ]
    },
    {
      "cell_type": "code",
      "metadata": {
        "id": "YcMiQ1Ec0Ma1"
      },
      "source": [
        "# union-find 구현\n",
        "\n",
        "# 집합의 초기화 함수\n",
        "def init_set(nSets) :\n",
        "  global set_size, parent\n",
        "  set_size = nSets\n",
        "  for i in range (nSets) :\n",
        "    parent.append(-1)\n",
        "\n",
        "# 정점 id가 속한 집합의 대표번호 탐색\n",
        "def find(id) :\n",
        "  while (parent[id] >= 0) :\n",
        "    id = parent[id]\n",
        "  return id\n",
        "\n",
        "# 두 집합을 병합\n",
        "def union(s1, s2) :\n",
        "  global set_size\n",
        "  parent[s1] = s2\n",
        "  set_size = set_size - 1"
      ],
      "execution_count": null,
      "outputs": []
    },
    {
      "cell_type": "markdown",
      "metadata": {
        "id": "c2P2dAtp1Dow"
      },
      "source": [
        "### Kruskal의 MST 알고리즘\n",
        "1. 모든 간선 오름차순(내림차순) 정리\n",
        "2. 가중치 낮은 간선부터 spanning tree로 집어넣음\n",
        "3. 넣다가 cycle이 생기면 그 간선은 이미 spanning tree에 들어와있는 간선\n",
        "\n"
      ]
    },
    {
      "cell_type": "code",
      "metadata": {
        "id": "H7cOF-Uv1DRt"
      },
      "source": [
        "# 매개변수 정점리스트, 인접행렬\n",
        "def MSTKruskal(vertex, adj) :\n",
        "  vsize = len(vertex)\n",
        "  init_set(vsize)      # 정점 집합 초기화\n",
        "  eList = []\n",
        "\n",
        "  # 모든 간선을 리스트에 넣고 튜플로 저장\n",
        "  for i in range(vsize - 1) :\n",
        "    for j in range (i + 1, size) :\n",
        "      if adj[i][j] != None :\n",
        "        eList.append(i, j, adj[i][j])\n",
        "  \n",
        "  # 간선 리스트를 가중치의 내림차순으로 정렬 : 람다 함수 사용\n",
        "  eList.sort(key = lambda e : e[2], reverse = True)\n",
        "\n",
        "  edgeAccepted = 0\n",
        "  while (edgeAccepted < vsize - 1) :\n",
        "    e = eList.pop(-1)     # 가장 작은 가중치를 가진 간선\n",
        "    uset = find(e[0])     # 두 정점이 속한 집합 번호\n",
        "    vset = find(e[1])  \n",
        "\n",
        "    if uset != vset :     # 두 정점이 다른 집합의 원소이면\n",
        "      print(\"간선 추가 : (%s, %s, %d)\" %\n",
        "            (vertex[e[0]], vertex[e[1]], e[2]))    # 간선 추가\n",
        "      union(uset, vset)\n",
        "      edgeAccepted += 1"
      ],
      "execution_count": null,
      "outputs": []
    },
    {
      "cell_type": "markdown",
      "metadata": {
        "id": "pLAEt3ll25-0"
      },
      "source": [
        "### Prim의 MST 알고리즘\n",
        "1. spanning tree에 들어가있는 vertex, 안들어가있는 vertex 하나씩 연결된 간선 중에서 가장 작은값을 가져옴\n",
        "2. 두개의 정점 중 spanning tree에 없는 정점을 추가해준다\n",
        "* cycle 신경쓸 필요 없음"
      ]
    },
    {
      "cell_type": "code",
      "metadata": {
        "id": "LOiAWZmL3PSf"
      },
      "source": [
        "def MSTPrim(vertex, adj) :\n",
        "  vsize = len(vertex)\n",
        "  dist = [INF] * vsize\n",
        "  selected = [False] * vsize\n",
        "  dist[0] = 0\n",
        "\n",
        "  for i in range (vsize) :\n",
        "    u = getMinVertex(dist, selected)\n",
        "    selected[u] = True      # 방문처리 느낌\n",
        "    print(vertex[u], end = ' ')\n",
        "    for v in range (vsize) :\n",
        "      # (u, v) 간선이 있으면 dist[v] 갱신\n",
        "      if (adj[u][v] != None) :\n",
        "        if selected[v] == False and adj[u][v] < dist[v] :\n",
        "          dist[v] = adj[u][v]\n",
        "  print()"
      ],
      "execution_count": null,
      "outputs": []
    },
    {
      "cell_type": "markdown",
      "metadata": {
        "id": "OcvpID9g4hbp"
      },
      "source": [
        "## 최단 경로 알고리즘\n",
        "* 정점 u와 정점 v를 연결하는 경로 중에서 간선들의 가중치 합이 최소가 되는 경로\n",
        "* Dijkstra / Floyd 알고리즘"
      ]
    },
    {
      "cell_type": "markdown",
      "metadata": {
        "id": "nrBib-WZ5wK8"
      },
      "source": [
        "#### Dijkstra 최단 경로 알고리즘\n",
        "* 시작 정점 v에서 모든 다른 정점까지의 최단 경로를 찾음\n",
        "* 매 단계에서 최소 distance인 정점을 S에 추가\n",
        "1. 거리를 나타내는 1차배열 이용\n",
        "2, 새로운 정점이 들어가서 최소가 되면 dist 갱신"
      ]
    },
    {
      "cell_type": "code",
      "metadata": {
        "id": "cgT_qNYj5tCT"
      },
      "source": [
        "def shortest_path_dijkstra(vtx, adj, start) :\n",
        "  vsize = len(vtx)\n",
        "  dist = list(adj[start])\n",
        "  path = [start] * vsize\n",
        "  found = [False] * vsize\n",
        "  found[start] = True     # 시작정점 : 이미 찾아짐\n",
        "  dist[start] = 0         # 시작정점의 거리 0\n",
        "\n",
        "  for i in range (vsize) :\n",
        "    print(\"Step%2d : \" %(i + 1), dist)\n",
        "    # 최소 dist 정점 u 탐색\n",
        "    u = choose_vertex(dist, found)\n",
        "    found[u] = True       # 찾아진 u..\n",
        "\n",
        "    for w in range (vsize) :                 # 모든 정점에 대하여\n",
        "      if not found[w] :                      # 아직 찾아지지 않았으면\n",
        "        if dist[u] + adj[u][w] < dist[w] :   # 갱신 조건 검사\n",
        "          dist[w] = dist[u] + adj[u][w]      # dist 갱신\n",
        "          path[w] = u                        # 이전 정점 갱신\n",
        "\n",
        "  return path"
      ],
      "execution_count": null,
      "outputs": []
    },
    {
      "cell_type": "markdown",
      "metadata": {
        "id": "Ee_tXdsn7ccN"
      },
      "source": [
        "### Floyd의 최단경로 알고리즘\n",
        "* loop 3개를 통해 어떤 정점을 통과할 수 있는 길이 있나없나 확인\n",
        "* loop 3개 -> dense그래프인 경우에는 굉장히 느리다"
      ]
    },
    {
      "cell_type": "code",
      "metadata": {
        "id": "n5wopnf87rAY"
      },
      "source": [
        "def shortest_path_floyd(vertex, adj) :\n",
        "  vsize = len(vertex)\n",
        "  # 2차원 리스트 복사\n",
        "  A = list(adj)   \n",
        "  for i in range (vsize) :\n",
        "    A[i] = list(adj[i])\n",
        "  \n",
        "  for k in range (vsize) :        # 정점 k를 추가할 때\n",
        "    for i in range (vsize) :      \n",
        "      for j in range (vsize) :    # 모든 A[i][j] 갱신\n",
        "        if (A[i][k] + A[k][j] < A[i][j]) :\n",
        "          A[i][j] = A[i][k] + A[k][j]\n",
        "    print(A)"
      ],
      "execution_count": null,
      "outputs": []
    }
  ]
}