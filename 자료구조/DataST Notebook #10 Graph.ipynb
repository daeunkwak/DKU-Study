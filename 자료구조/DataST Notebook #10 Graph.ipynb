{
  "nbformat": 4,
  "nbformat_minor": 0,
  "metadata": {
    "colab": {
      "name": "DataST Notebook #10 Graph",
      "provenance": []
    },
    "kernelspec": {
      "name": "python3",
      "display_name": "Python 3"
    },
    "language_info": {
      "name": "python"
    }
  },
  "cells": [
    {
      "cell_type": "markdown",
      "metadata": {
        "id": "T85t9QdJwCXt"
      },
      "source": [
        "### 그래프의 탐색\n",
        "## DFS : depth-first search\n",
        "* 한 방향으로 끝까지 가다가 더 이상 갈 수 없게 되면 가장 가가운 갈림길로 돌아와서 다른 방향으로 다시 탐색 진행\n",
        "* 되돌아가기 위해서 스택 필요\n",
        "* 순환함수 호출을 통해 묵시적으로 스택 이용 가능\n"
      ]
    },
    {
      "cell_type": "code",
      "metadata": {
        "id": "jyUQryIKweQq"
      },
      "source": [
        "# 딕셔너리와 집합을 이용한 인접리스트 표현 가정\n",
        "def dfs(graph, start, visited = set()) :\n",
        "  if start not in visited :\n",
        "    visited.add(start)\n",
        "    print(start, end = ' ')\n",
        "    nbr = graph[start] - visited    # 차집합 연산 이용\n",
        "    for v in nbr :\n",
        "      dfs(graph, v, visited)"
      ],
      "execution_count": 2,
      "outputs": []
    },
    {
      "cell_type": "code",
      "metadata": {
        "id": "_AlwIJeYwooW"
      },
      "source": [
        "# 인접행렬로 표현된 그래프를 인자로 받아 dfs 수행\n",
        "# 인접행렬을 인자로 받는 경우 -> 행, 열 변수를 따로 선언하여 사용하기\n",
        "def matGraphDFS(vertex, graphAM, start) :\n",
        "  visited = []    # 방문 리스트도 꼭 선언하기\n",
        "  stack = []\n",
        "  i = 0\n",
        "  index = 0\n",
        "  flag = 0        # stack을 통해 되돌아 갈 때 사용할 변수\n",
        "\n",
        "  # 인자로 전달받은 start 인덱스 찾기\n",
        "  for i in range (len(vertex)) :\n",
        "    if (start == vertex[i]) :\n",
        "      index = i\n",
        "      break\n",
        "  \n",
        "    print(start, \"에서 시작!\")\n",
        "    print()\n",
        "\n",
        "  while True :\n",
        "    if (flag == 0) :\n",
        "      visited.append(vertex[index])\n",
        "      print(\"현재\", vertex[index], \"방문 중입니다.\", end = \" \")\n",
        "      for i in range(len(graphAM[index])) :\n",
        "        if (graphAM[index][i] == 1) :\n",
        "          if vertex[i] not in visited :   # 인접 정점 + 방문한 적 없는 경우\n",
        "            # 다음 인접 노드 방문 진행\n",
        "            print(vertex[index], \" -> \", vertex[i], \"다음으로\", vertex[i], \"방문을 진행합니다.\")   \n",
        "            stack.append(vertex[index])   # stack에 갈림길 저장\n",
        "            index = i   # 방문하고자 하는 다음 인접 정점의 행 인덱스로 옮김\n",
        "            flag = 0\n",
        "            break\n",
        "        # for문에서는 i증가하면서 도니까 i + 1이 끝 맞다\n",
        "        if ((i + 1) == len(graphAM[index])): # 정점 데이터를 모두 확인했음에도 더 이상 갈 인접 정점이 없다면,\n",
        "                    print(vertex[index], \"에서 더 이상 방문할 수 있는 인접 정점이 없습니다. 가장 최근의 갈림길로 되돌아가겠습니다.\")\n",
        "                    flag = 1       # stack을 확인한다 -> 더이상 갈 길 없다. stack을 통해 되돌아가라\n",
        "   \n",
        "    # 바로 전 코드에 이어서 실행되는 부분\n",
        "    elif (flag == 1):          # 정점 데이터를 모두 확인했음에도 더 이상 갈 인접 정점이 없다면,\n",
        "      ret = stack.pop()        # 가장 최근의 갈림길을 stack에서 가져온다.\n",
        "      print(\"스택에서 가장 최근의 갈림길\", ret, \"을 가져왔습니다.\")   \n",
        "\n",
        "      for i in range(len(vertex)):    # 인덱스 찾기\n",
        "        if (ret == vertex[i]):\n",
        "          index = i\n",
        "          break\n",
        "\n",
        "      # stack에서 꺼내온 다음 앞에 과정 반복이라고 봐도 무방함\n",
        "      for i in range(len(graphAM[index])):  \n",
        "          if (graphAM[index][i] == 1):         \n",
        "              if vertex[i] not in visited:    \n",
        "                print(vertex[index], \"->\", vertex[i], \"다음으로\", vertex[i], \"방문을 진행합니다.\")\n",
        "                stack.append(vertex[index]) \n",
        "                index = i                \n",
        "                flag = 0                                           \n",
        "                break\n",
        "\n",
        "      if (flag != 0) :\n",
        "        print(vertex[index], \"에서 더 이상 방문할 수 있는 인접 정점이 없습니다. 가장 최근의 갈림길로 되돌아가겠습니다.\")\n",
        "        \n",
        "      if (len(stack) == 0):      # stack에 더 이상 값이 없다면 모든 정점을 방문하여 갈림길을 되돌아온것으로 간주한다. \n",
        "            print()\n",
        "            print(\"모든 방문이 완료되었습니다.\")\n",
        "            print()\n",
        "            break\n",
        "      else:                      # 디버깅을 위한 if문으로 DFS와 관련 없다.\n",
        "            print(\"현재 스택은\", stack, \"입니다.\")\n",
        "            print()\n",
        "\n",
        "    print(\"방문 순서: \", end='') \n",
        "    for vtx in visited:            # visited의 원소를 출력하여 방문 순서를 확인한다. \n",
        "        print(vtx, end='') \n",
        "    \n"
      ],
      "execution_count": 8,
      "outputs": []
    },
    {
      "cell_type": "code",
      "metadata": {
        "colab": {
          "base_uri": "https://localhost:8080/"
        },
        "id": "rCIAmF090Tu2",
        "outputId": "6267412f-f6ac-4a18-ed60-71b0c2d9f90d"
      },
      "source": [
        "vertex = ['A', 'B', 'C', 'D', 'E', 'F', 'G', 'H']\n",
        "graphAM = [ [ 0,   1,   1,   0,   0,   0,   0,   0 ],\n",
        "            [ 1,   0,   0,   1,   0,   0,   0,   0 ],\n",
        "            [ 1,   0,   0,   1,   1,   0,   0,   0 ],\n",
        "            [ 0,   1,   1,   0,   0,   1,   0,   0 ],\n",
        "            [ 0,   0,   1,   0,   0,   0,   1,   1 ],\n",
        "            [ 0,   0,   0,   1,   0,   0,   0,   0 ],\n",
        "            [ 0,   0,   0,   0,   1,   0,   0,   1 ], \n",
        "            [ 0,   0,   0,   0,   1,   0,   1,   0 ] ]\n",
        "\n",
        "matGraphDFS(vertex, graphAM, 'A')"
      ],
      "execution_count": 9,
      "outputs": [
        {
          "output_type": "stream",
          "name": "stdout",
          "text": [
            "현재 A 방문 중입니다. A  ->  B 다음으로 B 방문을 진행합니다.\n",
            "방문 순서: A현재 B 방문 중입니다. B  ->  D 다음으로 D 방문을 진행합니다.\n",
            "방문 순서: AB현재 D 방문 중입니다. D  ->  C 다음으로 C 방문을 진행합니다.\n",
            "방문 순서: ABD현재 C 방문 중입니다. C  ->  E 다음으로 E 방문을 진행합니다.\n",
            "방문 순서: ABDC현재 E 방문 중입니다. E  ->  G 다음으로 G 방문을 진행합니다.\n",
            "방문 순서: ABDCE현재 G 방문 중입니다. G  ->  H 다음으로 H 방문을 진행합니다.\n",
            "방문 순서: ABDCEG현재 H 방문 중입니다. H 에서 더 이상 방문할 수 있는 인접 정점이 없습니다. 가장 최근의 갈림길로 되돌아가겠습니다.\n",
            "방문 순서: ABDCEGH스택에서 가장 최근의 갈림길 G 을 가져왔습니다.\n",
            "G 에서 더 이상 방문할 수 있는 인접 정점이 없습니다. 가장 최근의 갈림길로 되돌아가겠습니다.\n",
            "현재 스택은 ['A', 'B', 'D', 'C', 'E'] 입니다.\n",
            "\n",
            "방문 순서: ABDCEGH스택에서 가장 최근의 갈림길 E 을 가져왔습니다.\n",
            "E 에서 더 이상 방문할 수 있는 인접 정점이 없습니다. 가장 최근의 갈림길로 되돌아가겠습니다.\n",
            "현재 스택은 ['A', 'B', 'D', 'C'] 입니다.\n",
            "\n",
            "방문 순서: ABDCEGH스택에서 가장 최근의 갈림길 C 을 가져왔습니다.\n",
            "C 에서 더 이상 방문할 수 있는 인접 정점이 없습니다. 가장 최근의 갈림길로 되돌아가겠습니다.\n",
            "현재 스택은 ['A', 'B', 'D'] 입니다.\n",
            "\n",
            "방문 순서: ABDCEGH스택에서 가장 최근의 갈림길 D 을 가져왔습니다.\n",
            "D -> F 다음으로 F 방문을 진행합니다.\n",
            "현재 스택은 ['A', 'B', 'D'] 입니다.\n",
            "\n",
            "방문 순서: ABDCEGH현재 F 방문 중입니다. F 에서 더 이상 방문할 수 있는 인접 정점이 없습니다. 가장 최근의 갈림길로 되돌아가겠습니다.\n",
            "방문 순서: ABDCEGHF스택에서 가장 최근의 갈림길 D 을 가져왔습니다.\n",
            "D 에서 더 이상 방문할 수 있는 인접 정점이 없습니다. 가장 최근의 갈림길로 되돌아가겠습니다.\n",
            "현재 스택은 ['A', 'B'] 입니다.\n",
            "\n",
            "방문 순서: ABDCEGHF스택에서 가장 최근의 갈림길 B 을 가져왔습니다.\n",
            "B 에서 더 이상 방문할 수 있는 인접 정점이 없습니다. 가장 최근의 갈림길로 되돌아가겠습니다.\n",
            "현재 스택은 ['A'] 입니다.\n",
            "\n",
            "방문 순서: ABDCEGHF스택에서 가장 최근의 갈림길 A 을 가져왔습니다.\n",
            "A 에서 더 이상 방문할 수 있는 인접 정점이 없습니다. 가장 최근의 갈림길로 되돌아가겠습니다.\n",
            "\n",
            "모든 방문이 완료되었습니다.\n",
            "\n"
          ]
        }
      ]
    },
    {
      "cell_type": "markdown",
      "metadata": {
        "id": "aHoigxqQ4GbP"
      },
      "source": [
        "## BFS : breath-first-search\n",
        "* 시작 정점으로부터 가까운 정점을 먼저 방문하고 멀리 떨어져있는 정점을 나중에 방문하는 순회 방법\n",
        "* 큐를 사용하여 구현 -> 반복적 방법\n"
      ]
    },
    {
      "cell_type": "code",
      "metadata": {
        "id": "vLsvJ3Xj5KVb"
      },
      "source": [
        "import collections\n",
        "import queue\n",
        "\n",
        "# 딕셔너리와 집합을 이용한 인접리스트 표현 가정\n",
        "def bfs(graph, start) :\n",
        "  visited = set([start])\n",
        "  queue = collections.deque([start]) \n",
        "  while queue :\n",
        "    vertex = queue.popleft()\n",
        "    print(vertex, end = ' ')\n",
        "    nbr = graph[vertex] - visited   # 차집합 연산 이용\n",
        "    for v in nbr :\n",
        "      visited.add(v)\n",
        "      queue.append(v)"
      ],
      "execution_count": null,
      "outputs": []
    },
    {
      "cell_type": "code",
      "metadata": {
        "id": "5a-HCIfU7LFi"
      },
      "source": [
        "import queue\n",
        "import collections\n",
        "# 인접행렬로 표현된 그래프를 인자로 받아 bfs 수행\n",
        "# 인접행렬을 인자로 받는 경우 -> 행, 열 변수를 따로 선언하여 사용하기\n",
        "\n",
        "def matGraphBFS(vertex, graphAM, start) :\n",
        "  visited = []    # 방문처리 리스트 꼭 필요\n",
        "  Q_check = []    # 큐에있는 원소를 확인하기 위한 Q_check 리스트 -> 인덱스 대신 원소 저장\n",
        "  Q = collections.deque()\n",
        "  i = 0       # 열\n",
        "  index = 0   # 행\n",
        "\n",
        "  nbr = []\n",
        "\n",
        "  for i in range(len(vertex)): # start의 행 인덱스를 찾기\n",
        "    if (start == vertex[i]):\n",
        "      index = i\n",
        "      break\n",
        "  \n",
        "  visited.append(start)\n",
        "  Q.append(vertex[i])\n",
        "  Q_check.append(vertex[i])\n",
        "\n",
        "  print(start, \"에서 시작!\")\n",
        "  print(\"큐 내용:\", Q_check)\n",
        "  print()\n",
        "  \n",
        "  while Q :\n",
        "    nbr = []\n",
        "    vertexx = Q.popleft()\n",
        "    for i in range(len(vertex)): # vertexx의 행 인덱스를 찾기\n",
        "      if (vertexx == vertex[i]):\n",
        "        vertexx = i\n",
        "        break\n",
        "\n",
        "    print(vertexx, end = ' ')\n",
        "    for i in range (len(vertex)) :\n",
        "      if graphAM[vertexx][i] == 1 :\n",
        "        if vertex[i] not in visited :\n",
        "          nbr.append(vertex[i])\n",
        "    for v in nbr :\n",
        "      visited.append(v)\n",
        "      Q.append(v)      \n",
        "\n",
        "\n",
        "\n",
        "  \n"
      ],
      "execution_count": 25,
      "outputs": []
    },
    {
      "cell_type": "code",
      "metadata": {
        "colab": {
          "base_uri": "https://localhost:8080/"
        },
        "id": "AAYr4agd-Wx_",
        "outputId": "ef78a2dd-4c40-4e3d-cca9-4d0825948f19"
      },
      "source": [
        "vertex = ['A', 'B', 'C', 'D', 'E', 'F', 'G', 'H']\n",
        "graphAM = [ [ 0,   1,   1,   0,   0,   0,   0,   0 ],\n",
        "            [ 1,   0,   0,   1,   0,   0,   0,   0 ],\n",
        "            [ 1,   0,   0,   1,   1,   0,   0,   0 ],\n",
        "            [ 0,   1,   1,   0,   0,   1,   0,   0 ],\n",
        "            [ 0,   0,   1,   0,   0,   0,   1,   1 ],\n",
        "            [ 0,   0,   0,   1,   0,   0,   0,   0 ],\n",
        "            [ 0,   0,   0,   0,   1,   0,   0,   1 ], \n",
        "            [ 0,   0,   0,   0,   1,   0,   1,   0 ] ]\n",
        "\n",
        "matGraphBFS(vertex, graphAM, 'A')"
      ],
      "execution_count": 26,
      "outputs": [
        {
          "output_type": "stream",
          "name": "stdout",
          "text": [
            "A 에서 시작!\n",
            "큐 내용: ['A']\n",
            "\n",
            "0 1 2 3 4 5 6 7 "
          ]
        }
      ]
    },
    {
      "cell_type": "markdown",
      "metadata": {
        "id": "HoUPgtInCvBX"
      },
      "source": [
        "## 연결 성분 검사 알고리즘"
      ]
    },
    {
      "cell_type": "code",
      "metadata": {
        "id": "BHXin1VoCxL4"
      },
      "source": [
        "# 딕셔너리와 집합을 이용한 인접리스트 표현 가정\n",
        "\n",
        "def find_connected_component(graph) :\n",
        "  visited = set()\n",
        "  colofList = []\n",
        "\n",
        "  for vtx in graph :\n",
        "    if vtx not in visited :\n",
        "      color = dfs_cc(graph, [], vtx, visited)\n",
        "      colorList.append(color)\n",
        "  \n",
        "  print(colorList)\n",
        "\n",
        "def dfs_cc(graph, color, vertex, visited) :\n",
        "  if vertex not in visited :\n",
        "    visited.add(vertex)\n",
        "    color.append(vertex)\n",
        "    nbr = graph[vertex] - visited \n",
        "    for v in nbr :\n",
        "      dfs_cc(graph, color, v, visited)\n",
        "  return color"
      ],
      "execution_count": 27,
      "outputs": []
    },
    {
      "cell_type": "code",
      "metadata": {
        "id": "uVbeh8jUDvDp"
      },
      "source": [
        "import queue\n",
        "# 인접행렬로 표현된 그래프를 인자로 받아 연결성분 검사 수행\n",
        "# matGraphBFS_cc에 A 하나만 집어넣어서 모두 검사 (다 연결되어있으니까)\n",
        "\n",
        "def matGraphFindConnectedGrapth(vertex, graphAM) :\n",
        "  visited = []\n",
        "  colorList = []\n",
        "\n",
        "  for vtx in vertex :\n",
        "    if vtx not in visited :\n",
        "      # vertex 리스트도 따로 넣어주어야함\n",
        "      print(\"vtx : \", vtx)\n",
        "      color = matGraphBFS_cc(graphAM, [], vtx, vertex, visited)\n",
        "      colorList.append(color)\n",
        "  print(colorList)\n",
        "\n",
        "# BFS함수와 거의 동일\n",
        "def matGraphBFS_cc(graphAM, color, vtx, vertex, visited) :\n",
        "  Q_check = []\n",
        "  Q = queue.Queue(maxsize = 20)\n",
        "  i = 0\n",
        "  index = 0\n",
        "\n",
        "  for i in range (len(vertex)) :\n",
        "    if (vtx == vertex[i]) :\n",
        "      index = i\n",
        "      break\n",
        "  \n",
        "  Q.put(vertex[i])\n",
        "  Q_check.append(vertex[i])\n",
        "\n",
        "  while Q.qsize() :\n",
        "    ret = Q.get()\n",
        "    Q_check.pop(0)\n",
        "    for i in range (len(vertex)) :\n",
        "      if ret == vertex[i] :\n",
        "        index = i\n",
        "        break\n",
        "    visited.append(vertex[index])\n",
        "    color.append(vertex[index])\n",
        "    for i in range (len(graphAM[index])) :\n",
        "      if vertex[i] not in visited :\n",
        "        if vertex[i] not in Q_check :\n",
        "          Q.put(vertex[i])\n",
        "          Q_check.append(vertex[i])\n",
        "  print(\"color : \", color)\n",
        "  return color"
      ],
      "execution_count": 33,
      "outputs": []
    },
    {
      "cell_type": "code",
      "metadata": {
        "colab": {
          "base_uri": "https://localhost:8080/"
        },
        "id": "Q4oHezyNJTlS",
        "outputId": "09552030-f810-4750-b82e-79bd860405da"
      },
      "source": [
        "# 교재 366 페이지 \n",
        "vertex = ['A', 'B', 'C', 'D', 'E', 'F', 'G', 'H']\n",
        "graphAM = [ [ 0,   1,   1,   0,   0,   0,   0,   0 ],\n",
        "            [ 1,   0,   0,   1,   0,   0,   0,   0 ],\n",
        "            [ 1,   0,   0,   1,   1,   0,   0,   0 ],\n",
        "            [ 0,   1,   1,   0,   0,   1,   0,   0 ],\n",
        "            [ 0,   0,   1,   0,   0,   0,   1,   1 ],\n",
        "            [ 0,   0,   0,   1,   0,   0,   0,   0 ],\n",
        "            [ 0,   0,   0,   0,   1,   0,   0,   1 ], \n",
        "            [ 0,   0,   0,   0,   1,   0,   1,   0 ] ]\n",
        "\n",
        "matGraphFindConnectedGrapth(vertex, graphAM)"
      ],
      "execution_count": 34,
      "outputs": [
        {
          "output_type": "stream",
          "name": "stdout",
          "text": [
            "vtx :  A\n",
            "color :  ['A', 'B', 'C', 'D', 'E', 'F', 'G', 'H']\n",
            "[['A', 'B', 'C', 'D', 'E', 'F', 'G', 'H']]\n"
          ]
        }
      ]
    },
    {
      "cell_type": "markdown",
      "metadata": {
        "id": "1NlE2JCMKw9Y"
      },
      "source": [
        "## 신장 트리 알고리즘\n",
        "* 신장 트리 -> 그래프 내의 모든 정점을 포함하는 트리\n",
        "* 사이클xx, 간선 개수 n-1"
      ]
    },
    {
      "cell_type": "code",
      "metadata": {
        "id": "5CnJM9grK5AR"
      },
      "source": [
        "import collections\n",
        "\n",
        "def bfsST(graph, start) :\n",
        "  visited = set([start])\n",
        "  queue = collections.deque([start])\n",
        "  print(\"queue : \", queue)\n",
        "  while queue :\n",
        "    v = queue.popleft()\n",
        "    nbr = graph[v] - visited\n",
        "    for u in nbr :\n",
        "      print(\"(\", v, \", \", u, \")\", end = \" \")\n",
        "      visited.add(u)\n",
        "      queue.append(u)"
      ],
      "execution_count": null,
      "outputs": []
    },
    {
      "cell_type": "markdown",
      "metadata": {
        "id": "tnM_bKHhM_jc"
      },
      "source": [
        "## 위상 정렬 알고리즘\n",
        "* directed edge 존재 -> 선수관계에 어긋나면 안됨\n",
        "* in-degree 사용하여 구현"
      ]
    },
    {
      "cell_type": "code",
      "metadata": {
        "id": "Tcwl7xd2P8OR"
      },
      "source": [
        "def topological_sort_AM(vertex, graph) :\n",
        "  n = len(vertex)\n",
        "  inDeg = [0] * n\n",
        "\n",
        "  # 노드별 in-degree 계산\n",
        "  for i in range (n) :\n",
        "    for j in range (n) :\n",
        "      if graph[i][j] > 0 :\n",
        "        inDeg[j] += 1\n",
        "  \n",
        "  # in-degree = 0인 노드 필터링\n",
        "  vlist = []\n",
        "  for i in range (n) :\n",
        "    if inDeg[i] == 0 :\n",
        "      vlist.append(i)\n",
        "  \n",
        "  # 모든 노드가 정렬될 때 까지 반복\n",
        "  while len(vlist) > 0 :\n",
        "    v = vlist.pop()   # in-degree 0인 정점 하나 꺼냄\n",
        "    print(vertex[v], end = ' ')\n",
        "\n",
        "    # in-degree 감소 후 0인 노드 필터 아웃\n",
        "    for u in range (n) :\n",
        "      if v != u and graph[v][u] > 0 :\n",
        "        inDeg[u] -= 1\n",
        "        if inDeg[u] == 0 :\n",
        "          vlist.append(u)"
      ],
      "execution_count": null,
      "outputs": []
    }
  ]
}