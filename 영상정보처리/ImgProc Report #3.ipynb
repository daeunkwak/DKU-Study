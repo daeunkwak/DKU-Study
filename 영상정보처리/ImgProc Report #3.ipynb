{
  "nbformat": 4,
  "nbformat_minor": 0,
  "metadata": {
    "colab": {
      "name": "2021-1-ImgProc-HW3-곽다은-32200185",
      "provenance": [],
      "collapsed_sections": []
    },
    "kernelspec": {
      "name": "python3",
      "display_name": "Python 3"
    }
  },
  "cells": [
    {
      "cell_type": "markdown",
      "metadata": {
        "id": "fR2r9QkEJsl6"
      },
      "source": [
        "## 2021-1 영상정보처리 3주차 과제 템플리트\n",
        "마감: 2021년 3월 25일 오후 11시 59분\n",
        "이름:            곽다은\n",
        "학번: 32200185"
      ]
    },
    {
      "cell_type": "markdown",
      "metadata": {
        "id": "bjiTmr40Kvj0"
      },
      "source": [
        "구글 드라이브를 연결하고 자신의 노트북이 저장되어 있는 폴더로 이동하시오"
      ]
    },
    {
      "cell_type": "code",
      "metadata": {
        "id": "EW-64iXn6jnS",
        "colab": {
          "base_uri": "https://localhost:8080/"
        },
        "outputId": "6f7d94ee-3696-44c6-d12f-5aad3e983f6b"
      },
      "source": [
        "import matplotlib.pyplot as pyplot\n",
        "import matplotlib.cm as cm\n",
        "import cv2\n",
        "from google.colab import drive \n",
        "drive.mount('/gdrive')"
      ],
      "execution_count": null,
      "outputs": [
        {
          "output_type": "stream",
          "text": [
            "Drive already mounted at /gdrive; to attempt to forcibly remount, call drive.mount(\"/gdrive\", force_remount=True).\n"
          ],
          "name": "stdout"
        }
      ]
    },
    {
      "cell_type": "code",
      "metadata": {
        "id": "Vb3SZ-5Mkzk1"
      },
      "source": [
        "from google.colab import drive\n",
        "drive.mount('/content/drive')"
      ],
      "execution_count": null,
      "outputs": []
    },
    {
      "cell_type": "code",
      "metadata": {
        "id": "9f5PcyjBk1u4",
        "colab": {
          "base_uri": "https://localhost:8080/"
        },
        "outputId": "c03aeab5-a9a5-4119-dfb9-76116d23de74"
      },
      "source": [
        "!pwd"
      ],
      "execution_count": null,
      "outputs": [
        {
          "output_type": "stream",
          "text": [
            "/content\n"
          ],
          "name": "stdout"
        }
      ]
    },
    {
      "cell_type": "code",
      "metadata": {
        "id": "Dlqm3ejDl5zA"
      },
      "source": [
        "%cd /gdrive/MyDrive\n",
        "%ls"
      ],
      "execution_count": null,
      "outputs": []
    },
    {
      "cell_type": "code",
      "metadata": {
        "id": "lxIDZNAAmEGs"
      },
      "source": [
        "%cd Classroom/ImageProcClass/NoteBook-Week3/\n",
        "%ls"
      ],
      "execution_count": null,
      "outputs": []
    },
    {
      "cell_type": "markdown",
      "metadata": {
        "id": "PcPtNHOKLGYO"
      },
      "source": [
        "다음에 이미지 경로 '../Dongkeun-OpenCV-ImgData/logo.png' 를 변경하지 말고 이미지를 읽고, 해당 이미지에 대한 type, size, dtype 등의 속성을 체크하시오. "
      ]
    },
    {
      "cell_type": "code",
      "metadata": {
        "id": "cmPw7nq3LWg9",
        "colab": {
          "base_uri": "https://localhost:8080/"
        },
        "outputId": "c821d00b-d634-4c8e-d4cc-5c6b7551b508"
      },
      "source": [
        "img = cv2.imread('../Dongkeun-OpenCV-ImgData/logo.png')\n",
        "print(\"type = \", type(img))\n",
        "print(\"size - \", img.size)\n",
        "print(\"dtype = \", img.dtype)"
      ],
      "execution_count": null,
      "outputs": [
        {
          "output_type": "stream",
          "text": [
            "type =  <class 'numpy.ndarray'>\n",
            "size -  876600\n",
            "dtype =  uint8\n"
          ],
          "name": "stdout"
        }
      ]
    },
    {
      "cell_type": "markdown",
      "metadata": {
        "id": "_7beYkp0LXD8"
      },
      "source": [
        "다음의 셀에 읽은 이미지에서 좌표 y = 100, x = 50 에 있는 화소의 각 색요소 값을 한번에 읽어 출력하시오. 또한 각 색요소의 값을 별도로 가져오는 예를 작성하시오."
      ]
    },
    {
      "cell_type": "code",
      "metadata": {
        "id": "SYmgFzE8BCj2",
        "colab": {
          "base_uri": "https://localhost:8080/"
        },
        "outputId": "c1553648-7cd5-40b3-d885-3ebbca25d0b9"
      },
      "source": [
        "\n",
        "(b, g, r) = img[100, 50]\n",
        "print('(b, g, r) :', b, g, r)\n",
        "\n",
        "blue = img[100, 50, 0]\n",
        "green = img[100, 50, 1]\n",
        "red = img[100, 50, 2]\n",
        "print('blue : {}, green : {}, red : {}'.format(blue, green, red))"
      ],
      "execution_count": null,
      "outputs": [
        {
          "output_type": "stream",
          "text": [
            "0 0 0\n",
            "0\n"
          ],
          "name": "stdout"
        }
      ]
    },
    {
      "cell_type": "markdown",
      "metadata": {
        "id": "XSQl0I7rMTzD"
      },
      "source": [
        "다음의 셀에 읽은 이미지에서 좌표 y = 100, x = 50 의 화소를 순수 녹색(green) 으로 세팅하는 코드를 작성하고 해당 분야를 ROI 를 이용해 확대해서 출력하시오. "
      ]
    },
    {
      "cell_type": "code",
      "metadata": {
        "id": "ZNzqziflL-ex"
      },
      "source": [
        "import matplotlib.pyplot as plt\n",
        "\n",
        "img[100, 50] = (0, 255, 0)\n",
        "ROI = img[90:110, 40:60]\n",
        "plt.imshow(ROI)\n",
        "plt.show()"
      ],
      "execution_count": null,
      "outputs": []
    },
    {
      "cell_type": "markdown",
      "metadata": {
        "id": "yyNPkeP7CKHp"
      },
      "source": [
        "## Accessing and Manipulating pixels in opencv with grayscale images\n",
        "\n",
        "위에서 사용한 동일 입력 이미지를 읽어서 matplotlib.pyplot에 맞는 채널 순서로 변환하고 본래 이미지와 변환된 이미지를 matplotlib.pyplot 을 이용하여 출력하시오. \n"
      ]
    },
    {
      "cell_type": "code",
      "metadata": {
        "id": "3HfuEEr8NPDD",
        "colab": {
          "base_uri": "https://localhost:8080/",
          "height": 239
        },
        "outputId": "16bcae49-74ec-4dcc-8466-982dd92c9fab"
      },
      "source": [
        "opencv_img = cv2.imread('../Dongkeun-OpenCV-ImgData/logo.png')\n",
        "b, g, r = cv2.split(opencv_img)\n",
        "matp_img = cv2.merge([r, g, b])\n",
        "pyplot.subplot(121)\n",
        "pyplot.imshow(opencv_img)\n",
        "pyplot.subplot(122)\n",
        "pyplot.imshow(matp_img)\n",
        "pyplot.show()"
      ],
      "execution_count": null,
      "outputs": [
        {
          "output_type": "display_data",
          "data": {
            "image/png": "[encoded data removed]",
            "text/plain": [
              "<Figure size 432x288 with 2 Axes>"
            ]
          },
          "metadata": {
            "tags": [],
            "needs_background": "light"
          }
        }
      ]
    }
  ]
}