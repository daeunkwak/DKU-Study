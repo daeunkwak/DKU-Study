{
  "nbformat": 4,
  "nbformat_minor": 0,
  "metadata": {
    "colab": {
      "name": "DataST Notebook #5 Queue, Deque",
      "provenance": []
    },
    "kernelspec": {
      "name": "python3",
      "display_name": "Python 3"
    },
    "language_info": {
      "name": "python"
    }
  },
  "cells": [
    {
      "cell_type": "markdown",
      "metadata": {
        "id": "qQzxVHolH4wZ"
      },
      "source": [
        "# **05. Queue, Deque**\n",
        "### Queue : FIFO (First-In First Out)\n",
        "* Queue()\n",
        "* isEmpty()\n",
        "* enqueue(x) -> 삽입\n",
        "* dequeue() -> 삭제\n",
        "* peek()\n",
        "* size()\n",
        "* clear()\n"
      ]
    },
    {
      "cell_type": "markdown",
      "metadata": {
        "id": "MqXXyMi1JZK6"
      },
      "source": [
        "### 원형 큐\n",
        "* front : 첫번째 요소 하나 앞의 인덱스 -> 가장 최근에 삭제된 항목의 위치\n",
        "* rear : 마지막 요소의 인덱스"
      ]
    },
    {
      "cell_type": "code",
      "metadata": {
        "id": "Ba3Uc4fmH8NQ"
      },
      "source": [
        "MAX_QSIZE = 10  # 원형 큐의 크기\n",
        "class CircularQueue :\n",
        "  def __init__(self) :\n",
        "    self.front = 0\n",
        "    self.rear = 0\n",
        "    self.items = [None] * MAX_QSIZE\n",
        "  \n",
        "  def isEmpty(self) :\n",
        "    return self.front == self.rear % MAX_QSIZE\n",
        "  \n",
        "  def isFull(self) :\n",
        "    return self.front == (self.rear + 1) % MAX_QSIZE\n",
        "  \n",
        "  def clear(self) :\n",
        "    self.front = self.rear\n",
        "\n",
        "  # 삽입\n",
        "  def enqueue(self, item) :\n",
        "    if not self.isFull() :\n",
        "      self.rear = (self.rear + 1) % MAX_QSIZE\n",
        "      self.items[self.rear] = item\n",
        "      print(\"enqueue : items[\", self.rear, \"] <-\", item, \"f = \", self.front, \"r = \", self.rear)\n",
        "    \n",
        "  # 삭제\n",
        "  def dequeue(self) :\n",
        "    if not self.isEmpty() :\n",
        "      self.front = (self.front + 1) % MAX_QSIZE\n",
        "      print(\"dequeue : items[\", self.front, \"] -> \", self.items[self.front], \"f = \", self.front, \"r = \", self.rear)\n",
        "      return self.items[self.front]\n",
        "  \n",
        "  def peek(self) :\n",
        "    if not self.isEmpty() :\n",
        "      return self.items[(self.front + 1) % MAX_QSIZE]\n",
        "\n",
        "  def size(self) :\n",
        "    return (self.rear - self.front + MAX_QSIZE) % MAX_QSIZE\n",
        "\n",
        "  # 출력\n",
        "  def display(self) :\n",
        "    out = []\n",
        "    # 거쳐간 원소의 개수가 MAQ_QSIZE보다 작거나, 이미 N바퀴를 돈 경우\n",
        "    if self.front < self.rear :\n",
        "      out = self.items[self.front + 1 : self.rear + 1]\n",
        "    # 중간에 걸쳐있는 경우\n",
        "    else :\n",
        "      out = self.items[self.front + 1 : MAX_QSIZE] + self.items[0 : self.rear + 1]\n",
        "    print(\"[f = %s, r = %d] ==> \" %(self.front, self.rear), out)"
      ],
      "execution_count": 15,
      "outputs": []
    },
    {
      "cell_type": "code",
      "metadata": {
        "colab": {
          "base_uri": "https://localhost:8080/"
        },
        "id": "wxzyWin0aObI",
        "outputId": "eace36a9-855e-4d8b-cc72-cf9c4109acc0"
      },
      "source": [
        "q = CircularQueue()\n",
        "for i in range (8) :\n",
        "  q.enqueue(i)\n",
        "  print(\"C_Queue size : \", q.size())\n",
        "  q.display()\n",
        "  print()\n",
        "\n",
        "for i in range (5) :\n",
        "  q.dequeue();\n",
        "  print(\"C_Queue size : \", q.size())\n",
        "  q.display()\n",
        "  print()\n",
        "\n",
        "for i in range (8, 14) :\n",
        "  q.enqueue(i)\n",
        "  print(\"C_Queue size : \", q.size())\n",
        "  q.display()\n",
        "  print()\n",
        "\n",
        "for i in range (9) :\n",
        "  q.dequeue();\n",
        "  print(\"C_Queue size : \", q.size())\n",
        "  q.display()\n",
        "  print()"
      ],
      "execution_count": 16,
      "outputs": [
        {
          "output_type": "stream",
          "name": "stdout",
          "text": [
            "enqueue : items[ 1 ] <- 0 f =  0 r =  1\n",
            "C_Queue size :  1\n",
            "[f = 0, r = 1] ==>  [0]\n",
            "\n",
            "enqueue : items[ 2 ] <- 1 f =  0 r =  2\n",
            "C_Queue size :  2\n",
            "[f = 0, r = 2] ==>  [0, 1]\n",
            "\n",
            "enqueue : items[ 3 ] <- 2 f =  0 r =  3\n",
            "C_Queue size :  3\n",
            "[f = 0, r = 3] ==>  [0, 1, 2]\n",
            "\n",
            "enqueue : items[ 4 ] <- 3 f =  0 r =  4\n",
            "C_Queue size :  4\n",
            "[f = 0, r = 4] ==>  [0, 1, 2, 3]\n",
            "\n",
            "enqueue : items[ 5 ] <- 4 f =  0 r =  5\n",
            "C_Queue size :  5\n",
            "[f = 0, r = 5] ==>  [0, 1, 2, 3, 4]\n",
            "\n",
            "enqueue : items[ 6 ] <- 5 f =  0 r =  6\n",
            "C_Queue size :  6\n",
            "[f = 0, r = 6] ==>  [0, 1, 2, 3, 4, 5]\n",
            "\n",
            "enqueue : items[ 7 ] <- 6 f =  0 r =  7\n",
            "C_Queue size :  7\n",
            "[f = 0, r = 7] ==>  [0, 1, 2, 3, 4, 5, 6]\n",
            "\n",
            "enqueue : items[ 8 ] <- 7 f =  0 r =  8\n",
            "C_Queue size :  8\n",
            "[f = 0, r = 8] ==>  [0, 1, 2, 3, 4, 5, 6, 7]\n",
            "\n",
            "dequeue : items[ 1 ] ->  0 f =  1 r =  8\n",
            "C_Queue size :  7\n",
            "[f = 1, r = 8] ==>  [1, 2, 3, 4, 5, 6, 7]\n",
            "\n",
            "dequeue : items[ 2 ] ->  1 f =  2 r =  8\n",
            "C_Queue size :  6\n",
            "[f = 2, r = 8] ==>  [2, 3, 4, 5, 6, 7]\n",
            "\n",
            "dequeue : items[ 3 ] ->  2 f =  3 r =  8\n",
            "C_Queue size :  5\n",
            "[f = 3, r = 8] ==>  [3, 4, 5, 6, 7]\n",
            "\n",
            "dequeue : items[ 4 ] ->  3 f =  4 r =  8\n",
            "C_Queue size :  4\n",
            "[f = 4, r = 8] ==>  [4, 5, 6, 7]\n",
            "\n",
            "dequeue : items[ 5 ] ->  4 f =  5 r =  8\n",
            "C_Queue size :  3\n",
            "[f = 5, r = 8] ==>  [5, 6, 7]\n",
            "\n",
            "enqueue : items[ 9 ] <- 8 f =  5 r =  9\n",
            "C_Queue size :  4\n",
            "[f = 5, r = 9] ==>  [5, 6, 7, 8]\n",
            "\n",
            "enqueue : items[ 0 ] <- 9 f =  5 r =  0\n",
            "C_Queue size :  5\n",
            "[f = 5, r = 0] ==>  [5, 6, 7, 8, 9]\n",
            "\n",
            "enqueue : items[ 1 ] <- 10 f =  5 r =  1\n",
            "C_Queue size :  6\n",
            "[f = 5, r = 1] ==>  [5, 6, 7, 8, 9, 10]\n",
            "\n",
            "enqueue : items[ 2 ] <- 11 f =  5 r =  2\n",
            "C_Queue size :  7\n",
            "[f = 5, r = 2] ==>  [5, 6, 7, 8, 9, 10, 11]\n",
            "\n",
            "enqueue : items[ 3 ] <- 12 f =  5 r =  3\n",
            "C_Queue size :  8\n",
            "[f = 5, r = 3] ==>  [5, 6, 7, 8, 9, 10, 11, 12]\n",
            "\n",
            "enqueue : items[ 4 ] <- 13 f =  5 r =  4\n",
            "C_Queue size :  9\n",
            "[f = 5, r = 4] ==>  [5, 6, 7, 8, 9, 10, 11, 12, 13]\n",
            "\n",
            "dequeue : items[ 6 ] ->  5 f =  6 r =  4\n",
            "C_Queue size :  8\n",
            "[f = 6, r = 4] ==>  [6, 7, 8, 9, 10, 11, 12, 13]\n",
            "\n",
            "dequeue : items[ 7 ] ->  6 f =  7 r =  4\n",
            "C_Queue size :  7\n",
            "[f = 7, r = 4] ==>  [7, 8, 9, 10, 11, 12, 13]\n",
            "\n",
            "dequeue : items[ 8 ] ->  7 f =  8 r =  4\n",
            "C_Queue size :  6\n",
            "[f = 8, r = 4] ==>  [8, 9, 10, 11, 12, 13]\n",
            "\n",
            "dequeue : items[ 9 ] ->  8 f =  9 r =  4\n",
            "C_Queue size :  5\n",
            "[f = 9, r = 4] ==>  [9, 10, 11, 12, 13]\n",
            "\n",
            "dequeue : items[ 0 ] ->  9 f =  0 r =  4\n",
            "C_Queue size :  4\n",
            "[f = 0, r = 4] ==>  [10, 11, 12, 13]\n",
            "\n",
            "dequeue : items[ 1 ] ->  10 f =  1 r =  4\n",
            "C_Queue size :  3\n",
            "[f = 1, r = 4] ==>  [11, 12, 13]\n",
            "\n",
            "dequeue : items[ 2 ] ->  11 f =  2 r =  4\n",
            "C_Queue size :  2\n",
            "[f = 2, r = 4] ==>  [12, 13]\n",
            "\n",
            "dequeue : items[ 3 ] ->  12 f =  3 r =  4\n",
            "C_Queue size :  1\n",
            "[f = 3, r = 4] ==>  [13]\n",
            "\n",
            "dequeue : items[ 4 ] ->  13 f =  4 r =  4\n",
            "C_Queue size :  0\n",
            "[f = 4, r = 4] ==>  [4, 5, 6, 7, 8, 9, 10, 11, 12, 13]\n",
            "\n"
          ]
        }
      ]
    },
    {
      "cell_type": "markdown",
      "metadata": {
        "id": "w2T1ZFw5gJmc"
      },
      "source": [
        "### 원형 덱\n",
        "* 원형 큐 상속하여 구현"
      ]
    },
    {
      "cell_type": "code",
      "metadata": {
        "id": "S-UzfgySQY-I"
      },
      "source": [
        "class CircularDeque(CircularQueue) :\n",
        "  def __init__(self) :\n",
        "    super().__init__()\n",
        "  def addRear(self, item) :\n",
        "    self.enqueue(item)\n",
        "  def deleteFront(self) :\n",
        "    return self.dequeue\n",
        "  def getFront(self) :\n",
        "    return self.peek()\n",
        "  def addFront(self, item) :\n",
        "    if not self.isFull() :\n",
        "      self.items[self.front] = item\n",
        "      self.front = self.front - 1\n",
        "      if self.front < 0 :\n",
        "        self.front = MAX_QSIZE - 1\n",
        "  def deleteRear(self) :\n",
        "    if not self.isEmpty() :\n",
        "      item = self.items[self.rear]\n",
        "      self.rear = self.rear - 1\n",
        "      if self.rear < 0 :\n",
        "        self.rear = MAX_QSIZE - 1\n",
        "        return item\n",
        "  def getRear(self) :\n",
        "    return self.items[self.rear]\n"
      ],
      "execution_count": 24,
      "outputs": []
    },
    {
      "cell_type": "code",
      "metadata": {
        "colab": {
          "base_uri": "https://localhost:8080/"
        },
        "id": "QmwVci_BRdlF",
        "outputId": "2e61ef12-ef82-471c-ebbd-8cd6c77cabdb"
      },
      "source": [
        "dq = CircularDeque()\n",
        "\n",
        "for i in range (9) :\n",
        "  if i % 2 == 0 :\n",
        "    dq.addRear(i)\n",
        "  else :\n",
        "    dq.addFront(i)\n",
        "dq.display()\n",
        "\n",
        "for i in range (2) :\n",
        "  dq.deleteFront()\n",
        "\n",
        "for i in range (3) :\n",
        "  dq.deleteRear()\n",
        "dq.display()"
      ],
      "execution_count": 25,
      "outputs": [
        {
          "output_type": "stream",
          "name": "stdout",
          "text": [
            "enqueue : items[ 1 ] <- 0 f =  0 r =  1\n",
            "enqueue : items[ 2 ] <- 2 f =  9 r =  2\n",
            "enqueue : items[ 3 ] <- 4 f =  8 r =  3\n",
            "enqueue : items[ 4 ] <- 6 f =  7 r =  4\n",
            "enqueue : items[ 5 ] <- 8 f =  6 r =  5\n",
            "[f = 6, r = 5] ==>  [7, 5, 3, 1, 0, 2, 4, 6, 8]\n",
            "[f = 6, r = 2] ==>  [7, 5, 3, 1, 0, 2]\n"
          ]
        }
      ]
    }
  ]
}