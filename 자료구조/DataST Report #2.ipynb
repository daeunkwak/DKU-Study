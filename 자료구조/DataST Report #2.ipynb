{
  "nbformat": 4,
  "nbformat_minor": 0,
  "metadata": {
    "colab": {
      "name": "2021-2-DataST-HW2-곽다은-32200185.ipynb",
      "provenance": [],
      "collapsed_sections": []
    },
    "kernelspec": {
      "name": "python3",
      "display_name": "Python 3"
    },
    "language_info": {
      "name": "python"
    }
  },
  "cells": [
    {
      "cell_type": "markdown",
      "metadata": {
        "id": "lBNtLNkuiI1w"
      },
      "source": [
        "자료구조 2주차 과제 - \n",
        "32200185 곽다은"
      ]
    },
    {
      "cell_type": "markdown",
      "metadata": {
        "id": "dxF-teIVjQ8d"
      },
      "source": [
        "* P2.2"
      ]
    },
    {
      "cell_type": "code",
      "metadata": {
        "colab": {
          "base_uri": "https://localhost:8080/",
          "height": 0
        },
        "id": "sZ6UK0fejT5B",
        "outputId": "8d643f64-e119-4733-f1c2-32e779736b1e"
      },
      "source": [
        "import random\n",
        "answer = random.randrange(0, 100)\n",
        "\n",
        "max = 100\n",
        "min = 0\n",
        "count = 0\n",
        "Flag = False\n",
        "\n",
        "for i in range (10) :\n",
        "    print(\"숫자를 입력하세요(범위 : %d~%d) : \" %(min, max))\n",
        "    guess = int(input())\n",
        "    count += 1\n",
        "    if guess == answer :\n",
        "        print(\"정답입니다. %d번 만에 맞추셨습니다.\" %(count))\n",
        "        print(\"게임이 끝났습니다.\")\n",
        "        Flag = True\n",
        "        break\n",
        "    elif guess >= answer :\n",
        "        print(\"아닙니다. 더 작은 숫자입니다!\")\n",
        "        max = guess\n",
        "    else :\n",
        "        print(\"아닙니다. 더 큰 숫자입니다!\")\n",
        "        min = guess\n",
        "if Flag == False :\n",
        "    print(\"실패! 10번의 기회를 모두 소진하였습니다.\")"
      ],
      "execution_count": 4,
      "outputs": [
        {
          "output_type": "stream",
          "name": "stdout",
          "text": [
            "숫자를 입력하세요(범위 : 0~100) : \n",
            "55\n",
            "아닙니다. 더 큰 숫자입니다!\n",
            "숫자를 입력하세요(범위 : 55~100) : \n",
            "66\n",
            "아닙니다. 더 큰 숫자입니다!\n",
            "숫자를 입력하세요(범위 : 66~100) : \n",
            "88\n",
            "아닙니다. 더 작은 숫자입니다!\n",
            "숫자를 입력하세요(범위 : 66~88) : \n",
            "77\n",
            "아닙니다. 더 큰 숫자입니다!\n",
            "숫자를 입력하세요(범위 : 77~88) : \n",
            "80\n",
            "아닙니다. 더 큰 숫자입니다!\n",
            "숫자를 입력하세요(범위 : 80~88) : \n",
            "85\n",
            "아닙니다. 더 작은 숫자입니다!\n",
            "숫자를 입력하세요(범위 : 80~85) : \n",
            "84\n",
            "아닙니다. 더 작은 숫자입니다!\n",
            "숫자를 입력하세요(범위 : 80~84) : \n",
            "83\n",
            "아닙니다. 더 작은 숫자입니다!\n",
            "숫자를 입력하세요(범위 : 80~83) : \n",
            "82\n",
            "아닙니다. 더 작은 숫자입니다!\n",
            "숫자를 입력하세요(범위 : 80~82) : \n",
            "81\n",
            "정답입니다. 10번 만에 맞추셨습니다.\n",
            "게임이 끝났습니다.\n"
          ]
        }
      ]
    },
    {
      "cell_type": "markdown",
      "metadata": {
        "id": "5PmVmkJ0Lvsj"
      },
      "source": [
        "* p2.3"
      ]
    },
    {
      "cell_type": "code",
      "metadata": {
        "id": "-bTXlwcCLx9I",
        "colab": {
          "base_uri": "https://localhost:8080/",
          "height": 0
        },
        "outputId": "1fb4562c-9023-440d-a3cd-a1bd1989f01f"
      },
      "source": [
        "h = int(input())\n",
        "\n",
        "# 1층, 2층 구분하기 쉽도록 1부터 시작\n",
        "for i in range (1, h + 1) :\n",
        "    print('  ' * (h - i), end=\"\")\n",
        "    for j in range (1, i * 2, 2) :\n",
        "        print(j, end = ' ')\n",
        "    for k in range ((i * 2) - 3 , 0, -2) :\n",
        "        print(k, end = ' ')\n",
        "    print(\"\")"
      ],
      "execution_count": 3,
      "outputs": [
        {
          "output_type": "stream",
          "name": "stdout",
          "text": [
            "4\n",
            "      1 \n",
            "    1 3 1 \n",
            "  1 3 5 3 1 \n",
            "1 3 5 7 5 3 1 \n"
          ]
        }
      ]
    },
    {
      "cell_type": "markdown",
      "metadata": {
        "id": "SmZE2lMiLySG"
      },
      "source": [
        "* p2.4"
      ]
    },
    {
      "cell_type": "code",
      "metadata": {
        "id": "jQGSF5K7LzuZ",
        "colab": {
          "base_uri": "https://localhost:8080/",
          "height": 0
        },
        "outputId": "304500d6-f3b8-46ab-f0f2-5437335c468a"
      },
      "source": [
        "def draw_tree(row, left, right) :\n",
        "    sub = right - left\n",
        "    subb = right - left\n",
        "    for i in range (2 ** row) :\n",
        "        print(\"-\" * sub, end = \"\")\n",
        "        print(\"X\", end = \"\")\n",
        "        print(\"-\" * (sub + 1), end = \"\")\n",
        "    print(\"\")\n",
        "    # print(\"row = \", row)\n",
        "\n",
        "    sub = sub // 2\n",
        "    subb = subb / 2\n",
        "\n",
        "    if subb >= 0.25 :\n",
        "        # print(\"sub = \", sub)\n",
        "        # print(\"subb = \", subb)\n",
        "        draw_tree(row + 1, 0, sub)\n",
        "\n",
        "draw_tree(0, 0, 15)\n"
      ],
      "execution_count": 5,
      "outputs": [
        {
          "output_type": "stream",
          "name": "stdout",
          "text": [
            "---------------X----------------\n",
            "-------X---------------X--------\n",
            "---X-------X-------X-------X----\n",
            "-X---X---X---X---X---X---X---X--\n",
            "X-X-X-X-X-X-X-X-X-X-X-X-X-X-X-X-\n"
          ]
        }
      ]
    },
    {
      "cell_type": "markdown",
      "metadata": {
        "id": "xBecPlT6Lz_A"
      },
      "source": [
        "* p2.5"
      ]
    },
    {
      "cell_type": "code",
      "metadata": {
        "id": "HwNXFDn1L1Ar",
        "colab": {
          "base_uri": "https://localhost:8080/",
          "height": 0
        },
        "outputId": "be2a1482-aef4-45bf-d0be-1dd7d14407c8"
      },
      "source": [
        "class Bag :\n",
        "    item_list = []\n",
        "    def __init__(self, item_list):\n",
        "        self.item_list = item_list\n",
        "\n",
        "    def insert(self, item):\n",
        "        self.item_list.append(item)\n",
        "\n",
        "    def remove(self, item):\n",
        "        self.item_list.remove(item)\n",
        "\n",
        "    def bag(self):\n",
        "        return self.item_list\n",
        "\n",
        "listt = []\n",
        "myBag = Bag(listt)\n",
        "myBag.insert('지갑')\n",
        "myBag.insert('야구공')\n",
        "print('내 가방 속의 물건 : ', myBag.bag())"
      ],
      "execution_count": 2,
      "outputs": [
        {
          "output_type": "stream",
          "name": "stdout",
          "text": [
            "내 가방 속의 물건 :  ['지갑', '야구공']\n"
          ]
        }
      ]
    }
  ]
}