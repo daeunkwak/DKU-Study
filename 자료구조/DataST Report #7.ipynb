{
  "nbformat": 4,
  "nbformat_minor": 0,
  "metadata": {
    "colab": {
      "name": "2021-2-DataST-HW7-곽다은-32200185",
      "provenance": [],
      "collapsed_sections": []
    },
    "kernelspec": {
      "name": "python3",
      "display_name": "Python 3"
    },
    "language_info": {
      "name": "python"
    }
  },
  "cells": [
    {
      "cell_type": "markdown",
      "metadata": {
        "id": "AJ2jp6bcJg2V"
      },
      "source": [
        "＃2021-2 자료구조 7주차 과제 \n",
        "- 마감: 2021.10.18(월요일)\n",
        "- 이름: 곽다은\n",
        "- 학번: 32200185\n",
        "\n",
        "- 과제: 3문제, 각 문제 당 3 점 \n",
        "1. P6.2\n",
        "2. P6.3\n",
        "3. P6.4\n",
        "\n",
        "** 풀지 못한 문제 - 만일 과제의 문제를 다 풀지 못한 경우, 여기에 풀지 못한 번호를 적으시오. \n",
        "\n",
        "\n",
        "\n",
        "## <font color='red' > 과제는 문제에 대한 코딩이 완성되고 테스트를 통해 적절성이 검증된 경우만 점수가 부여되며, 이외 사항에 대해서는 0점 처리. 코드에 에러가 있음에도 불구하고,  과제 앞 부분 미완성 부분에 적시하지 않은 경우 전체 과제를 0점 처리합니다.</font>"
      ]
    },
    {
      "cell_type": "markdown",
      "metadata": {
        "id": "Gag1en13KazR"
      },
      "source": [
        "## 6.2 \n",
        "\n",
        "아래에 코드셀을 만들고, 클래스 myLinkedList 를  문제 지시에 맞게 구현 하오. "
      ]
    },
    {
      "cell_type": "code",
      "metadata": {
        "id": "PzH8IrA3yigA"
      },
      "source": [
        "class Node :\n",
        "  def __init__ (self, elem, link = None) :  # 생성자 -> 디폴트 인수 사용\n",
        "    self.data = elem\n",
        "    self.link = link\n",
        "\n",
        "class myLinkedList :\n",
        "  def __init__(self) :\n",
        "    self.head = None\n",
        "\n",
        "  def isEmpty(self) :\n",
        "    return self.head == None\n",
        "  \n",
        "  def clear(self) :\n",
        "    self.head = None\n",
        "  \n",
        "  def size(self) :\n",
        "    node = self.head\n",
        "    count = 0\n",
        "    while not node == None :\n",
        "      node = node.link\n",
        "      count += 1\n",
        "    return count  \n",
        "\n",
        "  def display(self) :\n",
        "    # print(msg, end = '')\n",
        "    node = self.head\n",
        "    while (node) :\n",
        "      print(node.data, end = ' ')\n",
        "      node = node.link\n",
        "    print()\n",
        "\n",
        "  # pos번째 노드 반환 (head부터 시작하여 순서적으로 찾아가서 해당 노드 반환)\n",
        "  def getNode(self, pos) :\n",
        "    if pos < 0 :\n",
        "      return None\n",
        "    node = self.head;\n",
        "    while pos > 0 and node != None :\n",
        "      node = node.link\n",
        "      pos -= 1\n",
        "    return node\n",
        "\n",
        "  def getEntry(self, pos) :\n",
        "    node = self.getNode(pos)\n",
        "    if node == None :\n",
        "      return None\n",
        "    else :\n",
        "      return node.data\n",
        "\n",
        "  def replace(self, pos, elem) :\n",
        "    node = self.getNode(pos)\n",
        "    if node != None :\n",
        "      node.data = elem\n",
        "  \n",
        "  def find(self, data) :\n",
        "    node = self.head\n",
        "    while node is not None :\n",
        "      if node.data == data :\n",
        "        return node\n",
        "      node = node.link\n",
        "    return node\n",
        "  \n",
        "  def insert(self, pos, elem) :\n",
        "    # print(\"pos : \", pos)\n",
        "    before = self.getNode(pos - 1)\n",
        "    if before == None :   # 맨 앞에 삽입하는 경우\n",
        "      # print(\"Before is None\")\n",
        "      self.head = Node(elem, self.head)\n",
        "    else :    # 중간에 삽입하는 경우\n",
        "      # 노드 생성 -> 바로 다음 노드와 연결 (before.link가 다음 노드를 가리키는 중)\n",
        "      node = Node(elem, before.link)   \n",
        "      # print(\"노드 생성\")\n",
        "      before.link = node   # 전 노드와 연결\n",
        "  \n",
        "  # ***\n",
        "  def delete(self, pos) :\n",
        "    before = self.getNode(pos - 1)  # before 노드를 찾음\n",
        "    if before == None :   \n",
        "      if self.head is not None :\n",
        "        self.head = self.head.link\n",
        "    elif before.link != None :\n",
        "      before.link = before.link.link\n",
        "\n",
        "  # self의 맨 뒤 노드를 찾아서 node.link 를 listt의 head로 걸어주는 작업\n",
        "  def merge(self, listt) :\n",
        "\n",
        "    if (self.head) :\n",
        "      node = self.head\n",
        "      while (node.link) :\n",
        "        node = node.link\n",
        "      node.link = listt.head\n",
        "\n",
        "    listt.clear()\n",
        "    \n",
        "\n"
      ],
      "execution_count": null,
      "outputs": []
    },
    {
      "cell_type": "markdown",
      "metadata": {
        "id": "MPF9N1VNKyYb"
      },
      "source": [
        "아래 테스트 코드를 이용하여, 구현된 merge() 연산을 테스트 하시오. "
      ]
    },
    {
      "cell_type": "code",
      "metadata": {
        "id": "4uu6NNeRjXeU",
        "colab": {
          "base_uri": "https://localhost:8080/"
        },
        "outputId": "f50a9a01-835c-4129-a889-f36c7a3851e9"
      },
      "source": [
        "# test code: DO NOT MODIFY\n",
        "\n",
        "s = myLinkedList()\n",
        "s.insert(0,10)\n",
        "s.insert(1,30)\n",
        "s.insert(2,50)\n",
        "s.insert(3,70)\n",
        "s.insert(4,90)\n",
        "\n",
        "t = myLinkedList()\n",
        "t.insert(0,20)\n",
        "t.insert(1,40)\n",
        "t.insert(2,60)\n",
        "t.insert(3,80)\n",
        "t.insert(4,100)\n",
        "\n",
        "s.merge(t)\n",
        "s.display()\n",
        "\n",
        "# should be 10\n",
        "print(\"s size: \", s.size()) \n",
        "\n",
        "# should be 0 -> check prob. description\n",
        "print(\"t size: \", t.size()) "
      ],
      "execution_count": null,
      "outputs": [
        {
          "output_type": "stream",
          "name": "stdout",
          "text": [
            "10 30 50 70 90 20 40 60 80 100 \n",
            "s size:  10\n",
            "t size:  0\n"
          ]
        }
      ]
    },
    {
      "cell_type": "markdown",
      "metadata": {
        "id": "KVDXivqYWgD6"
      },
      "source": [
        "#6.3 \n"
      ]
    },
    {
      "cell_type": "markdown",
      "metadata": {
        "id": "l_jlkOyfYCeT"
      },
      "source": [
        "\n",
        "아래에 코드셀을 만들고, 셀에 6.3 에서 요구된 사항을 반영하여 myLinkedListQueue 클래스를 구현하시오. 구현하여야 하는 메소드는 교재 209 페이지에 구현된 CircularLinkedQueue 를 참조하여 동일 메소드를 문제에 맞게 변형하여 구현한다. \n",
        "\n"
      ]
    },
    {
      "cell_type": "code",
      "metadata": {
        "id": "CqLOjtL6y2aj"
      },
      "source": [
        "class Node:\n",
        "    def __init__(self, data):\n",
        "        self.data = data\n",
        "        self.link = None\n",
        "\n",
        "\n",
        "class myLinkedListQueue:\n",
        "    def __init__(self):\n",
        "        self.front = self.rear = None\n",
        "\n",
        "    def isEmpty(self):\n",
        "        return self.front == None\n",
        "\n",
        "    def clear(self):\n",
        "        self.front = None\n",
        "    \n",
        "    def peek(self):\n",
        "        if not self.isEmpty():\n",
        "            return self.front.data\n",
        "\n",
        "    def enqueue(self, item):\n",
        "        node = Node(item)\n",
        "        if self.rear == None:\n",
        "            self.front = self.rear = node\n",
        "        self.rear.link = node\n",
        "        self.rear = node\n",
        "\n",
        "    def dequeue(self):\n",
        "        if self.isEmpty():\n",
        "            return -1\n",
        "        node = self.front\n",
        "        self.front = node.link\n",
        "\n",
        "        if self.front == None:\n",
        "            self.rear = None\n",
        "\n",
        "    def size(self):\n",
        "        if self.isEmpty():\n",
        "            return 0\n",
        "        else:\n",
        "            count = 1\n",
        "            node = self.front\n",
        "            while not node == self.rear:\n",
        "                node = node.link\n",
        "                count += 1\n",
        "        return count\n",
        "\n",
        "    def display(self, msg='myLinkedListQueue'):\n",
        "        print(msg, end=' ')\n",
        "        if not self.isEmpty() :\n",
        "            node = self.front.link\n",
        "            print(self.front.data, end = ' ')\n",
        "            while not node == self.rear:\n",
        "                print(node.data, end=' ')\n",
        "                node = node.link\n",
        "            print(node.data, end=' ')\n",
        "        print()\n"
      ],
      "execution_count": null,
      "outputs": []
    },
    {
      "cell_type": "markdown",
      "metadata": {
        "id": "VZE7QAUdYY2k"
      },
      "source": [
        "아래 코드셀에 주어진 코드를 수정하지 않은 상태에서, myLinkedListQueue 클래스를 테스트하시오. "
      ]
    },
    {
      "cell_type": "code",
      "metadata": {
        "id": "T3NJ1CP-Z1IO",
        "colab": {
          "base_uri": "https://localhost:8080/"
        },
        "outputId": "80faf68b-413f-46d9-90de-d690cacb6a8f"
      },
      "source": [
        "# test code: DO NOT MODIFY\n",
        "s = myLinkedListQueue()\n",
        "s.enqueue(10); s.enqueue(20); s.enqueue(30); s.enqueue(50)\n",
        "s.enqueue(60); s.enqueue(70); s.enqueue(80); s.enqueue(90)\n",
        "\n",
        "s.dequeue(); s.dequeue(); s.dequeue()\n",
        "\n",
        "print(\"queue size: \", s.size())\n",
        "s.display()"
      ],
      "execution_count": null,
      "outputs": [
        {
          "output_type": "stream",
          "name": "stdout",
          "text": [
            "queue size:  5\n",
            "myLinkedListQueue 50 60 70 80 90 \n"
          ]
        }
      ]
    },
    {
      "cell_type": "markdown",
      "metadata": {
        "id": "yiB2DksAi5y1"
      },
      "source": [
        "##6.4\n"
      ]
    },
    {
      "cell_type": "markdown",
      "metadata": {
        "id": "cMqLFnjfi7ub"
      },
      "source": [
        "아래에 코드셀을 만들고, 셀에 6.4 에서 요구된 사항을 반영하여 myDoubleLinkedListQueue 클래스를 구현하시오."
      ]
    },
    {
      "cell_type": "code",
      "metadata": {
        "id": "du1KZgC-DCLB"
      },
      "source": [
        "class DNode:\n",
        "    def __init__(self, elem, prev=None, next=None):\n",
        "        self.data = elem\n",
        "        self.prev = prev\n",
        "        self.next = next\n",
        "\n",
        "\n",
        "class myDoubleLinkedListQueue:\n",
        "    def __init__(self):\n",
        "        self.front = None\n",
        "        self.rear = None\n",
        "\n",
        "    def isEmpty(self):\n",
        "        return self.front == None\n",
        "\n",
        "    def clear(self):\n",
        "        self.front = self.front = None\n",
        "\n",
        "    # size, display 연산은 단술연결리스트의 동작과 차이가 없다.\n",
        "    def size(self):\n",
        "        node = self.front\n",
        "        count = 0\n",
        "        while not node == None:\n",
        "            node = node.next\n",
        "            count += 1\n",
        "        return count\n",
        "\n",
        "    def display(self, msg='DoublyLinkedDeque :'):\n",
        "        print(msg, end='')\n",
        "        node = self.front\n",
        "        while not node == None:\n",
        "            print(node.data, end=' ')\n",
        "            node = node.next\n",
        "        print()\n",
        "\n",
        "    def enqueue(self, data):\n",
        "        if self.rear is None :\n",
        "            self.front = DNode(data)\n",
        "            self.rear = self.front\n",
        "        else :\n",
        "            self.rear.next = DNode(data)\n",
        "            self.rear.next.prev = self.rear\n",
        "            self.rear = self.rear.next\n",
        "\n",
        "\n",
        "    def dequeue(self):\n",
        "        if self.front is None :\n",
        "            return None\n",
        "        else :\n",
        "            temp = self.front.data\n",
        "            self.front = self.front.next\n",
        "            self.front.prev = None\n",
        "            return temp"
      ],
      "execution_count": null,
      "outputs": []
    },
    {
      "cell_type": "markdown",
      "metadata": {
        "id": "CppsIX0yjG-P"
      },
      "source": [
        "아래 코드셀에 주어진 코드를 수정하지 않은 상태에서, myDoubleLinkedListQueue 클래스를 테스트하시오."
      ]
    },
    {
      "cell_type": "code",
      "metadata": {
        "id": "TtN9_KX9jL3J",
        "colab": {
          "base_uri": "https://localhost:8080/"
        },
        "outputId": "49c65298-83f7-4f8b-ba93-ad5d79ecb863"
      },
      "source": [
        "# test code: DO NOT MODIFY\n",
        "d = myDoubleLinkedListQueue()\n",
        "d.enqueue(10); d.enqueue(20); d.enqueue(30); d.enqueue(50)\n",
        "d.enqueue(60); d.enqueue(70); d.enqueue(80); d.enqueue(90)\n",
        "\n",
        "d.dequeue(); d.dequeue(); d.dequeue()\n",
        "\n",
        "print(\"queue size: \", d.size())\n",
        "d.display()"
      ],
      "execution_count": null,
      "outputs": [
        {
          "output_type": "stream",
          "name": "stdout",
          "text": [
            "queue size:  5\n",
            "DoublyLinkedDeque :50 60 70 80 90 \n"
          ]
        }
      ]
    }
  ]
}