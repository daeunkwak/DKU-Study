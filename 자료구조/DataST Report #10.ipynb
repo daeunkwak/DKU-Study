{
  "nbformat": 4,
  "nbformat_minor": 0,
  "metadata": {
    "colab": {
      "name": "2021-2-DataST-HW10-곽다은-32200185",
      "provenance": [],
      "collapsed_sections": []
    },
    "kernelspec": {
      "name": "python3",
      "display_name": "Python 3"
    },
    "language_info": {
      "name": "python"
    }
  },
  "cells": [
    {
      "cell_type": "markdown",
      "metadata": {
        "id": "AJ2jp6bcJg2V"
      },
      "source": [
        "＃2021-2 자료구조 10주차 과제 \n",
        "- 마감: 2021.11.8(월요일)\n",
        "- 이름: 곽다은\n",
        "- 학번:32200185\n",
        "\n",
        "- 과제: \n",
        "1. P7.5\n",
        "2. P7.6\n",
        "\n",
        "\n",
        "** 풀지 못한 문제 - 만일 과제의 문제를 다 풀지 못한 경우, 여기에 풀지 못한 번호를 적으시오. \n",
        "\n",
        "\n",
        "## <font color='red' > 과제는 문제에 대한 코딩이 완성되고 테스트를 통해 적절성이 검증된 경우만 점수가 부여되며, 이외 사항에 대해서는 0점 처리. 코드에 에러가 있음에도 불구하고,  과제 앞 부분 미완성 부분에 적시하지 않은 경우 전체 과제를 0점 처리합니다.  </font>"
      ]
    },
    {
      "cell_type": "markdown",
      "metadata": {
        "id": "Gag1en13KazR"
      },
      "source": [
        "# 7.5 "
      ]
    },
    {
      "cell_type": "markdown",
      "metadata": {
        "id": "46ED_gOUuIyE"
      },
      "source": [
        "아래에 코드셀을 만들고, 셀에 클래스 BinarySearchMap을 구현하라. "
      ]
    },
    {
      "cell_type": "code",
      "metadata": {
        "colab": {
          "base_uri": "https://localhost:8080/"
        },
        "id": "wCAx6eQpwZWB",
        "outputId": "be6a6690-e4f6-4f42-d1f5-540eaec50ed7"
      },
      "source": [
        "class Entry:\n",
        "    def __init__(self, key, value):\n",
        "        self.key=key\n",
        "        self.value=value\n",
        "\n",
        "    def __str__(self):\n",
        "        return str(\"%s:%s\"%(self.key, self.value))\n",
        "\n",
        "class BinarySearchMap:\n",
        "    def __init__(self):\n",
        "        self.table=[]\n",
        "    \n",
        "    def size(self):return len(self.table)\n",
        "    def display(self, msg):\n",
        "        print(msg)\n",
        "        for entry in self.table:\n",
        "            print(\" \", entry)\n",
        "    \n",
        "    def binary_search(self, A, key, low, high) :\n",
        "        if (low <= high) :\n",
        "            middle = (low + high) // 2\n",
        "            if key == A[middle].key:\n",
        "                return middle\n",
        "            elif (key < A[middle].key):\n",
        "                return self.binary_search(A, key, low, middle - 1)\n",
        "            else:\n",
        "                return self.binary_search(A, key, middle + 1, high)\n",
        "        return None\n",
        "\n",
        "    def insert(self, key, value):\n",
        "        for idx in range(len(self.table)):\n",
        "            if key < self.table[idx].key:\n",
        "                self.table.insert(idx, Entry(key,value))\n",
        "                return\n",
        "        self.table.append(Entry(key, value))\n",
        "\n",
        "    \n",
        "    def search(self, key):\n",
        "        pos = self.binary_search(self.table, key, 0, self.size() - 1)\n",
        "        if pos is not None: return self.table[pos]\n",
        "        else : \n",
        "          return None\n",
        "\n",
        "\n",
        "    def delete(self, key):\n",
        "        for i in range(self.size()):\n",
        "            if self.table[i].key == key:\n",
        "                self.table.pop(i)\n",
        "                return \n",
        "\n",
        "map = BinarySearchMap()                 \n",
        "map.insert('data', '자료')               \n",
        "map.insert('structure', '구조')\n",
        "map.insert('sequential search', '선형 탐색')\n",
        "map.insert('game', '게임')\n",
        "map.insert('binary search', '이진 탐색')   \n",
        "map.display(\"나의 단어장 : \")         \n",
        "\n",
        "print(\"탐색 : game --> \", map.search('game'))   \n",
        "print(\"탐색 : over --> \", map.search('over'))\n",
        "print(\"탐색 : data --> \", map.search('data'))\n",
        "\n",
        "map.delete('game')                  \n",
        "map.display(\"나의 단어장 : \")"
      ],
      "execution_count": null,
      "outputs": [
        {
          "output_type": "stream",
          "name": "stdout",
          "text": [
            "나의 단어장 : \n",
            "  binary search:이진 탐색\n",
            "  data:자료\n",
            "  game:게임\n",
            "  sequential search:선형 탐색\n",
            "  structure:구조\n",
            "탐색 : game -->  game:게임\n",
            "탐색 : over -->  None\n",
            "탐색 : data -->  data:자료\n",
            "나의 단어장 : \n",
            "  binary search:이진 탐색\n",
            "  data:자료\n",
            "  sequential search:선형 탐색\n",
            "  structure:구조\n"
          ]
        }
      ]
    },
    {
      "cell_type": "markdown",
      "metadata": {
        "id": "jOYIHQslsd0A"
      },
      "source": [
        "아래의 코드를 이용하여 테스트를 수행하시오. "
      ]
    },
    {
      "cell_type": "code",
      "metadata": {
        "id": "HFyp2IcEsi4c",
        "colab": {
          "base_uri": "https://localhost:8080/"
        },
        "outputId": "15ccd09a-8235-4b34-e566-619d0528c8d5"
      },
      "source": [
        "map = BinarySearchMap()\t\t\t\t\t\t\n",
        "map.insert('data', '자료')\t\t\t\t\t\n",
        "map.insert('structure', '구조')\n",
        "map.insert('sequential search', '선형 탐색')\n",
        "map.insert('game', '게임')\n",
        "map.insert('binary search', '이진 탐색')\t\n",
        "map.display(\"나의 단어장: \")\t\t\t\n",
        "\n",
        "print(\"탐색:game --> \", map.search('game'))\t\n",
        "print(\"탐색:over --> \", map.search('over'))\n",
        "print(\"탐색:data --> \", map.search('data'))\n",
        "\n",
        "map.delete('game')\t\t\t\t\t\t\n",
        "map.display(\"나의 단어장: \")"
      ],
      "execution_count": null,
      "outputs": [
        {
          "output_type": "stream",
          "name": "stdout",
          "text": [
            "나의 단어장: \n",
            "  binary search:이진 탐색\n",
            "  data:자료\n",
            "  game:게임\n",
            "  sequential search:선형 탐색\n",
            "  structure:구조\n",
            "탐색:game -->  game:게임\n",
            "탐색:over -->  None\n",
            "탐색:data -->  data:자료\n",
            "나의 단어장: \n",
            "  binary search:이진 탐색\n",
            "  data:자료\n",
            "  sequential search:선형 탐색\n",
            "  structure:구조\n"
          ]
        }
      ]
    },
    {
      "cell_type": "markdown",
      "metadata": {
        "id": "w9rXA9hpu8KL"
      },
      "source": [
        "##7.6"
      ]
    },
    {
      "cell_type": "markdown",
      "metadata": {
        "id": "c7TV7nI3vG4n"
      },
      "source": [
        "아래에 코드셀을 만들고, 셀에 클래스 LinearProbingHashMap 을 구현하라."
      ]
    },
    {
      "cell_type": "code",
      "metadata": {
        "colab": {
          "base_uri": "https://localhost:8080/"
        },
        "id": "DeXCEEcVwaS-",
        "outputId": "4cb0668c-4ed2-4833-b290-d1e222f54794"
      },
      "source": [
        "class Entry:\n",
        "  def __init__(self, key, value):\n",
        "    self.key = key\n",
        "    self.value = value\n",
        "\n",
        "  def __str__(self):\n",
        "    return str(\"%s:%s\"%(self.key, self.value))\n",
        "\n",
        "class LinearProbingHashMap():                  \n",
        "  def __init__(self, M):\n",
        "      self.table = [None] * M         \n",
        "      self.M = M\n",
        "\n",
        "  def hashFn(self, key) :            \n",
        "      sum = 0\n",
        "      for c in key :               \n",
        "          sum = sum +  ord(c)         \n",
        "      return sum % self.M\n",
        "\n",
        "  def insert(self, key, value) :      \n",
        "    index = self.hashFn(key)\n",
        "    if self.table[index] == None:\n",
        "      self.table[index] = Entry(key, value)\n",
        "      return\n",
        "\n",
        "    for i in range(len(self.table)):\n",
        "      if self.table[index] != None:\n",
        "        if index == (len(self.table) - 1):\n",
        "            index = 0\n",
        "        else:\n",
        "            index += 1\n",
        "\n",
        "        if self.table[index] == None:\n",
        "          self.table[index] = Entry(key, value)\n",
        "          return\n",
        "      \n",
        "  def search(self, key):\n",
        "    index = self.hashFn(key)\n",
        "    for i in range(len(self.table)):\n",
        "      if self.table[index] != None:\n",
        "        if self.table[index].key == key:\n",
        "            return self.table[index]\n",
        "        else:\n",
        "          if index == (len(self.table) -1) :\n",
        "            index = 0\n",
        "          else:\n",
        "            index += 1\n",
        "      else:\n",
        "          if index == (len(self.table) -1) :\n",
        "            index = 0\n",
        "          else:\n",
        "            index += 1\n",
        " \n",
        "  def delete(self, key) :\n",
        "    index = self.hashFn(key)\n",
        "    for i in range(len(self.table)) :\n",
        "      if self.table[index] != None :\n",
        "        if self.table[index].key == key :\n",
        "            self.table[index] = None\n",
        "        else :\n",
        "          if index == (len(self.table) -1) :\n",
        "            index = 0\n",
        "          else :\n",
        "            index += 1\n",
        "      else :\n",
        "          if index == (len(self.table) -1) :\n",
        "            index = 0\n",
        "          else:\n",
        "            index += 1\n",
        "\n",
        "  def display(self, msg) :\n",
        "      print(msg)\n",
        "\n",
        "      for i in range(len(self.table)) :\n",
        "        if self.table[i] is not None :\n",
        "          print(\"[%2d] -> \"%i, end = '')\n",
        "          print(self.table[i], end = ' -> ')\n",
        "          print()\n",
        "\n",
        "\n",
        "hashmap_size = 30\n",
        "map = LinearProbingHashMap(hashmap_size)                  \n",
        "map.insert('data', '자료')               \n",
        "map.insert('structure', '구조')\n",
        "map.insert('sequential search', '선형 탐색')\n",
        "map.insert('game', '게임')\n",
        "map.insert('binary search', '이진 탐색')   \n",
        "map.display(\"나의 단어장 : \")         \n",
        "\n",
        "print(\"탐색 : game --> \", map.search('game'))   \n",
        "print(\"탐색 : over --> \", map.search('over'))\n",
        "print(\"탐색 : data --> \", map.search('data'))\n",
        "\n",
        "map.delete('game')                  \n",
        "map.display(\"나의 단어장 : \")"
      ],
      "execution_count": null,
      "outputs": [
        {
          "output_type": "stream",
          "name": "stdout",
          "text": [
            "나의 단어장 : \n",
            "[ 5] -> sequential search:선형 탐색 -> \n",
            "[17] -> binary search:이진 탐색 -> \n",
            "[19] -> structure:구조 -> \n",
            "[20] -> data:자료 -> \n",
            "[21] -> game:게임 -> \n",
            "탐색 : game -->  game:게임\n",
            "탐색 : over -->  None\n",
            "탐색 : data -->  data:자료\n",
            "나의 단어장 : \n",
            "[ 5] -> sequential search:선형 탐색 -> \n",
            "[17] -> binary search:이진 탐색 -> \n",
            "[19] -> structure:구조 -> \n",
            "[20] -> data:자료 -> \n"
          ]
        }
      ]
    },
    {
      "cell_type": "markdown",
      "metadata": {
        "id": "_PRMFZEKvdz7"
      },
      "source": [
        "아래의 코드를 이용하여 테스트를 수행하시오.해시맵 사이즈는 임의로 적용하여 테스트 하세요. "
      ]
    },
    {
      "cell_type": "code",
      "metadata": {
        "id": "znE830aqwHcn",
        "colab": {
          "base_uri": "https://localhost:8080/"
        },
        "outputId": "bc83db9e-a2a1-46fb-bb2b-f07ceea82232"
      },
      "source": [
        "# 다음의 해시맵 사이즈는 임의로 적용하여 테스트 하세요. \n",
        "\n",
        "hashmap_size = 30\n",
        "map = LinearProbingHashMap(hashmap_size)\t\t\t\t\t\t\n",
        "map.insert('data', '자료')\t\t\t\t\t\n",
        "map.insert('structure', '구조')\n",
        "map.insert('sequential search', '선형 탐색')\n",
        "map.insert('game', '게임')\n",
        "map.insert('binary search', '이진 탐색')\t\n",
        "map.display(\"나의 단어장: \")\t\t\t\n",
        "\n",
        "print(\"탐색:game --> \", map.search('game'))\t\n",
        "print(\"탐색:over --> \", map.search('over'))\n",
        "print(\"탐색:data --> \", map.search('data'))\n",
        "\n",
        "map.delete('game')\t\t\t\t\t\t\n",
        "map.display(\"나의 단어장: \")"
      ],
      "execution_count": null,
      "outputs": [
        {
          "output_type": "stream",
          "name": "stdout",
          "text": [
            "나의 단어장: \n",
            "[ 5] -> sequential search:선형 탐색 -> \n",
            "[17] -> binary search:이진 탐색 -> \n",
            "[19] -> structure:구조 -> \n",
            "[20] -> data:자료 -> \n",
            "[21] -> game:게임 -> \n",
            "탐색:game -->  game:게임\n",
            "탐색:over -->  None\n",
            "탐색:data -->  data:자료\n",
            "나의 단어장: \n",
            "[ 5] -> sequential search:선형 탐색 -> \n",
            "[17] -> binary search:이진 탐색 -> \n",
            "[19] -> structure:구조 -> \n",
            "[20] -> data:자료 -> \n"
          ]
        }
      ]
    }
  ]
}