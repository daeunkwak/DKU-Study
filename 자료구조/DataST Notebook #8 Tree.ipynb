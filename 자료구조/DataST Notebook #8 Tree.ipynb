{
  "nbformat": 4,
  "nbformat_minor": 0,
  "metadata": {
    "colab": {
      "name": "DataST Notebook #8 Tree",
      "provenance": []
    },
    "kernelspec": {
      "name": "python3",
      "display_name": "Python 3"
    },
    "language_info": {
      "name": "python"
    }
  },
  "cells": [
    {
      "cell_type": "markdown",
      "metadata": {
        "id": "PS9niHRMfYAF"
      },
      "source": [
        "## Ch8. Tree\n",
        "\n",
        "#### 스택을 이용한 전위 순회 방법   \n",
        "* 모든 노드를 push, 방문할 노드를 pop을 통해 배정\n",
        "* 스택에 자식 순서를 넣는 순서 -> 오른쪽 자식을 나중에 처리 -> 먼저 push"
      ]
    },
    {
      "cell_type": "code",
      "metadata": {
        "id": "066BT7f-f0ay"
      },
      "source": [
        "def preorderIterative(root) :\n",
        "  if root is None :\n",
        "    return\n",
        "  \n",
        "  stack = deque()\n",
        "  stack.append(root)\n",
        "\n",
        "  while stack :\n",
        "    curr = stack.pop()\n",
        "    print(curr.data, end = ' ')\n",
        "\n",
        "    # push the right child of the popped node into the stack\n",
        "    if curr.right :\n",
        "      stack.append(curr.right)\n",
        "    \n",
        "    # push the left child of the popped node into the stack\n",
        "    if curr.left :\n",
        "      stack.append(curr.left)\n",
        "    \n",
        "# LIFO order -> the right child must be pushed first so that the left child is processed first"
      ],
      "execution_count": null,
      "outputs": []
    },
    {
      "cell_type": "markdown",
      "metadata": {
        "id": "2BeROGaSf0-1"
      },
      "source": [
        "#### 개선된 스택을 이용한 전위 순회 방법\n",
        "* 오른쪽 자식만을 스택에 넣어서 수행   \n",
        "* 오른쪽 노드를 스택에 집어넣고 바로 왼쪽 순회\n",
        "* V -> L -> R\n",
        "* 부모 -> 왼쪽 서브트리 -> 오른쪽 서브트리"
      ]
    },
    {
      "cell_type": "code",
      "metadata": {
        "id": "Vw_l1nDejbZg"
      },
      "source": [
        "def preorderIterative(root) :\n",
        "  if root is None :\n",
        "    return\n",
        "  \n",
        "  stack = deque()\n",
        "  stack.append(root)\n",
        "\n",
        "  curr = root\n",
        "\n",
        "  while stack :\n",
        "    # print current node and push its right child to the stack\n",
        "    # before moving to its left child\n",
        "    if curr :\n",
        "      print(curr.data, end = ' ')\n",
        "\n",
        "      if currr.right :\n",
        "        stack.append(curr.right)\n",
        "      \n",
        "      curr = curr.left\n",
        "    \n",
        "    # if the current node is None, pop a node from the stack\n",
        "    # -> set the current node to the popped node\n",
        "    else :\n",
        "      curr = stack.pop()"
      ],
      "execution_count": null,
      "outputs": []
    },
    {
      "cell_type": "markdown",
      "metadata": {
        "id": "cnVLVKvGlHwA"
      },
      "source": [
        "##### 중위 순회\n",
        "* 왼쪽 서브트리 -> 루트 -> 오른쪽 서브트리"
      ]
    },
    {
      "cell_type": "code",
      "metadata": {
        "id": "LEhzObHklOir"
      },
      "source": [
        "def inorderIterative(root) :\n",
        "  stack = deque()\n",
        "  curr = root()\n",
        "\n",
        "  while stack or curr :\n",
        "    # if current node exists -> push it into the stack\n",
        "    # -> move to its left child\n",
        "    if curr :\n",
        "      stack.append(curr)\n",
        "      curr = curr.left\n",
        "      \n",
        "    else :\n",
        "      # if furrent node is none -> pop an element from the stack\n",
        "      # -> finally set the current node to its right child\n",
        "      curr = stack.pop()\n",
        "      print(curr.data, end = ' ')\n",
        "\n",
        "      curr = curr.right"
      ],
      "execution_count": null,
      "outputs": []
    },
    {
      "cell_type": "markdown",
      "metadata": {
        "id": "nQFaVDRJnRn5"
      },
      "source": [
        "#### 후위 순회\n",
        "* 왼쪽 서브트리 -> 오른쪽 서브트리 -> 루트"
      ]
    },
    {
      "cell_type": "code",
      "metadata": {
        "id": "onfFusJJnVYM"
      },
      "source": [
        "def postorderIterative(root) :\n",
        "  stack = deque()  # 순회용\n",
        "  stack.append(root)\n",
        "\n",
        "  out = deque()    # 출력용\n",
        "\n",
        "  while stack :\n",
        "    curr = stack.pop()\n",
        "    out.append(curr.data)\n",
        "\n",
        "    # left, right 자식 있으면 push\n",
        "    if curr.left :\n",
        "      stack.append(curr.left)\n",
        "    if curr.right :\n",
        "      stack.append(curr.right)\n",
        "  \n",
        "  while out :\n",
        "    print(out.pop(), end = ' ')"
      ],
      "execution_count": null,
      "outputs": []
    },
    {
      "cell_type": "markdown",
      "metadata": {
        "id": "-uTKF28zrxnU"
      },
      "source": [
        "#### 레벨 순회\n",
        "* 노드를 레벨 순으로 검사하는 순회방법\n",
        "* 큐 사용해 구현, 순환 사용x"
      ]
    },
    {
      "cell_type": "code",
      "metadata": {
        "id": "8s9Nz6jvsGeO"
      },
      "source": [
        "def levelorder(root) :\n",
        "  queue = CircularQueue()\n",
        "  queue.enqueue(root)\n",
        "\n",
        "  # 맨앞 노드 꺼냄 -> 왼/오른쪽 자식 노드 큐에 삽입\n",
        "  while not queue.isEmpty() :\n",
        "    n = queue.dequeue()\n",
        "    if n is not None :\n",
        "      print(n.data, end = ' ')\n",
        "      queue.enqueue(n.left)\n",
        "      queue.enqueue(n.right)"
      ],
      "execution_count": null,
      "outputs": []
    },
    {
      "cell_type": "markdown",
      "metadata": {
        "id": "4ZzF3YE-PkUG"
      },
      "source": [
        "* 레벨 순회 재귀적 알고리즘 - 그래프 순회"
      ]
    },
    {
      "cell_type": "code",
      "metadata": {
        "id": "LtsFQeu2Poh0"
      },
      "source": [
        "# perfotm BFS recursively on the graph\n",
        "def recursiveBFS(graph, q, discovered) :\n",
        "  if not q :\n",
        "    return\n",
        "  \n",
        "  # dequeue front node\n",
        "  v = q.popleft()\n",
        "  print(v, end = ' ')\n",
        "\n",
        "  # do for every edge 'v -> u'\n",
        "  for u in graph.adjList[v] :\n",
        "    if not discovered[u] :\n",
        "      # 방문처리\n",
        "      discovered[u] = True\n",
        "      q.append(u)\n",
        "  \n",
        "  recursiveBFS(graph, q, discovered)\n"
      ],
      "execution_count": null,
      "outputs": []
    },
    {
      "cell_type": "markdown",
      "metadata": {
        "id": "X501VxS5Rcro"
      },
      "source": [
        "#### 모르스 코드 결정트리\n",
        "* 점 -> 왼쪽\n",
        "* 선 -> 오른쪽"
      ]
    },
    {
      "cell_type": "code",
      "metadata": {
        "id": "bjhQ4_zURe3d"
      },
      "source": [
        "# 모르스 코드 테이블 제공\n",
        "def make_morse_tree() :\n",
        "  root = TNode(None, None, None)\n",
        "  for tp in table :\n",
        "    code = tp[1]\n",
        "    node = root\n",
        "    for c in code :\n",
        "      if c == '.' :               # 왼쪽으로 이동\n",
        "        if node.left == None :    # 비어있으면 빈 노드 생성\n",
        "          node.left = TNode(None, None, None)\n",
        "        node = node.left          # 그쪽으로 이동\n",
        "      elif c == '-' :             # 오른쪽으로 이동\n",
        "        if node.right == None :   # 비어있으면 빈 노드 생성\n",
        "          node.right = TNode(None, None, None)\n",
        "        node = node.right         # 그쪽으로 이동\n",
        "      \n",
        "      node.data = tp[0]\n",
        "    return root"
      ],
      "execution_count": null,
      "outputs": []
    }
  ]
}